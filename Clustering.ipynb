{
 "cells": [
  {
   "cell_type": "markdown",
   "metadata": {
    "id": "WScOpemDA2LE"
   },
   "source": [
    "\n",
    "\n",
    "# Введение. Постановка задачи\n",
    "\n",
    "Задача: сегментировать покупателей по типу потребления, чтобы на них настроить рассылку. Выделить кластеры клиентов, выделяем категории товаров с учетом сезонности.\n",
    "\n",
    "\n",
    "Рассматриваем природу данных, основные особенности датасета: количество строк, количество уникальных айди, названия столбцов и формат данных.\n",
    "\n",
    "\n",
    "**Бизнес-задачи**\n",
    "\n",
    "* Выявить паттерны поведения клиентов, определить сегменты для рассылки.\n",
    "* Дополнительно: предложить возможные акции и предложения для лояльных покупателей, материалы для маркетингового отдела.\n",
    "\n",
    "\n",
    "**Этапы работы и применяемые методы**\n",
    "\n",
    "\n",
    "* Знакомство и чистка данных, приведение к нужному типу, выявление аномалий и дубликатов\n",
    "* Анализ продуктов и покупателей, визуализация данных\n",
    "* Расчёт затрат на популярные продукты исходя из исторических данных и наблюдений\n",
    "\n",
    "\n",
    "***Декомпозиция* Содержание с ссылками на разделы**\n",
    "\n",
    "- Знакомство с данными, чистка, приведение к форматам\n",
    "\n",
    "- Исследовательский анализ данных\n",
    "\n",
    "  - Выявление аномалий\n",
    "\n",
    "- Кластеризация KMeans\n",
    "\n",
    "- Финальные наблюдения\n",
    "\n",
    "**Выводы исследования**\n",
    "\n",
    "*Вынесла сюда для удобства*\n",
    "\n",
    "\n",
    "Финальный датасет для коллег из CRM `segmentationdatabase`.\n",
    "\n",
    "Датасет для Дашборда `normcustomers`.\n",
    "\n",
    "**Наблюдение по очищенным данным**\n",
    "\n",
    "Три четверти покупателей делают 1-2 заказа, чаще 1, и 2 покупки в заказе. Три четверти покупателей делают заказ до 1012 руб. Более 6772 руб. — аномальное значение чека.\n",
    "\n",
    "В среднем 4 покупки. Максимальное кол-во заказов — 126, максимальная выручка с 1 клиента 129 778 руб. максимальное число позиций в заказе 1000.\n",
    "\n",
    "Доля аномального количества позиций в заказе (более 51) 0.331%, что составляет 8.51% годовой выручки. Доля аномального числа закупок (более 3) 0.992%, что составляет 7.5% годовой выручки. Количество аномальных покупателей 1.03% и они принесли 17.0% годовой выручки.\n",
    "\n",
    "**Бенчмарк**\n",
    "\n",
    "Отсекаем более 7 заказов в год. Дополнительные фильтры (99% кв.): чек не более 6772 рубля и менее 1000 товарных единиц.\n",
    "\n",
    "**Кластеризация**\n",
    "\n",
    "\n",
    "Кластер два увеличил количество заказов по категории домохозяйства к концу октября 2019 года. Им можно рассылать предложения с акциями по категории товаров housekeeping (лучше, конечно, ещё подразобрать эту категорию).\n",
    "Кластер 1 равномерно и регулярно делает закупки по товарам housekeeping. Им можно делать рассылку по новинкам в категории housekeeping и реже kitchen.\n",
    "\n",
    "Кластер 0 активно и постоянно покупает товары для хозяйства и дизайна, сезонно проявляет сильный интерес к елкам в Новый год и к сезонным растениям к концу лета. В остальное время проявляет интерес к кухонной утвари и дизайну с падением интереса в летний период. Так что можно круглогодично присылать новинки по housekeeping, зимой до середины весны про кухонную утварь, к лету и НГ — про сезонные новинки.\n",
    "\n",
    "\n",
    "**Тестирование**\n",
    "\n",
    "Распределение стоимостей заказов в кластерах ненормальное, выборки небольшие. Применён критерий Манна-Уитни.\n",
    "\n",
    "При сравнении кластеров 0 и 2 по таблице segmentationsdatabase есть основания считать, что кластеры 0 и 2 имеют стат.значимые отличия по параметру стоимости чека за заказ. Были сравнены все стоимости попавших в базу заказов.\n",
    "\n",
    "При сравнении кластеров 0-1-2 по сводной таблице clusterwise ни одно из p-values 0,4; 1; 0,2 не меньше threshold в 0,05, у нас нет оснований отвергнуть гипотезу, что группы различаются. У нас нет достаточных доказательств, чтобы сказать, что истинные средние значения выборок. Были сравнены суммарные значения параметров кластеров.\n",
    "\n",
    "**Дальнейшие улучшения**\n",
    "\n",
    "В будущем можно лучше разобрать тематики, в частности в том, что касается растений и улучшить обработку данных. Пока деприоритизировала."
   ]
  },
  {
   "cell_type": "markdown",
   "metadata": {
    "id": "lR4MIcCaA2OC"
   },
   "source": [
    "# Знакомство с данными\n"
   ]
  },
  {
   "cell_type": "code",
   "execution_count": 1,
   "metadata": {
    "colab": {
     "base_uri": "https://localhost:8080/"
    },
    "id": "m8w6lofavIld",
    "outputId": "66dff832-02fd-4c28-fdb5-ac2202639b5b"
   },
   "outputs": [
    {
     "name": "stdout",
     "output_type": "stream",
     "text": [
      "Requirement already satisfied: seaborn==0.11.0 in /opt/conda/lib/python3.9/site-packages (0.11.0)\n",
      "Requirement already satisfied: numpy>=1.15 in /opt/conda/lib/python3.9/site-packages (from seaborn==0.11.0) (1.21.1)\n",
      "Requirement already satisfied: scipy>=1.0 in /opt/conda/lib/python3.9/site-packages (from seaborn==0.11.0) (1.9.1)\n",
      "Requirement already satisfied: matplotlib>=2.2 in /opt/conda/lib/python3.9/site-packages (from seaborn==0.11.0) (3.3.4)\n",
      "Requirement already satisfied: pandas>=0.23 in /opt/conda/lib/python3.9/site-packages (from seaborn==0.11.0) (1.2.4)\n",
      "Requirement already satisfied: kiwisolver>=1.0.1 in /opt/conda/lib/python3.9/site-packages (from matplotlib>=2.2->seaborn==0.11.0) (1.4.4)\n",
      "Requirement already satisfied: pillow>=6.2.0 in /opt/conda/lib/python3.9/site-packages (from matplotlib>=2.2->seaborn==0.11.0) (8.4.0)\n",
      "Requirement already satisfied: cycler>=0.10 in /opt/conda/lib/python3.9/site-packages (from matplotlib>=2.2->seaborn==0.11.0) (0.11.0)\n",
      "Requirement already satisfied: pyparsing!=2.0.4,!=2.1.2,!=2.1.6,>=2.0.3 in /opt/conda/lib/python3.9/site-packages (from matplotlib>=2.2->seaborn==0.11.0) (2.4.7)\n",
      "Requirement already satisfied: python-dateutil>=2.1 in /opt/conda/lib/python3.9/site-packages (from matplotlib>=2.2->seaborn==0.11.0) (2.8.1)\n",
      "Requirement already satisfied: pytz>=2017.3 in /opt/conda/lib/python3.9/site-packages (from pandas>=0.23->seaborn==0.11.0) (2021.1)\n",
      "Requirement already satisfied: six>=1.5 in /opt/conda/lib/python3.9/site-packages (from python-dateutil>=2.1->matplotlib>=2.2->seaborn==0.11.0) (1.16.0)\n",
      "Requirement already satisfied: bioinfokit in /opt/conda/lib/python3.9/site-packages (2.1.0)\n",
      "Requirement already satisfied: matplotlib in /opt/conda/lib/python3.9/site-packages (from bioinfokit) (3.3.4)\n",
      "Requirement already satisfied: tabulate in /opt/conda/lib/python3.9/site-packages (from bioinfokit) (0.9.0)\n",
      "Requirement already satisfied: scikit-learn in /opt/conda/lib/python3.9/site-packages (from bioinfokit) (0.24.1)\n",
      "Requirement already satisfied: statsmodels in /opt/conda/lib/python3.9/site-packages (from bioinfokit) (0.13.2)\n",
      "Requirement already satisfied: textwrap3 in /opt/conda/lib/python3.9/site-packages (from bioinfokit) (0.9.2)\n",
      "Requirement already satisfied: scipy in /opt/conda/lib/python3.9/site-packages (from bioinfokit) (1.9.1)\n",
      "Requirement already satisfied: seaborn in /opt/conda/lib/python3.9/site-packages (from bioinfokit) (0.11.0)\n",
      "Requirement already satisfied: pandas in /opt/conda/lib/python3.9/site-packages (from bioinfokit) (1.2.4)\n",
      "Requirement already satisfied: matplotlib-venn in /opt/conda/lib/python3.9/site-packages (from bioinfokit) (0.11.7)\n",
      "Requirement already satisfied: adjustText in /opt/conda/lib/python3.9/site-packages (from bioinfokit) (0.7.3)\n",
      "Requirement already satisfied: numpy in /opt/conda/lib/python3.9/site-packages (from bioinfokit) (1.21.1)\n",
      "Requirement already satisfied: python-dateutil>=2.1 in /opt/conda/lib/python3.9/site-packages (from matplotlib->bioinfokit) (2.8.1)\n",
      "Requirement already satisfied: pyparsing!=2.0.4,!=2.1.2,!=2.1.6,>=2.0.3 in /opt/conda/lib/python3.9/site-packages (from matplotlib->bioinfokit) (2.4.7)\n",
      "Requirement already satisfied: pillow>=6.2.0 in /opt/conda/lib/python3.9/site-packages (from matplotlib->bioinfokit) (8.4.0)\n",
      "Requirement already satisfied: kiwisolver>=1.0.1 in /opt/conda/lib/python3.9/site-packages (from matplotlib->bioinfokit) (1.4.4)\n",
      "Requirement already satisfied: cycler>=0.10 in /opt/conda/lib/python3.9/site-packages (from matplotlib->bioinfokit) (0.11.0)\n",
      "Requirement already satisfied: six>=1.5 in /opt/conda/lib/python3.9/site-packages (from python-dateutil>=2.1->matplotlib->bioinfokit) (1.16.0)\n",
      "Requirement already satisfied: pytz>=2017.3 in /opt/conda/lib/python3.9/site-packages (from pandas->bioinfokit) (2021.1)\n",
      "Requirement already satisfied: threadpoolctl>=2.0.0 in /opt/conda/lib/python3.9/site-packages (from scikit-learn->bioinfokit) (3.1.0)\n",
      "Requirement already satisfied: joblib>=0.11 in /opt/conda/lib/python3.9/site-packages (from scikit-learn->bioinfokit) (1.1.0)\n",
      "Requirement already satisfied: packaging>=21.3 in /opt/conda/lib/python3.9/site-packages (from statsmodels->bioinfokit) (21.3)\n",
      "Requirement already satisfied: patsy>=0.5.2 in /opt/conda/lib/python3.9/site-packages (from statsmodels->bioinfokit) (0.5.2)\n"
     ]
    }
   ],
   "source": [
    "import numpy as np\n",
    "import pandas as pd\n",
    "!pip install seaborn==0.11.0\n",
    "!pip install bioinfokit\n",
    "from scipy.stats import f_oneway\n",
    "from statsmodels.formula.api import ols\n",
    "from bioinfokit.analys import stat\n",
    "from datetime import datetime\n",
    "import scipy.stats as stats\n",
    "from scipy.stats import mannwhitneyu\n",
    "import plotly\n",
    "import plotly.express as px\n",
    "from plotly import graph_objects as go\n",
    "import seaborn as sns\n",
    "import matplotlib.pyplot as plt\n",
    "import datetime as dt\n",
    "from mpl_toolkits.mplot3d import Axes3D\n",
    "from sklearn.preprocessing import StandardScaler\n",
    "from sklearn.cluster import KMeans\n",
    "from scipy.cluster.hierarchy import dendrogram, linkage\n",
    "import scipy.stats as stats\n",
    "#from yellowbrick.cluster import KElbowVisualizer, SilhouetteVisualizer\n",
    "from sklearn.cluster import KMeans\n",
    "pd.options.display.float_format = '{:.2f}'.format"
   ]
  },
  {
   "cell_type": "code",
   "execution_count": 2,
   "metadata": {
    "colab": {
     "base_uri": "https://localhost:8080/"
    },
    "id": "C-LYniLCvayV",
    "outputId": "598b2f29-67dc-43b3-86d4-738b12ab937c"
   },
   "outputs": [
    {
     "name": "stdout",
     "output_type": "stream",
     "text": [
      "Исходные данные содержат:  Столбцы: Index(['date', 'customer_id', 'order_id', 'product', 'quantity', 'price'], dtype='object') RangeIndex(start=0, stop=6737, step=1)\n",
      "<class 'pandas.core.frame.DataFrame'>\n",
      "RangeIndex: 6737 entries, 0 to 6736\n",
      "Data columns (total 6 columns):\n",
      " #   Column       Non-Null Count  Dtype  \n",
      "---  ------       --------------  -----  \n",
      " 0   date         6737 non-null   int64  \n",
      " 1   customer_id  6737 non-null   object \n",
      " 2   order_id     6737 non-null   int64  \n",
      " 3   product      6737 non-null   object \n",
      " 4   quantity     6737 non-null   int64  \n",
      " 5   price        6737 non-null   float64\n",
      "dtypes: float64(1), int64(3), object(2)\n",
      "memory usage: 315.9+ KB\n",
      "None\n"
     ]
    }
   ],
   "source": [
    "try:\n",
    "    data = pd.read_csv('/content/ecommerce_dataset.csv')\n",
    "except:\n",
    "    data = pd.read_csv('/datasets/ecommerce_dataset.csv')\n",
    "\n",
    "print('Исходные данные содержат: ', \n",
    "      'Столбцы: {}'.format(data.columns), data.index)\n",
    "print(data.info())"
   ]
  },
  {
   "cell_type": "code",
   "execution_count": 3,
   "metadata": {
    "colab": {
     "base_uri": "https://localhost:8080/",
     "height": 368
    },
    "id": "s08hxh_Ctfhn",
    "outputId": "74b2894c-da75-4357-8ab6-abea154c69b3"
   },
   "outputs": [
    {
     "data": {
      "text/plain": [
       "<AxesSubplot:>"
      ]
     },
     "execution_count": 3,
     "metadata": {},
     "output_type": "execute_result"
    },
    {
     "data": {
      "image/png": "[encoded data removed]",
      "text/plain": [
       "<Figure size 432x288 with 2 Axes>"
      ]
     },
     "metadata": {
      "needs_background": "light"
     },
     "output_type": "display_data"
    }
   ],
   "source": [
    "cols =data.columns\n",
    "sns.heatmap(data[cols].isnull(), cmap='viridis')"
   ]
  },
  {
   "cell_type": "code",
   "execution_count": 4,
   "metadata": {
    "colab": {
     "base_uri": "https://localhost:8080/",
     "height": 368
    },
    "id": "P8rcvKoN1a9V",
    "outputId": "c1e7744a-f32a-4eeb-f986-952624027299"
   },
   "outputs": [
    {
     "data": {
      "text/plain": [
       "<AxesSubplot:>"
      ]
     },
     "execution_count": 4,
     "metadata": {},
     "output_type": "execute_result"
    },
    {
     "data": {
      "image/png": "[encoded data removed]",
      "text/plain": [
       "<Figure size 432x288 with 2 Axes>"
      ]
     },
     "metadata": {
      "needs_background": "light"
     },
     "output_type": "display_data"
    }
   ],
   "source": [
    "sns.heatmap(data[cols].isna(), cmap='viridis')"
   ]
  },
  {
   "cell_type": "code",
   "execution_count": 5,
   "metadata": {
    "colab": {
     "base_uri": "https://localhost:8080/"
    },
    "id": "EpwaYX9ft1zU",
    "outputId": "9914d865-5e9a-46df-d0dd-2c447d95b1ea"
   },
   "outputs": [
    {
     "data": {
      "text/plain": [
       "customer_id    0\n",
       "order_id       0\n",
       "product        0\n",
       "quantity       0\n",
       "price          0\n",
       "dtype: int64"
      ]
     },
     "execution_count": 5,
     "metadata": {},
     "output_type": "execute_result"
    }
   ],
   "source": [
    "data.drop(columns = 'date').isna().sum()"
   ]
  },
  {
   "cell_type": "code",
   "execution_count": 6,
   "metadata": {
    "colab": {
     "base_uri": "https://localhost:8080/"
    },
    "id": "lN6Mk47xXJ_S",
    "outputId": "12cb97b8-8987-4b98-8c39-b9877ee87d5c"
   },
   "outputs": [
    {
     "data": {
      "text/plain": [
       "0"
      ]
     },
     "execution_count": 6,
     "metadata": {},
     "output_type": "execute_result"
    }
   ],
   "source": [
    "#Исправляю тип данных\n",
    "data['date'] = pd.to_datetime(data['date'], format='%Y%m%d%H')\n",
    "data['date'] = data['date'].dt.strftime('%Y-%m-%d')\n",
    "sum(data['date'].isna())"
   ]
  },
  {
   "cell_type": "code",
   "execution_count": 7,
   "metadata": {
    "colab": {
     "base_uri": "https://localhost:8080/"
    },
    "id": "TiqllRCEuJj3",
    "outputId": "a6ec30c8-467e-4826-dc62-1231d8beb849"
   },
   "outputs": [
    {
     "name": "stdout",
     "output_type": "stream",
     "text": [
      "Доля дублей 58.675968531987536%\n"
     ]
    }
   ],
   "source": [
    "print('Доля дублей {:2}%'.format(len(data[data.drop(columns = 'date')['order_id'].duplicated()]) / len(data) * 100))"
   ]
  },
  {
   "cell_type": "code",
   "execution_count": 8,
   "metadata": {
    "id": "s6kQgk_x0gdE"
   },
   "outputs": [],
   "source": [
    "duplicates = data.drop(columns = 'date').groupby('order_id')['customer_id'].value_counts() > 1"
   ]
  },
  {
   "cell_type": "code",
   "execution_count": 9,
   "metadata": {
    "colab": {
     "base_uri": "https://localhost:8080/",
     "height": 335
    },
    "id": "0IB-aHL7yI0l",
    "outputId": "5f3d142c-f623-4370-ab18-12e8f4edbee8"
   },
   "outputs": [
    {
     "name": "stdout",
     "output_type": "stream",
     "text": [
      "3953\n",
      "2784\n"
     ]
    },
    {
     "data": {
      "text/html": [
       "<div>\n",
       "<style scoped>\n",
       "    .dataframe tbody tr th:only-of-type {\n",
       "        vertical-align: middle;\n",
       "    }\n",
       "\n",
       "    .dataframe tbody tr th {\n",
       "        vertical-align: top;\n",
       "    }\n",
       "\n",
       "    .dataframe thead th {\n",
       "        text-align: right;\n",
       "    }\n",
       "</style>\n",
       "<table border=\"1\" class=\"dataframe\">\n",
       "  <thead>\n",
       "    <tr style=\"text-align: right;\">\n",
       "      <th></th>\n",
       "      <th>order_id</th>\n",
       "      <th>quantity</th>\n",
       "      <th>price</th>\n",
       "    </tr>\n",
       "  </thead>\n",
       "  <tbody>\n",
       "    <tr>\n",
       "      <th>count</th>\n",
       "      <td>2784.00</td>\n",
       "      <td>2784.00</td>\n",
       "      <td>2784.00</td>\n",
       "    </tr>\n",
       "    <tr>\n",
       "      <th>mean</th>\n",
       "      <td>64651.17</td>\n",
       "      <td>3.72</td>\n",
       "      <td>776.81</td>\n",
       "    </tr>\n",
       "    <tr>\n",
       "      <th>std</th>\n",
       "      <td>17508.19</td>\n",
       "      <td>22.95</td>\n",
       "      <td>1159.76</td>\n",
       "    </tr>\n",
       "    <tr>\n",
       "      <th>min</th>\n",
       "      <td>12624.00</td>\n",
       "      <td>1.00</td>\n",
       "      <td>9.00</td>\n",
       "    </tr>\n",
       "    <tr>\n",
       "      <th>25%</th>\n",
       "      <td>69112.50</td>\n",
       "      <td>1.00</td>\n",
       "      <td>134.00</td>\n",
       "    </tr>\n",
       "    <tr>\n",
       "      <th>50%</th>\n",
       "      <td>70454.00</td>\n",
       "      <td>1.00</td>\n",
       "      <td>314.50</td>\n",
       "    </tr>\n",
       "    <tr>\n",
       "      <th>75%</th>\n",
       "      <td>71848.25</td>\n",
       "      <td>1.00</td>\n",
       "      <td>974.00</td>\n",
       "    </tr>\n",
       "    <tr>\n",
       "      <th>max</th>\n",
       "      <td>73164.00</td>\n",
       "      <td>1000.00</td>\n",
       "      <td>14917.00</td>\n",
       "    </tr>\n",
       "  </tbody>\n",
       "</table>\n",
       "</div>"
      ],
      "text/plain": [
       "       order_id  quantity    price\n",
       "count   2784.00   2784.00  2784.00\n",
       "mean   64651.17      3.72   776.81\n",
       "std    17508.19     22.95  1159.76\n",
       "min    12624.00      1.00     9.00\n",
       "25%    69112.50      1.00   134.00\n",
       "50%    70454.00      1.00   314.50\n",
       "75%    71848.25      1.00   974.00\n",
       "max    73164.00   1000.00 14917.00"
      ]
     },
     "execution_count": 9,
     "metadata": {},
     "output_type": "execute_result"
    }
   ],
   "source": [
    "duplicates = data[data.drop(columns = 'date')['order_id'].duplicated()]\n",
    "print(len(duplicates))\n",
    "data = data.drop_duplicates(subset=['order_id'],keep='first')\n",
    "print(len(data))\n",
    "data.describe()"
   ]
  },
  {
   "cell_type": "code",
   "execution_count": 10,
   "metadata": {
    "id": "cmP7h777fBFB"
   },
   "outputs": [],
   "source": [
    "data['product'] = data['product'].str.replace('Ё','Е').str.replace('ё','е').str.replace('-',' ').str.replace('для','').str.replace(', ',' ')"
   ]
  },
  {
   "cell_type": "code",
   "execution_count": 11,
   "metadata": {
    "id": "kZOBs0uiOxMH"
   },
   "outputs": [],
   "source": [
    "data['shortname'] = data['product'].apply(lambda x: x.split()[0]+' '+x.split()[1])"
   ]
  },
  {
   "cell_type": "code",
   "execution_count": 12,
   "metadata": {
    "id": "47uGIlg_GM7Y"
   },
   "outputs": [],
   "source": [
    "#MONKEYJOB\n",
    "productsinlist = data['shortname'].value_counts()\n",
    "products10 = sorted(productsinlist[productsinlist > 10].index)\n",
    "productsless10 = sorted(productsinlist[productsinlist < 10].index)\n",
    "#display(productsless10)"
   ]
  },
  {
   "cell_type": "code",
   "execution_count": 13,
   "metadata": {
    "id": "VpGYURz6IiUL"
   },
   "outputs": [],
   "source": [
    "#MONKEYJOB\n",
    "cat_dict = dict({'(1) kitchen' : ['Электроштопор','Салатник Luminarc', 'Кружка МАРЛИ', 'Кружка ТАЧКИ' 'Миксер электрический', 'Форма выпечки', 'Блюдо Pasabahce', 'Термокружка Забава', 'Рассада Капусты', 'Роза садовая', 'Гвоздика садовая', 'Вербена микс', 'Цитрофортунелла Кумкват', 'Пеперомия d',\\\n",
    "                                  'Гортензия метельчатая','Кружка ТАЧКИ', 'Миксер электрический', 'Кружка МАРЛИ', 'Термокружка вакуумная','Чайник заварочный', 'Форма АLPENKOK', 'Орехоколка VIVA', 'Термокружка Яромир',  'Кастрюля круглая',\\\n",
    "'Кружка прозрачная','Пресс чеснока','Термостакан WEBBER', 'Банка РОНДО', 'Нож мясорубки','Термос 1л',  'Электроштопор QWERTY','Контейнер СВЧ', 'Столовый нож', 'Блюдце УТРО','Нож овощей', 'Миксер ВАСИЛИСА', 'Мантоварка пароварка',  'Кружка мерная',  'Столовая ложка', 'Подставка ножей', 'Просеиватель муки',\\\n",
    "                                  'Кастрюля чугунная','Толкушка деревянная','Вешалка НИКА', 'Швабра пола',  'Хлебница деревянная', 'Кружка Luminarc', 'Тарелка суповая', 'Кувшин Luminarc','Термос со', 'Термокружка Alpenkok','Кружка БАМБУК', \\\n",
    "                                  'Тарелка десертная','Банка стеклянная', 'Овощеварка алюминиевая', 'Терка WEBBER',  'Овощечистка с', 'Чайник электрический','Лоток холодца',  'Муляж Зеленое','Салатник РОМАНТИК',  'Салатник АМОРИ',\\\n",
    "                                  'Кружка чая', 'Мантоварка алюминиевая', 'Коврик кухонный', 'Кружка НОРДИК', 'Ополаскиватель посудомоечных','Тарелка обеденная','Терка сыра', 'Пьезозажигалка с','Салатник ЭМПИЛАБЛЬ','Миксер DELTA','Щетка посуды', 'Контейнер овощей','Масленка КОРОВКА',\\\n",
    "'Толкушка картофеля', 'Ерш бутылки', 'Банка со','Банка с','Чайник эмалированный', 'Чайник со', 'Нож стейка', 'Хлебница пластмасовая','Шприц кондитерский',   'Нож поварской',  'Кастрюля алюминиевая','Салатник КАРИН', 'Ерш бутылочный',\\\n",
    "                                  'Скатерть Лувр', 'Емкость СВЧ', 'Скатерть прямоугольная','Набор бокалов', 'Миска пластмассовая', 'Антижир POSH','Скатерть Сидней', \\\n",
    "                              'Кофе Арабика', 'Тортница CURVER', 'Скатерть 150х120','Набор стаканов', 'Мантоварка','Подставка яйца',  'Масленка','Мини сковорода', 'Миска ', 'Миксер', 'Мерный стакан',\\\n",
    "                              'Сито WEBBER', 'Сковорода HARD','Кружка с', 'Миска Фазенда', 'Скатерть Муза', 'Набор форм', 'Кухонные ножницы', 'Жестяная банка',\\\n",
    "                              'Картофелемялка металлическая','Кисточка силиконовая', 'Набор бокалов', 'Измельчитель овощей', 'Набор фужеров', 'Набор эмалированных',\\\n",
    "                              'Сервировочная салфетка', 'Салфетка Камушки', 'Набор посуды', 'Мерный стакан', 'Соковарка WEBBER', 'Кипятильник электрический',\\\n",
    "                              'Противень прямоугольный', 'Вилка столовая','Салатник АСПЕН',  'Хлебница Webber', 'Кастрюля эмалированная', 'Кружка О',  'Набор кружек', 'Котел алюминиевый', 'Столовый','Столовая', 'Овощеварка', 'Нож', 'Овощечистка', 'Орехоколка',\\\n",
    "                              'Отделитель косточек', 'Набор ножей', 'Скатерть 350х150', 'Половник',  'Полотенце', 'Сковорода Scovo', 'Скатерть из', 'Сковорода алюминиевая',\\\n",
    "                              'Скатерть Азалия', 'Чайный набор', 'Рыбочистка','Вилка', 'Ложка', 'Ложка столовая',\\\n",
    "                              'Ложка чайная', 'Сотейник алюминиевый', 'Скатерть Рим', 'Венчик', 'Tepмокружка AVEX', 'Стеклянная крышка', 'Салфетка Protec', 'скатерть', 'Губка',\\\n",
    "                              'Кипятильник электрический', 'Скатерть 180', 'Мини сковорода', 'Кисточка силиконовая', 'Кувшин','Отделитель косточек', \\\n",
    "                              'Кухонное полотенце', 'Скалка силиконовая', 'Разделочная доска', 'Кухонные ножницы',  'Контейнер герметичный',\\\n",
    "                              'Кружка', 'Скатерть Towa', 'Скатерть Джулия', 'Набор столовых', 'Крышка оцинкованная',  'Котел алюминиевый',  'Измельчитель овощей',\\\n",
    "                              'Кофе Арабика', 'Фарфоровая кружка', 'Скатерть виниловая',  'Пряные травы', 'Пьезозажигалка',  'Противень прямоугольный', 'Пряные травы',\\\n",
    "                              'Разделочная доска', 'Скатерть Ажурная', 'Скатерть Dasch','Скатерть Беатрис', 'Бульонница Luminarc', 'Блюдо',\\\n",
    "                              'Скатерть круглая',  'Доска разделочная',  'Картофелемялка металлическая',  'Кастрюля','Чайная ложка', 'Салфетка махровая', 'Мыльница пластмассовая',  'Вантуз черный', \\\n",
    "                              'Блюдце','Антижир POSH','Соковарка алюминиевая', 'Кухонное полотенце',  'Скатерть Жаклин','Весы настольные', \\\n",
    "                              'Соковыжималка цитрусовых',  'Бульонница Luminarc','Банка', 'Набор махровых', 'Весы настольные', 'Вакуумный пакет',\\\n",
    "                              'Антинакипин ','Увлажняющая маска', 'Фарфоровая кружка', 'Хлебница','Форма', 'Шприц','Половник Attribute', 'Коробка хранения','Сумка тележка',  'Швабра Leifheit',\\\n",
    "                              'Сотейник алюминиевый', 'Термокружка','Скатерть Meiwa','Жестяная банка', 'Чайник', 'Чайный набор', 'Тарелка','Чехол Eurogold', 'Корзина мягкая', 'Доска гладильная',\\\n",
    "                              'Таз','Термостакан', 'Скатерть 350х180', 'Скатерть Арлет', 'Столов', 'Отбеливатель Пероксоль',  'Термос', 'Толкушка', 'Терка', 'Салатник', 'Тортница CURVER','Стакан',\\\n",
    "                              'Стакан низкий', 'Стакан пластмассовый', 'Стеклянная крышка', 'Универсальное средство', 'Универсальный нож'],\n",
    "    '(2) bath' : ['Ерш унитазный','Ванна 70','Коврик туалета','Штанга ванной', 'Карниз ванной',  'Коврик ванной',  'Корзина белья','Ерш туалета','Мыло скраб', 'Стакан ванной','Махровый халат' 'Комплект ванной', 'Паста зубная', 'Мыло ручной', 'Миска варенья',\\\n",
    "              'Сахарница фарфоровая', 'Паста зубная','Увлажняющая маска', 'Штора ванной','Ерш унитаза','Щетка палубная',  'Подголовник ванной', 'Корыто оцинкованное','Коврик противоскользящий','Мыло жидкое', 'Комплект махровых', 'Сиденье унитаза','Жидкое мыло', 'Зубная паста', 'Мыло ', 'Мыльница','Махровое полотенце',  'Махровый халат',\\\n",
    "              'Бальзам', 'Ванна', 'Халат вафельный','Щетка унитаза', 'Махровое полотенце', 'Халат вафельный', 'Комплект ванной', 'Фен дорожный', 'Емкость соуса','Щетка', 'Корыто', 'Коврик влаговпитывающий'],\n",
    "\n",
    "    '(3) housekeeping' : ['Настенная сушилка', 'Вешалка металлическая', 'Корзина пластиковая','Стремянка FRAMAR', 'Стремянка Eurogold', 'Простынь вафельная', 'Вешалка Valiant',  'Полки QWERTY', 'Вешалка перекладина',  'Контейнер мусора',\\\n",
    "                          'Щетка мытья', 'Перчатки Fabrikators', 'Средство мытья', 'Кофр хранения',  'Средство быстрого', 'Простыня двуспальная', 'Перчатки Extra', 'Щетка универсальная','Коврик придверный', 'Коврик интерьерный', 'Коврик хлопковый', 'Кувшин пластмассовый',  'Ковер придверный', 'Перчатки латексные', 'Стремянка алюминиевая',  'Тележка багажная','Простыня на',\\\n",
    "                          'Штора текстильная', 'Перчатки Latex',   'Ручка мебельная', 'Вешалка слуга', 'Ткань гигиенических','Покрытие гладильной',\\\n",
    "                      'Измерительный угольник', 'Сушилка уличная','Коврик резиновый', 'Вешалка костюма', 'Шнур хозяйственный', 'Стяжка оконная', 'Петля приварная','Чехол одежды','Тележка хозяйственная','Ведро мусора','Вешалка деревянная', 'Стремянка бытовая','Подрукавник Gimi', 'Утюг электрический','Щетка смахивания','Веник сорго', 'Коробка INFINITY','Ящик почтовый','Стремянка DOGRULAR','Прищепки белья','Ведро Полимербыт',  'Настольная гладильная','Весы электронные','Сиденье ванны','Держатель туалетной', \\\n",
    "                      'Наматрацник Natures','Чехол короткой',  'Простыня сатиновая', 'Ткань окон', 'Подушка 40х40', 'Стремянка 7','Автоматическая щетка', 'Набор прецизионных', 'Концентрат мытья', 'Комплект мытья', 'Кондиционер белья',\\\n",
    "                      'Сиденье в', 'Плечики пластмассовые','Антинакипин утюгов', 'Универсальный нож', 'Уголок оконный', 'Вакуумный пакет', 'Тряпка кафеля',\\\n",
    "                      'Совок металический', 'Совок золы', 'Двуспальное постельное', 'Решетка вентиляционная', 'Многофункциональный инструмент','Подрукавник Leifheit', \\\n",
    "                      'Запасная насадка', 'Дозатор мыла','Насадка ведра',       'Штангенциркуль 150',  'Утюг DELTA', 'Ведро овальное', 'Корзина на', 'Рукав гладильной', 'Коробка прямоугольная', 'Венчик с',  'Бак белья',       'Щетка труднодоступных', 'Вешалка надверная', 'Швабра мытья', 'Средство против', 'Полка обуви', 'Окномойка с', 'Урна пепельница', 'Веник подметания', 'Щетка хозяйственная',  'Швабра хозяйственная',\\\n",
    "                          'Ткань универсальная',  'Этажерка обуви','Одеяло Wellness', 'Тряпкодержатель с', 'Ведро ягод','Наволочка Wellness',  'Мусорный контейнер', 'Вешалка плечики', 'Ароматизированное средство','Автоматическая щетка', 'Сушилка белья', 'Тряпка', 'Тряпкодержатель',\\\n",
    "                      'Уголок оконный','Бельевые прищепки', 'Сверло по','Совок и','Сетка стирки','Крючок проволочный', 'Защитный экран', \\\n",
    "                      'Фиксатор шар', 'Весы напольные', 'Весы электронные', 'Веревка полипропиленовая', 'Вешалка',  'Вешалки мягкие',  'Вкладыши для',\\\n",
    "                      'Гладильная', 'Дозатор мыла',  'Мусорный контейнер',   'Лестница стремянка', 'Готовая скатерть', 'Набор вешалок','Ароматизированное средство'\\\n",
    "                      'Набор ковров', 'Стяжка', 'Скребок 44','Этажерка цветочная', 'Бидон пластмассовый', 'Вешалка блузок', 'Камнеломка Арендса', 'Вантуз с', 'Вешалка верхней', 'Таз алюминиевый', 'Шпагат полипропиленовый', 'Стремянка Scab', 'Ведро без', 'Насадка моп', 'Обувница 3','Рассекатель пламени', 'Сетка глажения','Гипоаллергенный концентрированный',\\\n",
    "                      'Скребок окон', 'Дозатор',  'Двуспальное постельное',  'Держатель для','Модульная стеклянная', 'Ложка обувная',  'Ковш пластмассовый', 'Комод Эльфпласт',\\\n",
    "                      'Емкость', 'Завертка форточная', 'Холодная сварка', 'Вешалки мягкие',  'Крепеж пружины',   'Вкладыши хранения','Шнур резиновый', 'Урна уличная',        'Стремянка 5', 'Рыбочистка металлическая', 'Измерительный алюминиевый', 'Коврик Sochi','Коврик ворсовый',  'Вешалка напольная', 'Бензин зажигалок', 'Стремянка металлическая', 'Вешалка настенная',\\\n",
    "                          'Подрукавник складной', 'Стремянка Colombo', 'Насадка отжим','Ведро пластиковое', 'Пылесос DELTA', 'Контейнер продуктов', 'Чехол костюма', \\\n",
    "                          'Корзина глаженного', 'Ведро AMPARI',  'Сушилка Meliconi', 'Шило с','Банка из',   'Термометр на',  'Вешалка гардеробная', 'Вешалка с',\\\n",
    "                      'Весы напольные', 'Комплект постельного','Подставка обуви', 'Вешалка сушилка', 'Коврик Bacchetta','Ручка скоба', 'Коврик Dasch', 'Коврик в', 'Петля рояльная', 'Одеяло Silver', 'Швабра многофункциональная','Этажерка 2', 'Сумка хозяйственная', \\\n",
    "                          'Складная картонная',  'Стремянки Colombo','Сметка с',  'Паста полировки',\\\n",
    "                      'Запасная насадка', 'Набор прищепок', 'Перчатки', 'Отжим',  'Отбеливатель Пероксоль', 'Ополаскиватель', 'Обувница 3', 'Одеяло',  'Окномойка',\\\n",
    "                      'Петля',  'Подголовник Bacchetta',  'Подголовник','Сиденье гладильной','Салфетка на','Защитная соль',\\\n",
    "                      'Пододеяльник', 'Подушка',  'Покрывало ', 'Прищепки',  'Пробка','Нетканые салфетки', 'Фал капроновый',\\\n",
    "                      'Просеиватель', 'Простынь',  'Простыня','Пружина дверная',  'Пылесос', 'Рассекатель пламени', 'Решетка вентиляционная',\\\n",
    "                      'Ролик', 'Защитный экран',  'Камнеломка',  'Карниз алюминиевый', 'Корзина', 'Корзинка', 'Измерительный', 'Защитная соль',\\\n",
    "                      'Гипоаллергенный концентрированный', 'Вешалка стойка', 'Ковш пластмассовый', 'Кольца для','Крючок одежный',  'Крючок проволочный', 'Крепеж для',\\\n",
    "                      'Ложка обувная','Щетка сметка', 'Сумка тележки', 'Сменная насадка','Чехол гладильной', 'Ложка кухонная', 'Кондиционер', 'Концентрат для', 'Стеллаж обуви',\\\n",
    "                      'Складной детский', 'Шпингалет 80','Лестница стремянка',  'Лестница стремянка', 'Линейка, длина', 'Кофр',\\\n",
    "                      'Мешок для', 'Лопатка',  'Лоток', 'Многофункциональный инструмент', 'Модульная стеклянная', 'Мусорный контейнер','Утюг',\\\n",
    "                      'Фал капроновый','Фиксатор шар','Веревка полипропиленовая',  'Крышка оцинкованная',   'Завертка форточная',\\\n",
    "                      'Покрывало стеганый', 'Холодная сварка', 'Чистящий крем', 'Шило','Мешок строительного', 'Набор инструментов',\\\n",
    "                      'Шнур','Шпингалет','Штанга','Шпагат', 'Стяжки чехла',  'Штангенциркуль','Таз', 'Таз пластмассовый', 'Сушилка', 'Чехол',\\\n",
    "                      'Вешалка','Ящик', 'Вешалка брюк', 'Швабра','Крючок одежный', 'Корзина', 'Карниз', 'Доска', 'Этажерка', 'Сумка тележка',\\\n",
    "                      'Щетка сметка', 'Мешок деликатной', 'Стяжка', 'Средство', 'Петля стрела', 'Сумка', 'Ерш','Ящик хранения', 'Набор прищепок', 'Гладильная доска',\\\n",
    "                      'Бельевые прищепки', 'Бензин', 'Бидон','Коврик', 'Корзина', 'Контейнер', 'Мусорный контейнер', 'Вантуз',\\\n",
    "                      'Ведро', 'Веник','Подкладка под', 'Чехол', 'Энотера', 'Эпипремнум', 'Физостегия Вергинская', 'Чехол',\\\n",
    "                      'Термометр', 'Тележка', 'Стремянка', 'Насадка',  'Настенная сушилка',  'Настольная гладильная', 'Наволочка',\\\n",
    "                          'Насадка на', 'Насадка мытья',  'Пододеяльник 214х150', 'Отжим ведра',\n",
    "'Полотенце прессованное','Ерш радиаторный', 'Стремянка Framar', 'Стремянка COLOMBO',\\\n",
    "                      'Наматрасник', 'Наматрицник чехол', 'Покрытие', 'Полка', 'Пресс',  'Рукав',  'Ручка',  'Нож универсальный',\\\n",
    "                      'Ножеточка универсальная','Настенная сушилка', 'Набор сверел', 'Крючок одежный',   'Подрукавник', 'Стремянка табурет', 'Лестница'],\n",
    "    '(4) seasonal' : ['Рассада','Алоэ Вера', 'Клен ложноплатановый',   'Розмарин в',    'Колокольчик Карпатский', 'Антуриум Андрианум',\\\n",
    "                  'Амариллис Red', 'Базилик овощной',   'Мединилла Магнифика',  'Цикламен розовый', 'Хамедорея d',  'Однолетнее растение', 'Синнингия (глоксиния)', 'Пуансетия d',\\\n",
    "                  'Гиностемма укорененный', 'Лавр d', 'Новогоднее дерево','Гардения d',  'Нефролепис Бостон',  'Вероника колосковая', 'Лук порей', 'Джункус Пенсил',\\\n",
    "                  'Драцена фрагранс', 'Котовник Блю', 'Виола рассада', 'Основание пробки', 'Ведро резинопластиковое', \\\n",
    "                  'Гайлардия крупноцветковая', 'Осина обыкновенная', 'Душица обыкновенная',  'Петрушка', 'Колеус рассада', 'Чабер Bolero',\\\n",
    "                  'Ранункулус Клуни', 'Петуния', 'Пиретрум Робинсон',  'Платикодон махровый',  'Портулак рассада',  'Примула', 'Пуансетия ',\\\n",
    "                  'Радермахера','Ранункулус Клуни',  'Рассада', 'Роза', 'Розмарин', 'Рудбекия',\\\n",
    "                  'Глоксиния', 'Годеция', 'Гипсофила Аврора', 'Георгина Черная', 'Вербейник монетчатый', 'Виола рогатая',\\\n",
    "                  'Горох Амброзия', 'Многолетнее растение', 'Гортензия',  'Вероника', 'Виола', 'Хризантема сиреневая', \\\n",
    "                  'Вигна Лилиана', 'Гайлардия крупноцветковая',  'Буддлея Вейера', 'Бузульник',\\\n",
    "                  'Валериана', 'Агератум рассада',  'Дендробиум', 'Джункус Пенсил', 'Драцена фрагранс', 'Девичий виноград',\\\n",
    "                  'Зверобой продырявленный',  'Земляника',  'Змееголовник молдавский',  'Кодонанта укорененный',\\\n",
    "                  'Колеус рассада', 'Колокольчик', 'Кореопсис', 'Кориандр', 'Ножеточка', 'Космея', 'Котовник Блю', 'Крассула', 'Крокусы Pickwick', \\\n",
    "                  'Лаванда', 'Лаватера Монт', 'Девичий виноград',\\\n",
    "                  'томата (помидор)',  'Лавр',  'Лантана',  'Лапчатка',  'Левкой рассада',  'Лен',  'Лилейник высокорослый',\\\n",
    "                  'Лук порей', 'Львиный зев',  'Любисток Удалец', 'Литопс', 'Лобелия',  'Мединилла',  'Мелисса', 'Маттиола Ночная',\\\n",
    "                  'Мимоза стыдливая',  'Настурция',  'Незабудка смесь',  'Нефролепис Бостон', 'Нивянник','Калоцефалус Брауни',\\\n",
    "                   'Нетканые салфетки','Пеперомия', 'Подсолнечник',  'Мирт',  'Молодило', \\\n",
    "                  'Монарда', 'Морковь', 'Муррайя', 'Мускари', 'Мята',  'Гардения d',  'Гвоздика', 'Георгина Черная', 'Газания рассада','Гербера', 'Гиацинт', 'Гимнокалициум Микс',\\\n",
    "                  'Гиностемма укорененный','Вербена', 'Агератум рассада','Роза кордана', 'Роза кустовая','Роза одноголовая',\\\n",
    "                      'Роза Патио', 'Фиалка d', 'Пеларгония розебудная',  'Адиантум Лиза',  'Аквилегия', 'Антуриум', 'Артемизия', 'Баклажан',\\\n",
    "                  'Бакопа', 'Аспарагус', 'Астра', 'Афеляндра', 'Бадан', 'Крокусы Pickwick',\\\n",
    "                  'Базилик', 'Аптения', 'Клен', 'Клубника','Кипарисовик', 'Бальзамин', 'Барвинок', 'Бархатцы', 'Бегония', 'Аргирантерум рассада','Алиссум',\\\n",
    "                  'Алоэ Вера',  'Анемона','Тимьян', 'Арбуз',  'Мимоза стыдливая','Пеларгония зональная', \\\n",
    "                  'Аргирантерум рассада', 'Зверобой продырявленный','Кампанула', 'Капсикум',\\\n",
    "                  'Капуста', 'Томат', 'Табак', 'Укроп Обильнолистный', 'Хризантема','Дыня Млада', 'Петуния махровая',  'Эхеверия Лила', 'Шеффлера Голд',\\\n",
    "                  'Фиттония','Подсолнечник низкорослый', 'Ель канадская', 'Аптения d', 'Роза Палас', 'Пеларгония Грандифлора', 'Цинния', 'Цинерария','Эшшольция', 'Эхинацея', 'Юкка','Ясколка','Газания рассада', 'Петуния',\\\n",
    "                  'Флокс', 'Тюльпан', 'Альбука',  'Амариллис','Тыква', 'Фиалка', 'Циперус', 'томатa', 'Бакопа ампельная', 'Эхеверия',\\\n",
    "                  'Однолетнее растение', 'Новогоднее дерево','Декабрист','Патиссон', 'Папоротник', 'Осина обыкновенная',\\\n",
    "                     'Овсянница сизая',  'Огурец',  'Пахира Акватика',  'Пеларгония', 'Калибрахоа', 'Иссоп',  'Кабачок',  'Каланхое',\\\n",
    "                  'Калатея', 'Лавр нобилис', 'Рассада в', 'Бальзамин Валера', 'Земляника садовая',  'Базилик Застольный',\\\n",
    "                      'Табак душистый','Альбука Спиралис',  'Бальзамин новогвинейский', 'Артемизия (Полынь',  'Лаванда d', 'Дендробиум Санок',\\\n",
    "                      'Бархатцы Веселая',  'Салатник ВОЛАРЭ', 'Алиссум (лобулярия)','Петуния Свитуния','Бегония клубневая', 'Рассада Арбуза', 'Рассада клубники',\\\n",
    "                      'Базилик Пурпурные', 'Тимьян в', 'Пеларгония Angeleyes', 'Эвкалипт Сильвердроп', 'Вербена крупноцветковая',\\\n",
    "'Сциндапсус в', 'Аквилегия махровая', 'Алиссум Скальный', 'Эпипремнум Ауреум', 'Фаленопсис желтый', 'Мирт d','Хризантема кустовая', 'Аквилегия обыкновенная','Калла крупноцветковая', 'Декабрист в', 'Рассада томата','Дендробиум Яблоневый', 'Тюльпан Louvre','Роза Кордана', 'Мята перечная',        'Гиацинт Blue', 'Вербена рассада', 'Гвоздика стандартная',\\\n",
    "                      'Базилик зеленый', 'Базилик Овощной',  'Мята Махито', 'Афеляндра скуарроса', 'Петуния гибридная', 'Лаванда в','Лапчатка травянистая', 'Бегония Элатиор','Рассада Тыквы', \\\n",
    "                      'Мускари White', 'Дыня Симпатия', 'Алиссум рассада', 'Муррайя d', 'Вербена ампельная', 'Калатея Микс','Кориандр в', 'Иссоп лекарственный', 'Аспарагус d','Антуриум андрианум', 'Бегония ампельная', 'Астра рассада',\\\n",
    "                      'Пеларгония тюльпановидная',   'Фатсия d', 'Лобелия рассада', 'Арбуз Волгоградец', 'Фатсия японская',\\\n",
    "                      'Рассада Огурец',  'Папоротник страусник', 'Капуста цветная', 'Цикламен цвет', 'Фаленопсис Люкс','Цикламен d',       'Пеларгония розоцветная', 'Примула желтая',\\\n",
    "                      'Калатея Кроката',  'Антуриум Тропик', 'Эхинокактус Грузони', 'Пеларгония Toscana', 'Эхеверия Микс', 'Томат Государь','Рассада зелени','Лобелия ампельная',\\\n",
    "                      'Рассада Кабачка','Целозия гребенчатая', 'Календула', 'Калибрахоа', 'Калла', 'Каллуна Гарден',\\\n",
    "                      'Калоцефалус Брауни', 'Душица', 'Дыня','Капуста белокочанная', 'Арбуз Огонек', 'Вербена Fuhcsia',\\\n",
    "                      'Капуста брокколи', 'Кориандр Стимул', 'Бегония вечноцветущая',  'Ель'],\n",
    "    '(5) housedesign' : ['Комнатное растение','Лантана d', 'Искусственный лист', 'Муляж Лайм', 'Муляж Булка', 'Подвесное кашпо', 'Муляж Клубника', 'Калибрахоа Aloha',\\\n",
    "                         'Замиокулькас d',   'Гортензия Микс', 'Подставка цветов', 'Корзина CITY', 'Спатифиллум Свит','Фиалка махровая',\\\n",
    "                         'Муляж Долька', 'Муляж Томат', 'Ваза МАСКАРАД', 'Корзинка с','Лоток KNIT',   'Пахира Акватика', 'Покрывало KARNA',\\\n",
    "'Муляж Ананас',  'Муляж Баклажан', 'Муляж Морковь', 'Диффенбахия d', 'Фаленопсис королевский',\\\n",
    "                         'Гипсофила Аврора', 'Литопс Микс', 'Адиантум Лиза',\\\n",
    "                     'Плед флисовый', 'Суккулент Микс',  'Плечики пластмассовые',  'Декоративная',  'Замиокулькас', 'Ваза', 'Импатиенс Нью',\\\n",
    "                     'Короб стеллажный', 'Коробка', 'Комод Эльфпласт',  'Комплект', 'Комплект махровых', 'Комплект постельного',\\\n",
    "                     'Бак', 'Азалия', 'Ткань', 'Урна', 'Спатифиллум', 'Сциндапсус', 'Фоторамка',\\\n",
    "                     'Фаленопсис', 'Фатсия', 'Фуксия', 'Диффенбахия','Хлорофитум', 'Хамедорея', 'Хоста', 'Цветущее комнатное',\\\n",
    "                     'Целозия','Цикламен','Диффенбахия Камилла',  'Кольца штор', 'Гимнокалициум Микс', \\\n",
    "                     'Эхинокактус', 'Эвкалипт Гунни', 'Муляж Виноград','Муляж Перец', 'Искусственный цветок','Муляж Апельсин', 'Кампанула махровая', 'Декоративная композиция', 'Азалия индика',\\\n",
    "                         'Муляж Тыквы', 'Шеффлера', 'Муляж', 'Цветок искусственный', 'Каланхое каландива', 'Цветок искусственный','Муляж Хлеб','Муляж Персики',   'Хлорофитум d', 'Фиттония Скелетон',  'Тимьян d',\\\n",
    "                         'Шеффлера Лузеана', 'Спатифиллум Шопен', 'Эхеверия Перл', 'Азалия Индика', 'Декоративная коробка',  'Искусственная лиана', 'Штора',\\\n",
    "                         'Покрывало жаккард', 'Пуансеттия d', 'Скиммия японская', 'Муляж Оранжевое', 'Гербера комнатная','Фиалка Химера', 'Спатифиллум d','Муляж Банан',  'Примула комнатная',\\\n",
    "                         'Дендробиум Фиолетовый', 'Калибрахоа ампельная',\\\n",
    "                     'Полки','Искусственная композиция', 'Фикус каучуконосный','Хризолидокарпус', 'Светильник настольный', 'Цитрофортунелла','Муляж \"Райские', 'Герань домашняя','Искусственный',\\\n",
    "                     'Подкладка','Герань домашняя',  'Ключница Картина', 'Ковер', 'Набор пикника','Кодонанта укорененный',  'Ключница Картина', 'Импатиенс Нью', 'Муляж Груша',    'Муляж Мандарин',\\\n",
    "                         'Муляж Яблоко', 'Муляж Желудь', 'Роза мини', 'Крассула d',  'Фоторамка Alparaisa', 'Аспарагус Спренжери', 'Циперус Зумула', 'Розмарин d', 'Роза кордана' 'Подставка',  'Основание',\\\n",
    "                     'Коврик', 'Подвесное', 'Эвкалипт', 'Комнатное', 'Примула', 'Мята', 'Искусственная', 'Муляж Красное', 'Муляж Лимон',  'Штора со', 'Муляж ГРАНАТ', 'Муляж ЯБЛОКО','Искусственный'],\n",
    "    '(6) sets' : ['Набор Vileda', 'Подарочный набор', 'Подарочный набор', 'Набор Vileda', 'Муляж Манго', \\\n",
    "              'Набор вешалок', 'Набор', 'Набор инструментов', 'Набор ковров', 'Набор кружек',\\\n",
    "              'Набор кухонных', 'Набор махровых', 'Набор ножей', 'Набор посуды', 'Набор прецизионных',\\\n",
    "              'Набор прищепок', 'Цветущее комнатное',  'Набор сверел', 'Набор стаканов', 'Набор столовых',\\\n",
    "              'Набор форм', 'Набор фужеров', 'Набор эмалированных']\n",
    "})  \n"
   ]
  },
  {
   "cell_type": "code",
   "execution_count": 14,
   "metadata": {
    "id": "f8ZJ8aLN8bfF"
   },
   "outputs": [],
   "source": [
    "#Присваиваю категории товарам\n",
    "new_cat_dict = {}\n",
    "for k in cat_dict:\n",
    "    vals = cat_dict[k]\n",
    "    for v in vals:\n",
    "        new_cat_dict[v] = k"
   ]
  },
  {
   "cell_type": "code",
   "execution_count": 15,
   "metadata": {
    "colab": {
     "base_uri": "https://localhost:8080/"
    },
    "id": "WMHFOOvda4s1",
    "outputId": "c86eff0e-2798-4f3d-c3e0-d99ea1ef8897"
   },
   "outputs": [
    {
     "name": "stdout",
     "output_type": "stream",
     "text": [
      "Не отсортированных по категориям товаров 0\n"
     ]
    },
    {
     "data": {
      "text/plain": [
       "(3) housekeeping    1302\n",
       "(4) seasonal         567\n",
       "(5) housedesign      385\n",
       "(1) kitchen          327\n",
       "(2) bath             171\n",
       "(6) sets              32\n",
       "Name: category, dtype: int64"
      ]
     },
     "execution_count": 15,
     "metadata": {},
     "output_type": "execute_result"
    }
   ],
   "source": [
    "def apply_cat(x):\n",
    "    if x in new_cat_dict:\n",
    "        return new_cat_dict[x]\n",
    "\n",
    "#else:\n",
    "#    return 'rare'\n",
    "\n",
    "data['category'] = data['shortname'].apply(lambda x: apply_cat(x))\n",
    "print('Не отсортированных по категориям товаров {}'.format(len(data[data['category'].isna()])))\n",
    "data['category'].value_counts()"
   ]
  },
  {
   "cell_type": "code",
   "execution_count": 16,
   "metadata": {
    "colab": {
     "base_uri": "https://localhost:8080/"
    },
    "id": "NCX4Z1NRDfgh",
    "outputId": "42eca07c-e046-44db-a671-7d7c775e306f"
   },
   "outputs": [
    {
     "name": "stdout",
     "output_type": "stream",
     "text": [
      "После чистки от дубликатов всего 2784 записей в период с 2018-10-01 по 2019-10-31\n"
     ]
    }
   ],
   "source": [
    "print('После чистки от дубликатов всего {} записей'.format(len(data)),\\\n",
    "      'в период с', data['date'].min(), 'по', data['date'].max())"
   ]
  },
  {
   "cell_type": "code",
   "execution_count": 17,
   "metadata": {
    "colab": {
     "base_uri": "https://localhost:8080/"
    },
    "id": "T7kRjewpDZXt",
    "outputId": "5615d7e3-56db-45ee-d97a-1d69d90c6584"
   },
   "outputs": [
    {
     "name": "stdout",
     "output_type": "stream",
     "text": [
      "Всего уникальных айди пользователей 2420\n",
      "Всего заказов 2784\n"
     ]
    }
   ],
   "source": [
    "print('Всего уникальных айди пользователей', len(data['customer_id'].unique()))\n",
    "print('Всего заказов', len(data['order_id'].unique()))"
   ]
  },
  {
   "cell_type": "code",
   "execution_count": 18,
   "metadata": {},
   "outputs": [],
   "source": [
    "cleandata = data.to_csv('cleanfull.csv')"
   ]
  },
  {
   "cell_type": "markdown",
   "metadata": {
    "id": "1eSlSGEy2gm4"
   },
   "source": [
    "## Изучение данных датасета"
   ]
  },
  {
   "cell_type": "code",
   "execution_count": 19,
   "metadata": {
    "colab": {
     "base_uri": "https://localhost:8080/"
    },
    "id": "oCFE2qNE0b-q",
    "outputId": "d6ff075f-0916-4e9a-cf9e-47b4dafdde5e"
   },
   "outputs": [
    {
     "data": {
      "text/plain": [
       "Index(['date', 'customer_id', 'order_id', 'product', 'quantity', 'price',\n",
       "       'shortname', 'category'],\n",
       "      dtype='object')"
      ]
     },
     "execution_count": 19,
     "metadata": {},
     "output_type": "execute_result"
    }
   ],
   "source": [
    "#Чуть больше анализа начиная отсюда\n",
    "df = data.copy(deep = True)\n",
    "df.columns"
   ]
  },
  {
   "cell_type": "markdown",
   "metadata": {
    "id": "6mvDjwAh3XHo"
   },
   "source": [
    "Обратим внимание на соотношение количества товаров с 1) ценой, 2) количеством закупок."
   ]
  },
  {
   "cell_type": "code",
   "execution_count": 20,
   "metadata": {
    "id": "D0RDnt_Mt8Tp"
   },
   "outputs": [],
   "source": [
    "#Посмотрим прицельно\n",
    "def numerical_plotting(df, col, title):\n",
    "    fig, ax = plt.subplots(2, 1, sharex=True, figsize=(8,5),gridspec_kw={\"height_ratios\": (.2, .8)})\n",
    "    ax[0].set_title(title,fontsize=18)\n",
    "    sns.boxplot(x=col, data=df, ax=ax[0])\n",
    "    ax[0].set(yticks=[])\n",
    "    sns.distplot(df[col],kde=True)\n",
    "    plt.xticks(rotation=45)\n",
    "    ax[1].set_xlabel(col, fontsize=16)\n",
    " \n",
    "    plt.legend(bbox_to_anchor=(1, 1.03), ncol=1, fontsize=17, fancybox=True, shadow=True, frameon=True)\n",
    "    plt.tight_layout()\n",
    "    plt.show()   "
   ]
  },
  {
   "cell_type": "code",
   "execution_count": 21,
   "metadata": {
    "colab": {
     "base_uri": "https://localhost:8080/",
     "height": 437
    },
    "id": "j5VDuf_BtyuJ",
    "outputId": "51260577-f342-4399-c933-c749d478b271"
   },
   "outputs": [
    {
     "name": "stderr",
     "output_type": "stream",
     "text": [
      "/opt/conda/lib/python3.9/site-packages/seaborn/distributions.py:2551: FutureWarning: `distplot` is a deprecated function and will be removed in a future version. Please adapt your code to use either `displot` (a figure-level function with similar flexibility) or `histplot` (an axes-level function for histograms).\n",
      "  warnings.warn(msg, FutureWarning)\n",
      "No handles with labels found to put in legend.\n"
     ]
    },
    {
     "data": {
      "image/png": "[encoded data removed]",
      "text/plain": [
       "<Figure size 576x360 with 2 Axes>"
      ]
     },
     "metadata": {
      "needs_background": "light"
     },
     "output_type": "display_data"
    }
   ],
   "source": [
    "numerical_plotting(df, 'order_id', 'quantity')"
   ]
  },
  {
   "cell_type": "markdown",
   "metadata": {
    "id": "3zDOfCNk6uJm"
   },
   "source": [
    "**Наблюдение**.Можно заметить, что график распределения количества товаров в чеке относительно \n",
    "заказов скошен сильно вправо — возможен был бы эффект какого-то большого выброса или в целом заказы чаще содержат большое количество единиц товаров."
   ]
  },
  {
   "cell_type": "code",
   "execution_count": 22,
   "metadata": {
    "colab": {
     "base_uri": "https://localhost:8080/",
     "height": 437
    },
    "id": "CREdHyNQ4KGh",
    "outputId": "a2b13e55-524c-4c67-dc6c-2c2bf40ebdab"
   },
   "outputs": [
    {
     "name": "stderr",
     "output_type": "stream",
     "text": [
      "/opt/conda/lib/python3.9/site-packages/seaborn/distributions.py:2551: FutureWarning: `distplot` is a deprecated function and will be removed in a future version. Please adapt your code to use either `displot` (a figure-level function with similar flexibility) or `histplot` (an axes-level function for histograms).\n",
      "  warnings.warn(msg, FutureWarning)\n",
      "No handles with labels found to put in legend.\n"
     ]
    },
    {
     "data": {
      "image/png": "[encoded data removed]",
      "text/plain": [
       "<Figure size 576x360 with 2 Axes>"
      ]
     },
     "metadata": {
      "needs_background": "light"
     },
     "output_type": "display_data"
    }
   ],
   "source": [
    "numerical_plotting(df, 'price', 'quantity')"
   ]
  },
  {
   "cell_type": "markdown",
   "metadata": {
    "id": "Q8YNhlLM7hCL"
   },
   "source": [
    "**Наблюдение**. График распределения стоимостей товаров скошен влево — много дешёвых товаров, которые пользуются спросом."
   ]
  },
  {
   "cell_type": "code",
   "execution_count": 23,
   "metadata": {
    "colab": {
     "base_uri": "https://localhost:8080/",
     "height": 376
    },
    "id": "QEHTt0D_mqV3",
    "outputId": "167e19dc-7a6a-4367-839a-cf5749c6a86e"
   },
   "outputs": [
    {
     "data": {
      "image/png": "[encoded data removed]",
      "text/plain": [
       "<Figure size 432x288 with 1 Axes>"
      ]
     },
     "metadata": {
      "needs_background": "light"
     },
     "output_type": "display_data"
    }
   ],
   "source": [
    "#График распределения покупок по времени до отчистки от выбросов. Интересно посмотреть\n",
    "frequencyordering = sns.histplot(df['date']).set_title('Частота заказов за год 2018-2019')"
   ]
  },
  {
   "cell_type": "markdown",
   "metadata": {
    "id": "Yhif6Ip17tWW"
   },
   "source": [
    "**Наблюдение**. До очистки от выбросов на графике количества заказов по дням выделялся март, май, июль и поздняя осень."
   ]
  },
  {
   "cell_type": "code",
   "execution_count": 24,
   "metadata": {
    "colab": {
     "base_uri": "https://localhost:8080/",
     "height": 520
    },
    "id": "-auogwgRGtwE",
    "outputId": "2a57f30a-a30f-4f2d-c45e-b7c60d19c85c"
   },
   "outputs": [
    {
     "data": {
      "text/plain": [
       "Index(['date', 'customer_id', 'quantity'], dtype='object')"
      ]
     },
     "metadata": {},
     "output_type": "display_data"
    },
    {
     "data": {
      "text/html": [
       "<div>\n",
       "<style scoped>\n",
       "    .dataframe tbody tr th:only-of-type {\n",
       "        vertical-align: middle;\n",
       "    }\n",
       "\n",
       "    .dataframe tbody tr th {\n",
       "        vertical-align: top;\n",
       "    }\n",
       "\n",
       "    .dataframe thead th {\n",
       "        text-align: right;\n",
       "    }\n",
       "</style>\n",
       "<table border=\"1\" class=\"dataframe\">\n",
       "  <thead>\n",
       "    <tr style=\"text-align: right;\">\n",
       "      <th></th>\n",
       "      <th>date</th>\n",
       "      <th>customer_id</th>\n",
       "      <th>quantity</th>\n",
       "    </tr>\n",
       "  </thead>\n",
       "  <tbody>\n",
       "    <tr>\n",
       "      <th>0</th>\n",
       "      <td>2018-10-01</td>\n",
       "      <td>11</td>\n",
       "      <td>115</td>\n",
       "    </tr>\n",
       "    <tr>\n",
       "      <th>1</th>\n",
       "      <td>2018-10-02</td>\n",
       "      <td>14</td>\n",
       "      <td>43</td>\n",
       "    </tr>\n",
       "    <tr>\n",
       "      <th>2</th>\n",
       "      <td>2018-10-03</td>\n",
       "      <td>7</td>\n",
       "      <td>16</td>\n",
       "    </tr>\n",
       "  </tbody>\n",
       "</table>\n",
       "</div>"
      ],
      "text/plain": [
       "         date  customer_id  quantity\n",
       "0  2018-10-01           11       115\n",
       "1  2018-10-02           14        43\n",
       "2  2018-10-03            7        16"
      ]
     },
     "metadata": {},
     "output_type": "display_data"
    },
    {
     "data": {
      "image/png": "[encoded data removed]",
      "text/plain": [
       "<Figure size 432x288 with 1 Axes>"
      ]
     },
     "metadata": {
      "needs_background": "light"
     },
     "output_type": "display_data"
    }
   ],
   "source": [
    "#график количества покупок и отдельно количества покупателей во времени с выбросами\n",
    "timeline = pd.DataFrame(df.pivot_table(\n",
    "index = 'date',\n",
    "values  = {'quantity', 'customer_id'},\n",
    "aggfunc = {'quantity': 'sum', 'customer_id': 'count'}\n",
    ").sort_values('date', ascending = True).reset_index())\n",
    "\n",
    "display(timeline.columns)\n",
    "display(timeline.head(3))\n",
    "\n",
    "\n",
    "sns.lineplot(data = timeline, x = 'date', y = 'quantity').set_title('График количества товаров в закупке по дням')\n",
    "plt.show()"
   ]
  },
  {
   "cell_type": "markdown",
   "metadata": {
    "id": "MUdVWzPe8XPU"
   },
   "source": [
    "**Наблюдение**. До очистки здесь был виден выброс в летний период — возможно, акция, которая привлекла много заказов (но не обязательно пользователей)."
   ]
  },
  {
   "cell_type": "code",
   "execution_count": 25,
   "metadata": {
    "colab": {
     "base_uri": "https://localhost:8080/",
     "height": 376
    },
    "id": "M8gmjToVGZYk",
    "outputId": "0e241553-d892-4950-b491-64762b56eda3"
   },
   "outputs": [
    {
     "data": {
      "image/png": "[encoded data removed]",
      "text/plain": [
       "<Figure size 432x288 with 1 Axes>"
      ]
     },
     "metadata": {
      "needs_background": "light"
     },
     "output_type": "display_data"
    }
   ],
   "source": [
    "sns.lineplot(data = timeline, x=\"date\", y='customer_id').set_title('График количества покупателей по дням')\n",
    "plt.show()"
   ]
  },
  {
   "cell_type": "code",
   "execution_count": 26,
   "metadata": {
    "colab": {
     "base_uri": "https://localhost:8080/",
     "height": 376
    },
    "id": "1GlEuMzu54uS",
    "outputId": "6f6e0193-3a91-4d71-ee68-cb8ebfb45846"
   },
   "outputs": [
    {
     "data": {
      "image/png": "[encoded data removed]",
      "text/plain": [
       "<Figure size 432x288 with 1 Axes>"
      ]
     },
     "metadata": {
      "needs_background": "light"
     },
     "output_type": "display_data"
    }
   ],
   "source": [
    "#Одно дело покупатели, а сколько они принесли денег?\n",
    "totalperday = df.pivot_table(\n",
    "    index = 'date',\n",
    "    values = 'price',\n",
    "    aggfunc = 'sum'\n",
    ").reset_index() #Постройте диаграмму, отображающую сумму покупок по дням.\n",
    "\n",
    "totalperdayplot = sns.lineplot(data = totalperday, x = 'date', y = 'price').set_title('Сумма покупок по дням')\n",
    "plt.show()"
   ]
  },
  {
   "cell_type": "markdown",
   "metadata": {
    "id": "ehPM4D1i8wKr"
   },
   "source": [
    "**Наблюдение**. А вот сумма покупок по дням, за исключением крупных покупок более 7-8 тысяч, выглядит менее драматично."
   ]
  },
  {
   "cell_type": "code",
   "execution_count": 27,
   "metadata": {
    "colab": {
     "base_uri": "https://localhost:8080/",
     "height": 397
    },
    "id": "VU1WXp7m7O1T",
    "outputId": "4696643d-52b5-4fe6-8329-9a84bad74038"
   },
   "outputs": [
    {
     "data": {
      "text/plain": [
       "<Figure size 1440x1440 with 0 Axes>"
      ]
     },
     "metadata": {},
     "output_type": "display_data"
    },
    {
     "data": {
      "image/png": "[encoded data removed]",
      "text/plain": [
       "<Figure size 360x360 with 1 Axes>"
      ]
     },
     "metadata": {
      "needs_background": "light"
     },
     "output_type": "display_data"
    }
   ],
   "source": [
    "#Распределение заказов по сумме\n",
    "orderprice = df.pivot_table(\n",
    "    index = 'price',\n",
    "    values = 'order_id',\n",
    "    aggfunc = 'count'\n",
    ").reset_index().sort_values('order_id', ascending = False)\n",
    "\n",
    "\n",
    "plt.figure(figsize=(20, 20))\n",
    "affordabilityplot = sns.displot(data=orderprice, x=\"order_id\", y = 'price', kind=\"kde\").set(title='Распределение заказов по суммам')\n",
    "plt.show()"
   ]
  },
  {
   "cell_type": "markdown",
   "metadata": {
    "id": "mda04Ng25aOb"
   },
   "source": [
    "**Наблюдение**. Наши нормальные данные лежат где-то в области 7-10 заказов и до 1250 рублей за заказ (самый внутренний наиболее ровный кружочек)."
   ]
  },
  {
   "cell_type": "code",
   "execution_count": 28,
   "metadata": {
    "colab": {
     "base_uri": "https://localhost:8080/",
     "height": 300
    },
    "id": "hD-31bVACHip",
    "outputId": "bff95fb2-e757-4203-a564-1ca15d5f3309"
   },
   "outputs": [
    {
     "data": {
      "text/html": [
       "<div>\n",
       "<style scoped>\n",
       "    .dataframe tbody tr th:only-of-type {\n",
       "        vertical-align: middle;\n",
       "    }\n",
       "\n",
       "    .dataframe tbody tr th {\n",
       "        vertical-align: top;\n",
       "    }\n",
       "\n",
       "    .dataframe thead th {\n",
       "        text-align: right;\n",
       "    }\n",
       "</style>\n",
       "<table border=\"1\" class=\"dataframe\">\n",
       "  <thead>\n",
       "    <tr style=\"text-align: right;\">\n",
       "      <th></th>\n",
       "      <th>price</th>\n",
       "      <th>order_id</th>\n",
       "    </tr>\n",
       "  </thead>\n",
       "  <tbody>\n",
       "    <tr>\n",
       "      <th>count</th>\n",
       "      <td>345.00</td>\n",
       "      <td>345.00</td>\n",
       "    </tr>\n",
       "    <tr>\n",
       "      <th>mean</th>\n",
       "      <td>1654.51</td>\n",
       "      <td>8.07</td>\n",
       "    </tr>\n",
       "    <tr>\n",
       "      <th>std</th>\n",
       "      <td>2162.83</td>\n",
       "      <td>12.65</td>\n",
       "    </tr>\n",
       "    <tr>\n",
       "      <th>min</th>\n",
       "      <td>9.00</td>\n",
       "      <td>1.00</td>\n",
       "    </tr>\n",
       "    <tr>\n",
       "      <th>25%</th>\n",
       "      <td>202.00</td>\n",
       "      <td>1.00</td>\n",
       "    </tr>\n",
       "    <tr>\n",
       "      <th>50%</th>\n",
       "      <td>652.00</td>\n",
       "      <td>3.00</td>\n",
       "    </tr>\n",
       "    <tr>\n",
       "      <th>75%</th>\n",
       "      <td>2234.00</td>\n",
       "      <td>8.00</td>\n",
       "    </tr>\n",
       "    <tr>\n",
       "      <th>max</th>\n",
       "      <td>14917.00</td>\n",
       "      <td>105.00</td>\n",
       "    </tr>\n",
       "  </tbody>\n",
       "</table>\n",
       "</div>"
      ],
      "text/plain": [
       "         price  order_id\n",
       "count   345.00    345.00\n",
       "mean   1654.51      8.07\n",
       "std    2162.83     12.65\n",
       "min       9.00      1.00\n",
       "25%     202.00      1.00\n",
       "50%     652.00      3.00\n",
       "75%    2234.00      8.00\n",
       "max   14917.00    105.00"
      ]
     },
     "execution_count": 28,
     "metadata": {},
     "output_type": "execute_result"
    }
   ],
   "source": [
    "orderprice.describe()"
   ]
  },
  {
   "cell_type": "markdown",
   "metadata": {
    "id": "PWDPmqjs5tVl"
   },
   "source": [
    "**Налюдения**\n",
    "Три четверти покупателей делают до 8 заказов. Будем это иметь в виду."
   ]
  },
  {
   "cell_type": "code",
   "execution_count": 29,
   "metadata": {
    "colab": {
     "base_uri": "https://localhost:8080/",
     "height": 300
    },
    "id": "eJGVKUTdDrek",
    "outputId": "21b9612b-ab75-47c5-b460-16bf09f6ad09"
   },
   "outputs": [
    {
     "data": {
      "text/html": [
       "<div>\n",
       "<style scoped>\n",
       "    .dataframe tbody tr th:only-of-type {\n",
       "        vertical-align: middle;\n",
       "    }\n",
       "\n",
       "    .dataframe tbody tr th {\n",
       "        vertical-align: top;\n",
       "    }\n",
       "\n",
       "    .dataframe thead th {\n",
       "        text-align: right;\n",
       "    }\n",
       "</style>\n",
       "<table border=\"1\" class=\"dataframe\">\n",
       "  <thead>\n",
       "    <tr style=\"text-align: right;\">\n",
       "      <th></th>\n",
       "      <th>order_id</th>\n",
       "      <th>price</th>\n",
       "      <th>quantity</th>\n",
       "    </tr>\n",
       "  </thead>\n",
       "  <tbody>\n",
       "    <tr>\n",
       "      <th>count</th>\n",
       "      <td>2420.00</td>\n",
       "      <td>2420.00</td>\n",
       "      <td>2420.00</td>\n",
       "    </tr>\n",
       "    <tr>\n",
       "      <th>mean</th>\n",
       "      <td>1.15</td>\n",
       "      <td>893.65</td>\n",
       "      <td>4.28</td>\n",
       "    </tr>\n",
       "    <tr>\n",
       "      <th>std</th>\n",
       "      <td>2.67</td>\n",
       "      <td>2989.93</td>\n",
       "      <td>25.79</td>\n",
       "    </tr>\n",
       "    <tr>\n",
       "      <th>min</th>\n",
       "      <td>1.00</td>\n",
       "      <td>9.00</td>\n",
       "      <td>1.00</td>\n",
       "    </tr>\n",
       "    <tr>\n",
       "      <th>25%</th>\n",
       "      <td>1.00</td>\n",
       "      <td>134.00</td>\n",
       "      <td>1.00</td>\n",
       "    </tr>\n",
       "    <tr>\n",
       "      <th>50%</th>\n",
       "      <td>1.00</td>\n",
       "      <td>374.00</td>\n",
       "      <td>1.00</td>\n",
       "    </tr>\n",
       "    <tr>\n",
       "      <th>75%</th>\n",
       "      <td>1.00</td>\n",
       "      <td>1012.00</td>\n",
       "      <td>2.00</td>\n",
       "    </tr>\n",
       "    <tr>\n",
       "      <th>max</th>\n",
       "      <td>126.00</td>\n",
       "      <td>129778.00</td>\n",
       "      <td>1000.00</td>\n",
       "    </tr>\n",
       "  </tbody>\n",
       "</table>\n",
       "</div>"
      ],
      "text/plain": [
       "       order_id     price  quantity\n",
       "count   2420.00   2420.00   2420.00\n",
       "mean       1.15    893.65      4.28\n",
       "std        2.67   2989.93     25.79\n",
       "min        1.00      9.00      1.00\n",
       "25%        1.00    134.00      1.00\n",
       "50%        1.00    374.00      1.00\n",
       "75%        1.00   1012.00      2.00\n",
       "max      126.00 129778.00   1000.00"
      ]
     },
     "execution_count": 29,
     "metadata": {},
     "output_type": "execute_result"
    }
   ],
   "source": [
    "#Делим по квартилям (25-50-75-max) \n",
    "\n",
    "purchases_raw = df.pivot_table(\n",
    "index = 'customer_id',\n",
    "values  = {'order_id', 'quantity', 'price'},\n",
    "aggfunc = {'order_id': 'count', 'quantity': 'sum', 'price': 'sum'} #Мне надо где-то на этом этапе сохранить категории, иначе смерджится в конце работы без них\n",
    ").sort_values('order_id', ascending = False).reset_index()\n",
    "\n",
    "purchases_raw.describe()"
   ]
  },
  {
   "cell_type": "code",
   "execution_count": 30,
   "metadata": {
    "colab": {
     "base_uri": "https://localhost:8080/",
     "height": 206
    },
    "id": "8-wAPjZjrvWm",
    "outputId": "f939efd4-191e-4ce5-ff25-7b844513c99c"
   },
   "outputs": [
    {
     "data": {
      "text/html": [
       "<div>\n",
       "<style scoped>\n",
       "    .dataframe tbody tr th:only-of-type {\n",
       "        vertical-align: middle;\n",
       "    }\n",
       "\n",
       "    .dataframe tbody tr th {\n",
       "        vertical-align: top;\n",
       "    }\n",
       "\n",
       "    .dataframe thead th {\n",
       "        text-align: right;\n",
       "    }\n",
       "</style>\n",
       "<table border=\"1\" class=\"dataframe\">\n",
       "  <thead>\n",
       "    <tr style=\"text-align: right;\">\n",
       "      <th></th>\n",
       "      <th>customer_id</th>\n",
       "      <th>order_id</th>\n",
       "      <th>price</th>\n",
       "      <th>quantity</th>\n",
       "    </tr>\n",
       "  </thead>\n",
       "  <tbody>\n",
       "    <tr>\n",
       "      <th>2415</th>\n",
       "      <td>58e420e1-e083-4e77-929a-af4d8d0f4c8e</td>\n",
       "      <td>1</td>\n",
       "      <td>225.00</td>\n",
       "      <td>2</td>\n",
       "    </tr>\n",
       "    <tr>\n",
       "      <th>2416</th>\n",
       "      <td>5901a4c4-768d-4dc5-9d81-3546e29820fb</td>\n",
       "      <td>1</td>\n",
       "      <td>74.00</td>\n",
       "      <td>1</td>\n",
       "    </tr>\n",
       "    <tr>\n",
       "      <th>2417</th>\n",
       "      <td>59240d3e-58ce-4450-a5ef-68a693bfa903</td>\n",
       "      <td>1</td>\n",
       "      <td>1837.00</td>\n",
       "      <td>1</td>\n",
       "    </tr>\n",
       "    <tr>\n",
       "      <th>2418</th>\n",
       "      <td>5956b1f9-6d1b-4731-a38b-ce2434c499bd</td>\n",
       "      <td>1</td>\n",
       "      <td>712.00</td>\n",
       "      <td>1</td>\n",
       "    </tr>\n",
       "    <tr>\n",
       "      <th>2419</th>\n",
       "      <td>ffe82299-3f5b-4214-87fe-3d36ecccfac3</td>\n",
       "      <td>1</td>\n",
       "      <td>577.00</td>\n",
       "      <td>1</td>\n",
       "    </tr>\n",
       "  </tbody>\n",
       "</table>\n",
       "</div>"
      ],
      "text/plain": [
       "                               customer_id  order_id   price  quantity\n",
       "2415  58e420e1-e083-4e77-929a-af4d8d0f4c8e         1  225.00         2\n",
       "2416  5901a4c4-768d-4dc5-9d81-3546e29820fb         1   74.00         1\n",
       "2417  59240d3e-58ce-4450-a5ef-68a693bfa903         1 1837.00         1\n",
       "2418  5956b1f9-6d1b-4731-a38b-ce2434c499bd         1  712.00         1\n",
       "2419  ffe82299-3f5b-4214-87fe-3d36ecccfac3         1  577.00         1"
      ]
     },
     "execution_count": 30,
     "metadata": {},
     "output_type": "execute_result"
    }
   ],
   "source": [
    "purchases_raw.tail()"
   ]
  },
  {
   "cell_type": "markdown",
   "metadata": {
    "id": "4La4cZrTZrwQ"
   },
   "source": [
    "### Наблюдение по очищенным данным\n",
    "\n",
    "Три четверти покупателей делают 1-2 заказа, чаще 1, и 2 покупки в заказе. Три четверти покупателей делают заказ до 1012 руб. В среднем 4 покупки. Максимальное кол-во заказов — 126, максимальная выручка с 1 клиента 129 778 руб. максимальное число позиций в заказе 1000."
   ]
  },
  {
   "cell_type": "code",
   "execution_count": 31,
   "metadata": {
    "colab": {
     "base_uri": "https://localhost:8080/"
    },
    "id": "fWzfFbaS2lsH",
    "outputId": "dcbd6f6e-953a-4cf3-8215-c805029ee273"
   },
   "outputs": [
    {
     "name": "stdout",
     "output_type": "stream",
     "text": [
      "      order_id   price  quantity\n",
      "0.95      2.00 3223.00     12.00\n",
      "0.99      3.00 6771.95     50.81\n"
     ]
    }
   ],
   "source": [
    "print(purchases_raw.quantile([.95, .99]))"
   ]
  },
  {
   "cell_type": "markdown",
   "metadata": {
    "id": "gMWp9Zdd5R6m"
   },
   "source": [
    "До 95% заказывают 2 покупки на общую совокупную сумму до 3223 руб., в заказе до 12 позиций."
   ]
  },
  {
   "cell_type": "markdown",
   "metadata": {
    "id": "Zs4iJBH_azKR"
   },
   "source": [
    "Более 51 покупки в заказе, или более 3 заказов, или выручка с клиента более 6772 рубля — аномальные."
   ]
  },
  {
   "cell_type": "code",
   "execution_count": 32,
   "metadata": {
    "colab": {
     "base_uri": "https://localhost:8080/"
    },
    "id": "7sgS6ahK_ifR",
    "outputId": "06dacb5c-aa0f-4a84-d288-8f7ecc1c91ab"
   },
   "outputs": [
    {
     "name": "stdout",
     "output_type": "stream",
     "text": [
      "Доля аномального числа закупок 0.331%\n"
     ]
    }
   ],
   "source": [
    "print('Доля аномального числа закупок {:.3}%'.format(len(purchases_raw[purchases_raw['order_id'] > 3]) / len(purchases_raw) * 100))"
   ]
  },
  {
   "cell_type": "code",
   "execution_count": 33,
   "metadata": {
    "colab": {
     "base_uri": "https://localhost:8080/"
    },
    "id": "_06e-H-vArH8",
    "outputId": "38f94516-59e6-4073-9347-24497d8f06ac"
   },
   "outputs": [
    {
     "name": "stdout",
     "output_type": "stream",
     "text": [
      "Что составляет 8.51% годовой выручки.\n"
     ]
    }
   ],
   "source": [
    "print('Что составляет {:.3}% годовой выручки.'.format(purchases_raw[purchases_raw['order_id'] > 3]['price'].sum() / purchases_raw['price'].sum() * 100))"
   ]
  },
  {
   "cell_type": "code",
   "execution_count": 34,
   "metadata": {
    "colab": {
     "base_uri": "https://localhost:8080/"
    },
    "id": "wWYyfKzX-fZm",
    "outputId": "32f584df-90e6-45d5-a0ce-622c4d01e1ef"
   },
   "outputs": [
    {
     "data": {
      "text/plain": [
       "1      2262\n",
       "2       130\n",
       "3        20\n",
       "4         3\n",
       "126       1\n",
       "5         1\n",
       "7         1\n",
       "17        1\n",
       "35        1\n",
       "Name: order_id, dtype: int64"
      ]
     },
     "execution_count": 34,
     "metadata": {},
     "output_type": "execute_result"
    }
   ],
   "source": [
    "purchases_raw['order_id'].value_counts()"
   ]
  },
  {
   "cell_type": "markdown",
   "metadata": {
    "id": "i6oci9z86QKi"
   },
   "source": [
    "**По совету от тим-лида** решили, что обрезать по 99% нельзя, посмотрим на рейтинг клиентов с наиболее частыми заказами."
   ]
  },
  {
   "cell_type": "code",
   "execution_count": 35,
   "metadata": {
    "colab": {
     "base_uri": "https://localhost:8080/",
     "height": 938
    },
    "id": "vXS9_f3l-pmW",
    "outputId": "9a549b0e-6db5-400e-c4f1-5581585fd12f"
   },
   "outputs": [
    {
     "data": {
      "text/html": [
       "<div>\n",
       "<style scoped>\n",
       "    .dataframe tbody tr th:only-of-type {\n",
       "        vertical-align: middle;\n",
       "    }\n",
       "\n",
       "    .dataframe tbody tr th {\n",
       "        vertical-align: top;\n",
       "    }\n",
       "\n",
       "    .dataframe thead th {\n",
       "        text-align: right;\n",
       "    }\n",
       "</style>\n",
       "<table border=\"1\" class=\"dataframe\">\n",
       "  <thead>\n",
       "    <tr style=\"text-align: right;\">\n",
       "      <th></th>\n",
       "      <th>customer_id</th>\n",
       "      <th>order_id</th>\n",
       "    </tr>\n",
       "  </thead>\n",
       "  <tbody>\n",
       "    <tr>\n",
       "      <th>1891</th>\n",
       "      <td>c971fb21-d54c-4134-938f-16b62ee86d3b</td>\n",
       "      <td>126</td>\n",
       "    </tr>\n",
       "    <tr>\n",
       "      <th>731</th>\n",
       "      <td>4d93d3f6-8b24-403b-a74b-f5173e40d7db</td>\n",
       "      <td>35</td>\n",
       "    </tr>\n",
       "    <tr>\n",
       "      <th>1087</th>\n",
       "      <td>73d1cd35-5e5f-4629-8cf2-3fda829d4e58</td>\n",
       "      <td>17</td>\n",
       "    </tr>\n",
       "    <tr>\n",
       "      <th>1725</th>\n",
       "      <td>b7b865ab-0735-407f-8d0c-31f74d2806cc</td>\n",
       "      <td>7</td>\n",
       "    </tr>\n",
       "    <tr>\n",
       "      <th>16</th>\n",
       "      <td>0184f535-b60a-4914-a982-231e3f615206</td>\n",
       "      <td>5</td>\n",
       "    </tr>\n",
       "    <tr>\n",
       "      <th>688</th>\n",
       "      <td>498f12a4-6a62-4725-8516-cf5dc9ab8a3a</td>\n",
       "      <td>4</td>\n",
       "    </tr>\n",
       "    <tr>\n",
       "      <th>2118</th>\n",
       "      <td>e0535076-6270-4df2-8621-cb06264a94fa</td>\n",
       "      <td>4</td>\n",
       "    </tr>\n",
       "    <tr>\n",
       "      <th>1796</th>\n",
       "      <td>bea7a833-2074-42db-bc49-4457abd3c930</td>\n",
       "      <td>4</td>\n",
       "    </tr>\n",
       "  </tbody>\n",
       "</table>\n",
       "</div>"
      ],
      "text/plain": [
       "                               customer_id  order_id\n",
       "1891  c971fb21-d54c-4134-938f-16b62ee86d3b       126\n",
       "731   4d93d3f6-8b24-403b-a74b-f5173e40d7db        35\n",
       "1087  73d1cd35-5e5f-4629-8cf2-3fda829d4e58        17\n",
       "1725  b7b865ab-0735-407f-8d0c-31f74d2806cc         7\n",
       "16    0184f535-b60a-4914-a982-231e3f615206         5\n",
       "688   498f12a4-6a62-4725-8516-cf5dc9ab8a3a         4\n",
       "2118  e0535076-6270-4df2-8621-cb06264a94fa         4\n",
       "1796  bea7a833-2074-42db-bc49-4457abd3c930         4"
      ]
     },
     "metadata": {},
     "output_type": "display_data"
    },
    {
     "data": {
      "text/plain": [
       "[Text(0.5, 69.0, ''), Text(68.99999999999999, 0.5, '')]"
      ]
     },
     "execution_count": 35,
     "metadata": {},
     "output_type": "execute_result"
    },
    {
     "data": {
      "image/png": "[encoded data removed]",
      "text/plain": [
       "<Figure size 720x720 with 2 Axes>"
      ]
     },
     "metadata": {
      "needs_background": "light"
     },
     "output_type": "display_data"
    }
   ],
   "source": [
    "freqcust = purchases_raw.pivot_table(\n",
    "    index = 'customer_id',\n",
    "    values = 'order_id',\n",
    "    aggfunc = 'sum'\n",
    ").reset_index().sort_values('order_id', ascending = False)\n",
    "display(freqcust.query('order_id > 3'))\n",
    "thesecust = np.array(freqcust[freqcust['order_id'] > 3]['customer_id'])\n",
    "\n",
    "thesecustomers = pd.DataFrame(df.query('customer_id in @thesecust'))\n",
    "g = thesecustomers.pivot_table(\n",
    "index = 'customer_id',\n",
    "values = 'order_id',\n",
    "columns = 'date',\n",
    "aggfunc = 'count'\n",
    ")\n",
    "fig, ax = plt.subplots(figsize=(10,10)) \n",
    "d = sns.heatmap(g, cmap=\"crest\")\n",
    "d.set(xlabel=\"\", ylabel=\"\")\n"
   ]
  },
  {
   "cell_type": "markdown",
   "metadata": {
    "id": "x99Tf1wzRTiS"
   },
   "source": [
    "**Наблюдения**\n",
    "\n",
    "Клиенты, которые покупали 5-7 раз выглядят более регулярными, клиент с 17 покупками в октябре — неясно, требует более длительных наблюдений. Возможно, это период закупок, а далее не вернется в магазин долго (как это вдруг случилось у клиентов с большим кол-вом покупок — раз и забросили магазин)."
   ]
  },
  {
   "cell_type": "code",
   "execution_count": 36,
   "metadata": {
    "colab": {
     "base_uri": "https://localhost:8080/"
    },
    "id": "hYWUvkoQ93yA",
    "outputId": "212c85c9-4e83-4920-a29c-cfad09171e35"
   },
   "outputs": [
    {
     "name": "stdout",
     "output_type": "stream",
     "text": [
      "162127.0\n",
      "Доля аномального количества позиций в заказе 0.992%\n",
      "Что составляет 7.5% годовой выручки.\n"
     ]
    }
   ],
   "source": [
    "print(purchases_raw[purchases_raw['quantity'] > 51]['price'].sum())\n",
    "print('Доля аномального количества позиций в заказе {:.3}%'.format(len(purchases_raw[purchases_raw['quantity'] > 51]) / len(purchases_raw) * 100))\n",
    "print('Что составляет {:.3}% годовой выручки.'.format(purchases_raw[purchases_raw['quantity'] > 51]['price'].sum() / purchases_raw['price'].sum() * 100))"
   ]
  },
  {
   "cell_type": "code",
   "execution_count": 37,
   "metadata": {
    "colab": {
     "base_uri": "https://localhost:8080/"
    },
    "id": "g-t4V631fSOg",
    "outputId": "a49472bd-3333-49de-dfad-3177f21ddbe3"
   },
   "outputs": [
    {
     "name": "stdout",
     "output_type": "stream",
     "text": [
      "368245.0\n",
      "Количество аномальных покупателей 1.03%\n",
      "и они принесли 17.0% годовой выручки.\n"
     ]
    }
   ],
   "source": [
    "print(purchases_raw[purchases_raw['price'] > 6772]['price'].sum())\n",
    "print('Количество аномальных покупателей {:.3}%'.format(len(purchases_raw[purchases_raw['price'] > 6772]) / len(purchases_raw) * 100))\n",
    "print('и они принесли {:.3}% годовой выручки.'.format(purchases_raw[purchases_raw['price'] > 6772]['price'].sum() / purchases_raw['price'].sum() * 100))"
   ]
  },
  {
   "cell_type": "markdown",
   "metadata": {
    "id": "tQ5QIMJBdTkI"
   },
   "source": [
    "### Наблюдения\n",
    "\n",
    "\n",
    "*   Доля аномального количества позиций в заказе (более 51) 0.331%, что составляет 8.51% годовой выручки. \n",
    "*   Доля аномального числа закупок (более 3) 0.992%, что составляет 7.5% годовой выручки.\n",
    "* Количество аномальных покупателей 1.03% и они принесли 17.0% годовой выручки.\n",
    "\n"
   ]
  },
  {
   "cell_type": "markdown",
   "metadata": {
    "id": "UA3rMohkUH_h"
   },
   "source": [
    "## Варианты сегментации"
   ]
  },
  {
   "cell_type": "markdown",
   "metadata": {
    "id": "BpxmawEPSBhg"
   },
   "source": [
    "Остановились на бенчмарке в 7 покупок в год."
   ]
  },
  {
   "cell_type": "code",
   "execution_count": 38,
   "metadata": {
    "id": "1GHPvIMS0gdS"
   },
   "outputs": [],
   "source": [
    "#purchases_raw['id'] = purchases_raw['customer_id'].index"
   ]
  },
  {
   "cell_type": "code",
   "execution_count": 39,
   "metadata": {
    "colab": {
     "base_uri": "https://localhost:8080/",
     "height": 300
    },
    "id": "G3zJlkbVsNmV",
    "outputId": "c7479115-06dc-4989-88f4-535e2237d0ba"
   },
   "outputs": [
    {
     "data": {
      "text/html": [
       "<div>\n",
       "<style scoped>\n",
       "    .dataframe tbody tr th:only-of-type {\n",
       "        vertical-align: middle;\n",
       "    }\n",
       "\n",
       "    .dataframe tbody tr th {\n",
       "        vertical-align: top;\n",
       "    }\n",
       "\n",
       "    .dataframe thead th {\n",
       "        text-align: right;\n",
       "    }\n",
       "</style>\n",
       "<table border=\"1\" class=\"dataframe\">\n",
       "  <thead>\n",
       "    <tr style=\"text-align: right;\">\n",
       "      <th></th>\n",
       "      <th>order_id</th>\n",
       "      <th>price</th>\n",
       "      <th>quantity</th>\n",
       "    </tr>\n",
       "  </thead>\n",
       "  <tbody>\n",
       "    <tr>\n",
       "      <th>count</th>\n",
       "      <td>2393.00</td>\n",
       "      <td>2393.00</td>\n",
       "      <td>2393.00</td>\n",
       "    </tr>\n",
       "    <tr>\n",
       "      <th>mean</th>\n",
       "      <td>1.07</td>\n",
       "      <td>749.29</td>\n",
       "      <td>3.66</td>\n",
       "    </tr>\n",
       "    <tr>\n",
       "      <th>std</th>\n",
       "      <td>0.31</td>\n",
       "      <td>1011.90</td>\n",
       "      <td>14.02</td>\n",
       "    </tr>\n",
       "    <tr>\n",
       "      <th>min</th>\n",
       "      <td>1.00</td>\n",
       "      <td>9.00</td>\n",
       "      <td>1.00</td>\n",
       "    </tr>\n",
       "    <tr>\n",
       "      <th>25%</th>\n",
       "      <td>1.00</td>\n",
       "      <td>134.00</td>\n",
       "      <td>1.00</td>\n",
       "    </tr>\n",
       "    <tr>\n",
       "      <th>50%</th>\n",
       "      <td>1.00</td>\n",
       "      <td>352.00</td>\n",
       "      <td>1.00</td>\n",
       "    </tr>\n",
       "    <tr>\n",
       "      <th>75%</th>\n",
       "      <td>1.00</td>\n",
       "      <td>974.00</td>\n",
       "      <td>2.00</td>\n",
       "    </tr>\n",
       "    <tr>\n",
       "      <th>max</th>\n",
       "      <td>5.00</td>\n",
       "      <td>6614.00</td>\n",
       "      <td>334.00</td>\n",
       "    </tr>\n",
       "  </tbody>\n",
       "</table>\n",
       "</div>"
      ],
      "text/plain": [
       "       order_id   price  quantity\n",
       "count   2393.00 2393.00   2393.00\n",
       "mean       1.07  749.29      3.66\n",
       "std        0.31 1011.90     14.02\n",
       "min        1.00    9.00      1.00\n",
       "25%        1.00  134.00      1.00\n",
       "50%        1.00  352.00      1.00\n",
       "75%        1.00  974.00      2.00\n",
       "max        5.00 6614.00    334.00"
      ]
     },
     "metadata": {},
     "output_type": "display_data"
    }
   ],
   "source": [
    "#Мы выяснили аномалии\n",
    "#normcustomers  = purchases_raw.copy()\n",
    "\n",
    "normcustomers = purchases_raw.loc[(purchases_raw['price'] < 6772) & (purchases_raw['order_id'] < 7) & (purchases_raw['quantity'] < 1000)]\n",
    "display(normcustomers.describe())\n",
    "\n",
    "\n",
    "normcustomers.to_csv('normcustomers.csv')"
   ]
  },
  {
   "cell_type": "markdown",
   "metadata": {
    "id": "EahkNxxN7FWr"
   },
   "source": [
    "Я всё ещё надеюсь сдать проект, поэтому сохранила данные в датасет для дашборда."
   ]
  },
  {
   "cell_type": "markdown",
   "metadata": {
    "id": "-lXMhArgJydv"
   },
   "source": [
    "## Кластеризация"
   ]
  },
  {
   "cell_type": "code",
   "execution_count": 40,
   "metadata": {
    "id": "gEdWq_6tS3Fo"
   },
   "outputs": [],
   "source": [
    "#Составим сегменты с применением ML"
   ]
  },
  {
   "cell_type": "code",
   "execution_count": 41,
   "metadata": {
    "id": "VP4524ugO5L8"
   },
   "outputs": [
    {
     "data": {
      "text/html": [
       "<div>\n",
       "<style scoped>\n",
       "    .dataframe tbody tr th:only-of-type {\n",
       "        vertical-align: middle;\n",
       "    }\n",
       "\n",
       "    .dataframe tbody tr th {\n",
       "        vertical-align: top;\n",
       "    }\n",
       "\n",
       "    .dataframe thead th {\n",
       "        text-align: right;\n",
       "    }\n",
       "</style>\n",
       "<table border=\"1\" class=\"dataframe\">\n",
       "  <thead>\n",
       "    <tr style=\"text-align: right;\">\n",
       "      <th></th>\n",
       "      <th>customer_id</th>\n",
       "      <th>order_id</th>\n",
       "      <th>price</th>\n",
       "      <th>quantity</th>\n",
       "    </tr>\n",
       "  </thead>\n",
       "  <tbody>\n",
       "    <tr>\n",
       "      <th>0</th>\n",
       "      <td>000d6849-084e-4d9f-ac03-37174eaf60c4</td>\n",
       "      <td>1</td>\n",
       "      <td>150.00</td>\n",
       "      <td>1</td>\n",
       "    </tr>\n",
       "    <tr>\n",
       "      <th>1</th>\n",
       "      <td>001cee7f-0b29-4716-b202-0042213ab038</td>\n",
       "      <td>1</td>\n",
       "      <td>442.00</td>\n",
       "      <td>1</td>\n",
       "    </tr>\n",
       "    <tr>\n",
       "      <th>2</th>\n",
       "      <td>00299f34-5385-4d13-9aea-c80b81658e1b</td>\n",
       "      <td>1</td>\n",
       "      <td>457.00</td>\n",
       "      <td>2</td>\n",
       "    </tr>\n",
       "    <tr>\n",
       "      <th>3</th>\n",
       "      <td>002d4d3a-4a59-406b-86ec-c3314357e498</td>\n",
       "      <td>1</td>\n",
       "      <td>1649.00</td>\n",
       "      <td>1</td>\n",
       "    </tr>\n",
       "    <tr>\n",
       "      <th>4</th>\n",
       "      <td>003bbd39-0000-41ff-b7f9-2ddaec152037</td>\n",
       "      <td>1</td>\n",
       "      <td>1162.00</td>\n",
       "      <td>2</td>\n",
       "    </tr>\n",
       "    <tr>\n",
       "      <th>...</th>\n",
       "      <td>...</td>\n",
       "      <td>...</td>\n",
       "      <td>...</td>\n",
       "      <td>...</td>\n",
       "    </tr>\n",
       "    <tr>\n",
       "      <th>2388</th>\n",
       "      <td>ff601403-b094-4b86-9ac6-264d725b9277</td>\n",
       "      <td>1</td>\n",
       "      <td>1649.00</td>\n",
       "      <td>1</td>\n",
       "    </tr>\n",
       "    <tr>\n",
       "      <th>2389</th>\n",
       "      <td>ffaeab76-3a8d-49ee-860f-17273b2fc8a2</td>\n",
       "      <td>1</td>\n",
       "      <td>397.00</td>\n",
       "      <td>1</td>\n",
       "    </tr>\n",
       "    <tr>\n",
       "      <th>2390</th>\n",
       "      <td>ffb5976a-7a4d-460b-95c4-5ffaba31cb24</td>\n",
       "      <td>1</td>\n",
       "      <td>389.00</td>\n",
       "      <td>1</td>\n",
       "    </tr>\n",
       "    <tr>\n",
       "      <th>2391</th>\n",
       "      <td>ffb80538-3fda-4351-8ea9-9d2bec58bb07</td>\n",
       "      <td>1</td>\n",
       "      <td>974.00</td>\n",
       "      <td>1</td>\n",
       "    </tr>\n",
       "    <tr>\n",
       "      <th>2392</th>\n",
       "      <td>ffe82299-3f5b-4214-87fe-3d36ecccfac3</td>\n",
       "      <td>1</td>\n",
       "      <td>577.00</td>\n",
       "      <td>1</td>\n",
       "    </tr>\n",
       "  </tbody>\n",
       "</table>\n",
       "<p>2393 rows × 4 columns</p>\n",
       "</div>"
      ],
      "text/plain": [
       "                               customer_id  order_id   price  quantity\n",
       "0     000d6849-084e-4d9f-ac03-37174eaf60c4         1  150.00         1\n",
       "1     001cee7f-0b29-4716-b202-0042213ab038         1  442.00         1\n",
       "2     00299f34-5385-4d13-9aea-c80b81658e1b         1  457.00         2\n",
       "3     002d4d3a-4a59-406b-86ec-c3314357e498         1 1649.00         1\n",
       "4     003bbd39-0000-41ff-b7f9-2ddaec152037         1 1162.00         2\n",
       "...                                    ...       ...     ...       ...\n",
       "2388  ff601403-b094-4b86-9ac6-264d725b9277         1 1649.00         1\n",
       "2389  ffaeab76-3a8d-49ee-860f-17273b2fc8a2         1  397.00         1\n",
       "2390  ffb5976a-7a4d-460b-95c4-5ffaba31cb24         1  389.00         1\n",
       "2391  ffb80538-3fda-4351-8ea9-9d2bec58bb07         1  974.00         1\n",
       "2392  ffe82299-3f5b-4214-87fe-3d36ecccfac3         1  577.00         1\n",
       "\n",
       "[2393 rows x 4 columns]"
      ]
     },
     "execution_count": 41,
     "metadata": {},
     "output_type": "execute_result"
    }
   ],
   "source": [
    "final = normcustomers.pivot_table(\n",
    "index = 'customer_id',\n",
    "values = ['order_id', 'price', 'quantity'],\n",
    "aggfunc = {'order_id':'count', 'price':'sum', 'quantity':'sum'}\n",
    ").reset_index()\n",
    "final"
   ]
  },
  {
   "cell_type": "code",
   "execution_count": 42,
   "metadata": {
    "id": "WYRUpvCJOVQh"
   },
   "outputs": [],
   "source": [
    "sc = StandardScaler()\n",
    "x_sc = sc.fit_transform(final.drop(columns = 'customer_id'))"
   ]
  },
  {
   "cell_type": "code",
   "execution_count": 43,
   "metadata": {
    "colab": {
     "base_uri": "https://localhost:8080/"
    },
    "id": "E9w3cBC6KiHz",
    "outputId": "acd41028-5d8e-4eba-a24d-449959fc70ea"
   },
   "outputs": [
    {
     "name": "stdout",
     "output_type": "stream",
     "text": [
      "            order_id   price  quantity\n",
      "cluster_km                            \n",
      "0               1.00  390.11      3.08\n",
      "1               1.00 2674.61      1.28\n",
      "2               1.00  265.21    150.36\n"
     ]
    }
   ],
   "source": [
    "km = KMeans(n_clusters=3, random_state=0)\n",
    "labels = km.fit_predict(x_sc)\n",
    "final['cluster_km'] = labels\n",
    "linked = linkage(x_sc, method = 'ward')\n",
    "clusters = final.groupby(['cluster_km']).mean()\n",
    "print(clusters)"
   ]
  },
  {
   "cell_type": "code",
   "execution_count": 44,
   "metadata": {
    "colab": {
     "base_uri": "https://localhost:8080/",
     "height": 608
    },
    "id": "cLCKSQ3qSllk",
    "outputId": "c1e17388-36ae-4d9d-bb79-7aa6117dfb4c"
   },
   "outputs": [
    {
     "data": {
      "image/png": "[encoded data removed]",
      "text/plain": [
       "<Figure size 1080x720 with 1 Axes>"
      ]
     },
     "metadata": {
      "needs_background": "light"
     },
     "output_type": "display_data"
    }
   ],
   "source": [
    "plt.figure(figsize=(15, 10))  \n",
    "dendrogram(linked, orientation='top')\n",
    "plt.ylabel(\"Дистанция\")\n",
    "plt.title('Кластеризация признаков')\n",
    "plt.show()"
   ]
  },
  {
   "cell_type": "code",
   "execution_count": 45,
   "metadata": {
    "colab": {
     "base_uri": "https://localhost:8080/"
    },
    "id": "pT4uyrr_SIAs",
    "outputId": "7933d1d6-f0ff-4925-bd1f-fe70f576e50b"
   },
   "outputs": [
    {
     "name": "stdout",
     "output_type": "stream",
     "text": [
      "[[ 0.         -0.35502662 -0.04119353]\n",
      " [ 0.          1.90308226 -0.1698438 ]\n",
      " [ 0.         -0.47847954 10.46432602]]\n"
     ]
    },
    {
     "data": {
      "text/plain": [
       "(3, 3)"
      ]
     },
     "execution_count": 45,
     "metadata": {},
     "output_type": "execute_result"
    }
   ],
   "source": [
    "centroids = km.cluster_centers_\n",
    "print(centroids)\n",
    "centroids.shape"
   ]
  },
  {
   "cell_type": "code",
   "execution_count": 46,
   "metadata": {
    "colab": {
     "base_uri": "https://localhost:8080/",
     "height": 143
    },
    "id": "GnZ0GAZ8HLdN",
    "outputId": "e8f1e56e-bdc2-4757-dbbc-97156d3807ee"
   },
   "outputs": [
    {
     "data": {
      "text/html": [
       "<div>\n",
       "<style scoped>\n",
       "    .dataframe tbody tr th:only-of-type {\n",
       "        vertical-align: middle;\n",
       "    }\n",
       "\n",
       "    .dataframe tbody tr th {\n",
       "        vertical-align: top;\n",
       "    }\n",
       "\n",
       "    .dataframe thead th {\n",
       "        text-align: right;\n",
       "    }\n",
       "</style>\n",
       "<table border=\"1\" class=\"dataframe\">\n",
       "  <thead>\n",
       "    <tr style=\"text-align: right;\">\n",
       "      <th></th>\n",
       "      <th>cluster_km</th>\n",
       "      <th>Mean Nr of Purchases</th>\n",
       "      <th>Mean Price per Bill</th>\n",
       "      <th>Mean Qty of Items</th>\n",
       "    </tr>\n",
       "  </thead>\n",
       "  <tbody>\n",
       "    <tr>\n",
       "      <th>0</th>\n",
       "      <td>1</td>\n",
       "      <td>1.00</td>\n",
       "      <td>2674.61</td>\n",
       "      <td>1.28</td>\n",
       "    </tr>\n",
       "    <tr>\n",
       "      <th>1</th>\n",
       "      <td>0</td>\n",
       "      <td>1.00</td>\n",
       "      <td>390.11</td>\n",
       "      <td>3.08</td>\n",
       "    </tr>\n",
       "    <tr>\n",
       "      <th>2</th>\n",
       "      <td>2</td>\n",
       "      <td>1.00</td>\n",
       "      <td>265.21</td>\n",
       "      <td>150.36</td>\n",
       "    </tr>\n",
       "  </tbody>\n",
       "</table>\n",
       "</div>"
      ],
      "text/plain": [
       "   cluster_km  Mean Nr of Purchases  Mean Price per Bill  Mean Qty of Items\n",
       "0           1                  1.00              2674.61               1.28\n",
       "1           0                  1.00               390.11               3.08\n",
       "2           2                  1.00               265.21             150.36"
      ]
     },
     "execution_count": 46,
     "metadata": {},
     "output_type": "execute_result"
    }
   ],
   "source": [
    "superfinal = final.groupby('cluster_km').mean().sort_values(by = 'price', ascending=False).reset_index()\n",
    "superfinal.rename(columns={\"index\": \"Mean Qty of Customers\", \"order_id\": \"Mean Nr of Purchases\", 'price':'Mean Price per Bill', 'quantity':'Mean Qty of Items'})"
   ]
  },
  {
   "cell_type": "code",
   "execution_count": 47,
   "metadata": {
    "id": "51LzpDsqW9Vz"
   },
   "outputs": [],
   "source": [
    "#Нам осталось смёрджить и сделать  датасет для коллег из CRM"
   ]
  },
  {
   "cell_type": "code",
   "execution_count": 48,
   "metadata": {
    "colab": {
     "base_uri": "https://localhost:8080/",
     "height": 424
    },
    "id": "Hx0rhG6UH1YC",
    "outputId": "495fce21-5cb1-45d2-c307-caa64d5a1739"
   },
   "outputs": [],
   "source": [
    "gettingcloser = pd.merge(normcustomers, final, on = 'customer_id')"
   ]
  },
  {
   "cell_type": "code",
   "execution_count": 49,
   "metadata": {},
   "outputs": [],
   "source": [
    "customercluster = gettingcloser[['customer_id', 'cluster_km']]"
   ]
  },
  {
   "cell_type": "code",
   "execution_count": 50,
   "metadata": {
    "colab": {
     "base_uri": "https://localhost:8080/"
    },
    "id": "BreatG63mw6-",
    "outputId": "185e7809-70c2-411f-f416-1a75571cdd43"
   },
   "outputs": [
    {
     "data": {
      "text/plain": [
       "0    2138\n",
       "1     411\n",
       "2      17\n",
       "Name: cluster_km, dtype: int64"
      ]
     },
     "execution_count": 50,
     "metadata": {},
     "output_type": "execute_result"
    }
   ],
   "source": [
    "segmentationdatabase = pd.merge(customercluster, df, on = 'customer_id')\n",
    "segmentationdatabase['cluster_km'].value_counts()"
   ]
  },
  {
   "cell_type": "code",
   "execution_count": 51,
   "metadata": {
    "id": "9-u3ZXk7iW5G"
   },
   "outputs": [],
   "source": [
    "#Изучим верхнеуровнево кластеры vs категории товаров"
   ]
  },
  {
   "cell_type": "code",
   "execution_count": 52,
   "metadata": {
    "colab": {
     "base_uri": "https://localhost:8080/",
     "height": 406
    },
    "id": "A651oKsM0gdX",
    "outputId": "27e1c34a-33ef-40c2-e08a-842d14137af1"
   },
   "outputs": [
    {
     "data": {
      "image/png": "[encoded data removed]",
      "text/plain": [
       "<Figure size 432x288 with 2 Axes>"
      ]
     },
     "metadata": {
      "needs_background": "light"
     },
     "output_type": "display_data"
    }
   ],
   "source": [
    "g = sns.heatmap(segmentationdatabase[segmentationdatabase['cluster_km'] == 2].pivot_table(\n",
    "    index = 'category',\n",
    "    columns = 'date',\n",
    "    values = 'order_id'\n",
    "), cmap=\"crest\")\n",
    "\n",
    "g.set(xlabel=\"\", ylabel=\"\")\n",
    "g.set_title('Тепловая карта потребления категорий товаров у кластера 2')\n",
    "plt.show()"
   ]
  },
  {
   "cell_type": "markdown",
   "metadata": {
    "id": "w5hJZq7n7ca9"
   },
   "source": [
    "Кластер два увеличил количество заказов по категории домохозяйства к концу октября 2019 года. Им можно рассылать предложения с акциями по категории товаров housekeeping (лучше, конечно, ещё подразобрать эту категорию)."
   ]
  },
  {
   "cell_type": "code",
   "execution_count": 53,
   "metadata": {
    "colab": {
     "base_uri": "https://localhost:8080/",
     "height": 406
    },
    "id": "Re_lmLVCa9Q-",
    "outputId": "ad4c3774-872c-4859-937d-49168da77e2a"
   },
   "outputs": [
    {
     "data": {
      "image/png": "[encoded data removed]",
      "text/plain": [
       "<Figure size 432x288 with 2 Axes>"
      ]
     },
     "metadata": {
      "needs_background": "light"
     },
     "output_type": "display_data"
    }
   ],
   "source": [
    "g = sns.heatmap(segmentationdatabase[segmentationdatabase['cluster_km'] == 1].pivot_table(\n",
    "    index = 'category',\n",
    "    columns = 'date',\n",
    "    values = 'order_id'\n",
    "), cmap=\"crest\")\n",
    "\n",
    "g.set(xlabel=\"\", ylabel=\"\")\n",
    "g.set_title('Тепловая карта потребления категорий товаров у кластера 1')\n",
    "plt.show()"
   ]
  },
  {
   "cell_type": "markdown",
   "metadata": {
    "id": "wAdUHodZ7uJh"
   },
   "source": [
    "Кластер 1 равномерно и регулярно делает закупки по товарам housekeeping. Им можно делать рассылку по новинкам в категории housekeeping и реже kitchen."
   ]
  },
  {
   "cell_type": "code",
   "execution_count": 54,
   "metadata": {
    "colab": {
     "base_uri": "https://localhost:8080/",
     "height": 406
    },
    "id": "FF7RVZw6bFcr",
    "outputId": "0ae3a551-9f87-4aaa-9f54-897b545c095d"
   },
   "outputs": [
    {
     "data": {
      "image/png": "[encoded data removed]",
      "text/plain": [
       "<Figure size 432x288 with 2 Axes>"
      ]
     },
     "metadata": {
      "needs_background": "light"
     },
     "output_type": "display_data"
    }
   ],
   "source": [
    "g = sns.heatmap(segmentationdatabase[segmentationdatabase['cluster_km'] == 0].pivot_table(\n",
    "    index = 'category',\n",
    "    columns = 'date',\n",
    "    values = 'order_id'\n",
    "), cmap=\"crest\")\n",
    "\n",
    "g.set(xlabel=\"\", ylabel=\"\")\n",
    "g.set_title('Тепловая карта потребления категорий товаров с ноября у кластера 0')\n",
    "plt.show()"
   ]
  },
  {
   "cell_type": "markdown",
   "metadata": {
    "id": "HfKjoxkjyTvw"
   },
   "source": [
    "Кластер 0 активно и постоянно покупает товары для хозяйства и дизайна, сезонно проявляет сильный интерес к елкам в Новый год и к сезонным растениям к концу лета. В остальное время проявляет интерес к кухонной утвари и дизайну с падением интереса в летний период. Так что можно круглогодично присылать новинки по housekeeping, зимой до середины весны про кухонную утварь, к лету и НГ — про сезонные новинки."
   ]
  },
  {
   "cell_type": "markdown",
   "metadata": {
    "id": "IxHYSflG0gdY"
   },
   "source": [
    "### Наблюдения\n"
   ]
  },
  {
   "cell_type": "markdown",
   "metadata": {
    "id": "YKK2ONPTytKA"
   },
   "source": [
    "## Статистический анализ: разница между группами"
   ]
  },
  {
   "cell_type": "markdown",
   "metadata": {
    "id": "AwNIzRup6NcN"
   },
   "source": [
    "Нулевая гипотеза H0: средние значения групп равны (отсутствуют различия в средних значениях групп)\n",
    "\n",
    "\n",
    "Альтернативная гипотеза H1: по крайней мере, одно среднее значение группы отличается от других групп."
   ]
  },
  {
   "cell_type": "markdown",
   "metadata": {},
   "source": [
    "Если мы не задаемся целью протестировать все три группы разом, а попарно, то:\n",
    "\n",
    "\n",
    "\n",
    "* Проверяем выборки на нормальность. У нас будут с ненормальным распределением, боксплот это покажет.\n",
    "* Наши данные НЕ зависимы. Люди покупали товары сами по себе.\n",
    "* Значит, нам понадобится критерий Манна-Уитни.\n",
    "\n",
    "[Вот тут есть полезная таблица с типами тестов](https://agricolamz.github.io/DS_for_DH/%D0%BF%D1%80%D0%BE%D0%B2%D0%B5%D1%80%D0%BA%D0%B0-%D1%81%D1%82%D0%B0%D1%82%D0%B8%D1%81%D1%82%D0%B8%D1%87%D0%B5%D1%81%D0%BA%D0%B8%D1%85-%D0%B3%D0%B8%D0%BF%D0%BE%D1%82%D0%B5%D0%B7.html)"
   ]
  },
  {
   "cell_type": "code",
   "execution_count": 55,
   "metadata": {
    "colab": {
     "base_uri": "https://localhost:8080/",
     "height": 143
    },
    "id": "rdkK2KCZ2EMQ",
    "outputId": "c3f1065e-66a8-4493-877e-4a6ae18d962f"
   },
   "outputs": [
    {
     "data": {
      "text/plain": [
       "Int64Index([0, 1, 2], dtype='int64', name='cluster_km')"
      ]
     },
     "metadata": {},
     "output_type": "display_data"
    },
    {
     "data": {
      "text/html": [
       "<div>\n",
       "<style scoped>\n",
       "    .dataframe tbody tr th:only-of-type {\n",
       "        vertical-align: middle;\n",
       "    }\n",
       "\n",
       "    .dataframe tbody tr th {\n",
       "        vertical-align: top;\n",
       "    }\n",
       "\n",
       "    .dataframe thead th {\n",
       "        text-align: right;\n",
       "    }\n",
       "</style>\n",
       "<table border=\"1\" class=\"dataframe\">\n",
       "  <thead>\n",
       "    <tr style=\"text-align: right;\">\n",
       "      <th>cluster_km</th>\n",
       "      <th>0</th>\n",
       "      <th>1</th>\n",
       "      <th>2</th>\n",
       "    </tr>\n",
       "  </thead>\n",
       "  <tbody>\n",
       "    <tr>\n",
       "      <th>order_id</th>\n",
       "      <td>2138.00</td>\n",
       "      <td>411.00</td>\n",
       "      <td>17.00</td>\n",
       "    </tr>\n",
       "    <tr>\n",
       "      <th>price</th>\n",
       "      <td>781000.00</td>\n",
       "      <td>1008327.00</td>\n",
       "      <td>3713.00</td>\n",
       "    </tr>\n",
       "    <tr>\n",
       "      <th>quantity</th>\n",
       "      <td>6165.00</td>\n",
       "      <td>481.00</td>\n",
       "      <td>2105.00</td>\n",
       "    </tr>\n",
       "  </tbody>\n",
       "</table>\n",
       "</div>"
      ],
      "text/plain": [
       "cluster_km         0          1       2\n",
       "order_id     2138.00     411.00   17.00\n",
       "price      781000.00 1008327.00 3713.00\n",
       "quantity     6165.00     481.00 2105.00"
      ]
     },
     "metadata": {},
     "output_type": "display_data"
    },
    {
     "data": {
      "text/plain": [
       "cluster_km\n",
       "0    365.29\n",
       "1   2453.35\n",
       "2    218.41\n",
       "Name: price, dtype: float64"
      ]
     },
     "execution_count": 55,
     "metadata": {},
     "output_type": "execute_result"
    }
   ],
   "source": [
    "clusterwise = segmentationdatabase.pivot_table(\n",
    "index = 'cluster_km',\n",
    "values = {'price', 'quantity', 'order_id'},\n",
    "aggfunc = {'price':'sum', 'quantity':'sum', 'order_id':'count'}\n",
    ").T\n",
    "cols = clusterwise.columns\n",
    "display(cols)\n",
    "display(clusterwise)\n",
    "segmentationdatabase.groupby('cluster_km')['price'].mean()\n"
   ]
  },
  {
   "cell_type": "code",
   "execution_count": 56,
   "metadata": {},
   "outputs": [],
   "source": [
    "cluster0 = pd.DataFrame(segmentationdatabase[segmentationdatabase['cluster_km'] == 0]['price'])\n",
    "cluster1 = pd.DataFrame(segmentationdatabase[segmentationdatabase['cluster_km'] == 1]['price'])\n",
    "cluster2 = pd.DataFrame(segmentationdatabase[segmentationdatabase['cluster_km'] == 2]['price'])"
   ]
  },
  {
   "cell_type": "code",
   "execution_count": 57,
   "metadata": {},
   "outputs": [],
   "source": [
    "df_melt = pd.melt(clusterwise.reset_index(), id_vars=['index'], value_vars=[0, 1, 2])\n",
    "df_melt.columns = ['index', 'treatments', 'value']"
   ]
  },
  {
   "cell_type": "code",
   "execution_count": 58,
   "metadata": {},
   "outputs": [
    {
     "data": {
      "image/png": "[encoded data removed]",
      "text/plain": [
       "<Figure size 432x288 with 1 Axes>"
      ]
     },
     "metadata": {
      "needs_background": "light"
     },
     "output_type": "display_data"
    }
   ],
   "source": [
    "ax = sns.boxplot(x='treatments', y='value', data=df_melt, color='#99c2a2')\n",
    "ax = sns.swarmplot(x=\"treatments\", y=\"value\", data=df_melt, color='#7d0013')\n",
    "plt.show()"
   ]
  },
  {
   "cell_type": "code",
   "execution_count": 59,
   "metadata": {},
   "outputs": [
    {
     "name": "stderr",
     "output_type": "stream",
     "text": [
      "/opt/conda/lib/python3.9/site-packages/seaborn/categorical.py:1296: UserWarning: 45.8% of the points cannot be placed; you may want to decrease the size of the markers or use stripplot.\n",
      "  warnings.warn(msg, UserWarning)\n"
     ]
    },
    {
     "data": {
      "image/png": "[encoded data removed]",
      "text/plain": [
       "<Figure size 432x288 with 1 Axes>"
      ]
     },
     "metadata": {
      "needs_background": "light"
     },
     "output_type": "display_data"
    }
   ],
   "source": [
    "ax = sns.boxplot(data=cluster0, color='#99c2a2')\n",
    "ax = sns.swarmplot(data=cluster0, color='#7d0013')\n",
    "ax.set_title('Распределение сумм заказов кластера 0')\n",
    "plt.show()"
   ]
  },
  {
   "cell_type": "code",
   "execution_count": 60,
   "metadata": {},
   "outputs": [
    {
     "name": "stderr",
     "output_type": "stream",
     "text": [
      "/opt/conda/lib/python3.9/site-packages/seaborn/categorical.py:1296: UserWarning: 9.0% of the points cannot be placed; you may want to decrease the size of the markers or use stripplot.\n",
      "  warnings.warn(msg, UserWarning)\n"
     ]
    },
    {
     "data": {
      "image/png": "[encoded data removed]",
      "text/plain": [
       "<Figure size 432x288 with 1 Axes>"
      ]
     },
     "metadata": {
      "needs_background": "light"
     },
     "output_type": "display_data"
    }
   ],
   "source": [
    "ax1 = sns.boxplot(data=cluster1, color='#99c2a2')\n",
    "ax1 = sns.swarmplot(data=cluster1, color='#7d0013')\n",
    "ax1.set_title('Распределение сумм заказов кластера 1')\n",
    "plt.show()"
   ]
  },
  {
   "cell_type": "code",
   "execution_count": 61,
   "metadata": {},
   "outputs": [
    {
     "data": {
      "image/png": "[encoded data removed]",
      "text/plain": [
       "<Figure size 432x288 with 1 Axes>"
      ]
     },
     "metadata": {
      "needs_background": "light"
     },
     "output_type": "display_data"
    }
   ],
   "source": [
    "ax2 = sns.boxplot(data=cluster2, color='#99c2a2')\n",
    "ax2 = sns.swarmplot(data=cluster2, color='#7d0013')\n",
    "ax2.set_title('Распределение сумм заказов кластера 2')\n",
    "plt.show()"
   ]
  },
  {
   "cell_type": "markdown",
   "metadata": {},
   "source": [
    "Это ненормальное распределение."
   ]
  },
  {
   "cell_type": "code",
   "execution_count": 62,
   "metadata": {
    "colab": {
     "base_uri": "https://localhost:8080/"
    },
    "id": "fhR4raQzn5gW",
    "outputId": "c0091e12-7041-4e5e-e58b-3260d146d808"
   },
   "outputs": [
    {
     "data": {
      "text/plain": [
       "MannwhitneyuResult(statistic=6.0, pvalue=0.7)"
      ]
     },
     "metadata": {},
     "output_type": "display_data"
    },
    {
     "data": {
      "text/plain": [
       "MannwhitneyuResult(statistic=5.0, pvalue=1.0)"
      ]
     },
     "metadata": {},
     "output_type": "display_data"
    },
    {
     "data": {
      "text/plain": [
       "MannwhitneyuResult(statistic=8.0, pvalue=0.2)"
      ]
     },
     "metadata": {},
     "output_type": "display_data"
    }
   ],
   "source": [
    "#Однофакторный анализ групп с ненормальным распределением, размер меньше 30.\n",
    "alpha = 0.05\n",
    "\n",
    "display(stats.mannwhitneyu(clusterwise[0], clusterwise[1])) \n",
    "display(stats.mannwhitneyu(clusterwise[1], clusterwise[2])) \n",
    "display(stats.mannwhitneyu(clusterwise[0], clusterwise[2])) "
   ]
  },
  {
   "cell_type": "markdown",
   "metadata": {
    "id": "Gvuh9Tp9xCbG"
   },
   "source": [
    "**Наблюдения**\n",
    "При сравнении кластеров 0-1-2 по сводной таблице Clusterwise ни одно из p-values 0,7; 1; 0,2 не меньше threshold в 0,05, у нас нет оснований отвергнуть гипотезу, что группы различаются. У нас нет достаточных доказательств, чтобы сказать, что истинные средние значения выборок "
   ]
  },
  {
   "cell_type": "code",
   "execution_count": 63,
   "metadata": {},
   "outputs": [
    {
     "data": {
      "text/plain": [
       "MannwhitneyuResult(statistic=array([11033.5]), pvalue=array([1.02905341e-215]))"
      ]
     },
     "metadata": {},
     "output_type": "display_data"
    },
    {
     "data": {
      "text/plain": [
       "MannwhitneyuResult(statistic=array([6902.]), pvalue=array([8.76507797e-12]))"
      ]
     },
     "metadata": {},
     "output_type": "display_data"
    },
    {
     "data": {
      "text/plain": [
       "MannwhitneyuResult(statistic=array([27740.]), pvalue=array([0.00018098]))"
      ]
     },
     "metadata": {},
     "output_type": "display_data"
    }
   ],
   "source": [
    "display(stats.mannwhitneyu(cluster0, cluster1)) \n",
    "display(stats.mannwhitneyu(cluster1, cluster2)) \n",
    "display(stats.mannwhitneyu(cluster0, cluster2)) "
   ]
  },
  {
   "cell_type": "code",
   "execution_count": 64,
   "metadata": {},
   "outputs": [],
   "source": [
    "#Понимаю, что можно завернуть в элегантную форму, сорри\n",
    "cluster0q = pd.DataFrame(segmentationdatabase[segmentationdatabase['cluster_km'] == 0]['quantity'])\n",
    "cluster1q = pd.DataFrame(segmentationdatabase[segmentationdatabase['cluster_km'] == 1]['quantity'])\n",
    "cluster2q = pd.DataFrame(segmentationdatabase[segmentationdatabase['cluster_km'] == 2]['quantity'])"
   ]
  },
  {
   "cell_type": "code",
   "execution_count": 65,
   "metadata": {},
   "outputs": [
    {
     "data": {
      "text/plain": [
       "Text(0.5, 1.0, 'Распределение количества товарных позиций к0')"
      ]
     },
     "execution_count": 65,
     "metadata": {},
     "output_type": "execute_result"
    },
    {
     "data": {
      "image/png": "[encoded data removed]",
      "text/plain": [
       "<Figure size 432x288 with 1 Axes>"
      ]
     },
     "metadata": {
      "needs_background": "light"
     },
     "output_type": "display_data"
    }
   ],
   "source": [
    "plt = sns.boxplot(data=cluster0q, color='#99c2a2')\n",
    "plt.set_title('Распределение количества товарных позиций к0')"
   ]
  },
  {
   "cell_type": "code",
   "execution_count": 66,
   "metadata": {},
   "outputs": [
    {
     "data": {
      "text/plain": [
       "Text(0.5, 1.0, 'Распределение количества товарных позиций к1')"
      ]
     },
     "execution_count": 66,
     "metadata": {},
     "output_type": "execute_result"
    },
    {
     "data": {
      "image/png": "[encoded data removed]",
      "text/plain": [
       "<Figure size 432x288 with 1 Axes>"
      ]
     },
     "metadata": {
      "needs_background": "light"
     },
     "output_type": "display_data"
    }
   ],
   "source": [
    "plt = sns.boxplot(data=cluster1q, color='#99c2a2')\n",
    "plt.set_title('Распределение количества товарных позиций к1')"
   ]
  },
  {
   "cell_type": "code",
   "execution_count": 67,
   "metadata": {},
   "outputs": [
    {
     "data": {
      "text/plain": [
       "Text(0.5, 1.0, 'Распределение количества товарных позиций к2')"
      ]
     },
     "execution_count": 67,
     "metadata": {},
     "output_type": "execute_result"
    },
    {
     "data": {
      "image/png": "[encoded data removed]",
      "text/plain": [
       "<Figure size 432x288 with 1 Axes>"
      ]
     },
     "metadata": {
      "needs_background": "light"
     },
     "output_type": "display_data"
    }
   ],
   "source": [
    "plt = sns.boxplot(data=cluster2q, color='#99c2a2')\n",
    "plt.set_title('Распределение количества товарных позиций к2')"
   ]
  },
  {
   "cell_type": "code",
   "execution_count": 68,
   "metadata": {},
   "outputs": [
    {
     "data": {
      "text/plain": [
       "MannwhitneyuResult(statistic=array([541941.]), pvalue=array([1.87854667e-23]))"
      ]
     },
     "metadata": {},
     "output_type": "display_data"
    },
    {
     "data": {
      "text/plain": [
       "MannwhitneyuResult(statistic=array([9.5]), pvalue=array([2.54025873e-45]))"
      ]
     },
     "metadata": {},
     "output_type": "display_data"
    },
    {
     "data": {
      "text/plain": [
       "MannwhitneyuResult(statistic=array([585.5]), pvalue=array([5.71502623e-18]))"
      ]
     },
     "metadata": {},
     "output_type": "display_data"
    }
   ],
   "source": [
    "display(stats.mannwhitneyu(cluster0q, cluster1q)) \n",
    "display(stats.mannwhitneyu(cluster1q, cluster2q))\n",
    "display(stats.mannwhitneyu(cluster0q, cluster2q)) "
   ]
  },
  {
   "cell_type": "markdown",
   "metadata": {},
   "source": [
    "**Наблюдения**\n",
    "\n",
    "При сравнении кластеров 0 и 2 по таблице segmentationsdatabase есть основания считать, что кластеры 0 и 2 имеют стат.значимые отличия по параметру стоимости чека за заказ, по количеству товарных единиц стат.значимая разница не обнаружена."
   ]
  },
  {
   "cell_type": "markdown",
   "metadata": {
    "id": "jR0Sq4kiG-qT"
   },
   "source": [
    "# Выводы\n",
    "\n",
    "**По неочищенным данным**\n",
    "\n",
    "В датасете доля дубликатов была более половины.\n",
    "График распределения количества товаров в чеке относительно заказов скошен сильно вправо — возможен был бы эффект какого-то большого выброса или в целом заказы чаще содержат большое количество единиц товаров. До очистки был виден выброс в летний период — возможно, акция, которая привлекла много заказов (но не обязательно пользователей). Много дешёвых товаров, которые пользуются спросом. Сезонность выражена весной и летом.\n",
    "\n",
    "**Наблюдение по очищенным данным**\n",
    "\n",
    "Три четверти покупателей делают 1-2 заказа, чаще 1, и 2 покупки в заказе. Три четверти покупателей делают заказ до 1012 руб. Более 6772 руб. — аномальное значение чека.\n",
    "\n",
    "\n",
    "В среднем 4 покупки. Максимальное кол-во заказов — 126, максимальная выручка с 1 клиента 129 778 руб. максимальное число позиций в заказе 1000.\n",
    "\n",
    "Доля аномального количества позиций в заказе (более 51) 0.331%, что составляет 8.51% годовой выручки.\n",
    "Доля аномального числа закупок (более 3) 0.992%, что составляет 7.5% годовой выручки.\n",
    "Количество аномальных покупателей 1.03% и они принесли 17.0% годовой выручки.\n",
    "\n",
    "**Бенчмарк**\n",
    "\n",
    "Отсекаем более 7 заказов в год. Дополнительные фильтры (99% кв.): чек не более 6772 рубля и менее 1000 товарных единиц.\n",
    "\n",
    "**Кластеризация**\n",
    "\n",
    "\n",
    "Кластер два увеличил количество заказов по категории домохозяйства к концу октября 2019 года. Им можно рассылать предложения с акциями по категории товаров housekeeping (лучше, конечно, ещё подразобрать эту категорию).\n",
    "\n",
    "Кластер 1 равномерно и регулярно делает закупки по товарам housekeeping. Им можно делать рассылку по новинкам в категории housekeeping и реже kitchen.\n",
    "\n",
    "Кластер 0 активно и постоянно покупает товары для хозяйства и дизайна, сезонно проявляет сильный интерес к елкам в Новый год и к сезонным растениям к концу лета. В остальное время проявляет интерес к кухонной утвари и дизайну с падением интереса в летний период. Так что можно круглогодично присылать новинки по housekeeping, зимой до середины весны про кухонную утварь, к лету и НГ — про сезонные новинки.\n",
    "\n",
    "**Тестирование**\n",
    "\n",
    "Распределение стоимостей заказов в кластерах ненормальное, выборки небольшие. Применён критерий Манна-Уитни.\n",
    "\n",
    "При сравнении кластеров 0 и 2 по таблице segmentationsdatabase есть основания считать, что кластеры 0 и 2 имеют стат.значимые отличия по параметру стоимости чека за заказ. Были сравнены все стоимости попавших в базу заказов.\n",
    "\n",
    "При сравнении кластеров 0-1-2 по сводной таблице clusterwise ни одно из p-values 0,4; 1; 0,2 не меньше threshold в 0,05, у нас нет оснований отвергнуть гипотезу, что группы различаются. У нас нет достаточных доказательств, чтобы сказать, что истинные средние значения выборок. Были сравнены суммарные значения параметров кластеров."
   ]
  }
 ],
 "metadata": {
  "ExecuteTimeLog": [
   {
    "duration": 53,
    "start_time": "2022-11-06T17:52:37.477Z"
   },
   {
    "duration": 6,
    "start_time": "2022-11-06T17:52:40.934Z"
   },
   {
    "duration": 10023,
    "start_time": "2022-11-06T17:52:45.575Z"
   },
   {
    "duration": 0,
    "start_time": "2022-11-06T17:52:55.601Z"
   },
   {
    "duration": 0,
    "start_time": "2022-11-06T17:52:55.602Z"
   },
   {
    "duration": 0,
    "start_time": "2022-11-06T17:52:55.604Z"
   },
   {
    "duration": 0,
    "start_time": "2022-11-06T17:52:55.605Z"
   },
   {
    "duration": 0,
    "start_time": "2022-11-06T17:52:55.606Z"
   },
   {
    "duration": 0,
    "start_time": "2022-11-06T17:52:55.608Z"
   },
   {
    "duration": 0,
    "start_time": "2022-11-06T17:52:55.609Z"
   },
   {
    "duration": 0,
    "start_time": "2022-11-06T17:52:55.609Z"
   },
   {
    "duration": 0,
    "start_time": "2022-11-06T17:52:55.622Z"
   },
   {
    "duration": 0,
    "start_time": "2022-11-06T17:52:55.623Z"
   },
   {
    "duration": 0,
    "start_time": "2022-11-06T17:52:55.625Z"
   },
   {
    "duration": 0,
    "start_time": "2022-11-06T17:52:55.626Z"
   },
   {
    "duration": 0,
    "start_time": "2022-11-06T17:52:55.627Z"
   },
   {
    "duration": 0,
    "start_time": "2022-11-06T17:52:55.628Z"
   },
   {
    "duration": 0,
    "start_time": "2022-11-06T17:52:55.630Z"
   },
   {
    "duration": 0,
    "start_time": "2022-11-06T17:52:55.631Z"
   },
   {
    "duration": 0,
    "start_time": "2022-11-06T17:52:55.632Z"
   },
   {
    "duration": 0,
    "start_time": "2022-11-06T17:52:55.633Z"
   },
   {
    "duration": 0,
    "start_time": "2022-11-06T17:52:55.635Z"
   },
   {
    "duration": 0,
    "start_time": "2022-11-06T17:52:55.636Z"
   },
   {
    "duration": 0,
    "start_time": "2022-11-06T17:52:55.637Z"
   },
   {
    "duration": 0,
    "start_time": "2022-11-06T17:52:55.639Z"
   },
   {
    "duration": 0,
    "start_time": "2022-11-06T17:52:55.640Z"
   },
   {
    "duration": 0,
    "start_time": "2022-11-06T17:52:55.641Z"
   },
   {
    "duration": 0,
    "start_time": "2022-11-06T17:52:55.643Z"
   },
   {
    "duration": 0,
    "start_time": "2022-11-06T17:52:55.644Z"
   },
   {
    "duration": 0,
    "start_time": "2022-11-06T17:52:55.645Z"
   },
   {
    "duration": 0,
    "start_time": "2022-11-06T17:52:55.648Z"
   },
   {
    "duration": 0,
    "start_time": "2022-11-06T17:52:55.650Z"
   },
   {
    "duration": 0,
    "start_time": "2022-11-06T17:52:55.652Z"
   },
   {
    "duration": 0,
    "start_time": "2022-11-06T17:52:55.653Z"
   },
   {
    "duration": 0,
    "start_time": "2022-11-06T17:52:55.654Z"
   },
   {
    "duration": 0,
    "start_time": "2022-11-06T17:52:55.656Z"
   },
   {
    "duration": 0,
    "start_time": "2022-11-06T17:52:55.657Z"
   },
   {
    "duration": 0,
    "start_time": "2022-11-06T17:52:55.658Z"
   },
   {
    "duration": 1,
    "start_time": "2022-11-06T17:52:55.659Z"
   },
   {
    "duration": 0,
    "start_time": "2022-11-06T17:52:55.661Z"
   },
   {
    "duration": 0,
    "start_time": "2022-11-06T17:52:55.662Z"
   },
   {
    "duration": 0,
    "start_time": "2022-11-06T17:52:55.722Z"
   },
   {
    "duration": 0,
    "start_time": "2022-11-06T17:52:55.724Z"
   },
   {
    "duration": 0,
    "start_time": "2022-11-06T17:52:55.725Z"
   },
   {
    "duration": 0,
    "start_time": "2022-11-06T17:52:55.726Z"
   },
   {
    "duration": 0,
    "start_time": "2022-11-06T17:52:55.727Z"
   },
   {
    "duration": 0,
    "start_time": "2022-11-06T17:52:55.729Z"
   },
   {
    "duration": 0,
    "start_time": "2022-11-06T17:52:55.730Z"
   },
   {
    "duration": 0,
    "start_time": "2022-11-06T17:52:55.733Z"
   },
   {
    "duration": 0,
    "start_time": "2022-11-06T17:52:55.735Z"
   },
   {
    "duration": 0,
    "start_time": "2022-11-06T17:52:55.736Z"
   },
   {
    "duration": 0,
    "start_time": "2022-11-06T17:52:55.737Z"
   },
   {
    "duration": 0,
    "start_time": "2022-11-06T17:52:55.738Z"
   },
   {
    "duration": 0,
    "start_time": "2022-11-06T17:52:55.740Z"
   },
   {
    "duration": 0,
    "start_time": "2022-11-06T17:52:55.741Z"
   },
   {
    "duration": 0,
    "start_time": "2022-11-06T17:52:55.742Z"
   },
   {
    "duration": 0,
    "start_time": "2022-11-06T17:52:55.743Z"
   },
   {
    "duration": 0,
    "start_time": "2022-11-06T17:52:55.745Z"
   },
   {
    "duration": 1,
    "start_time": "2022-11-06T17:52:55.746Z"
   },
   {
    "duration": 0,
    "start_time": "2022-11-06T17:52:55.748Z"
   },
   {
    "duration": 0,
    "start_time": "2022-11-06T17:52:55.749Z"
   },
   {
    "duration": 0,
    "start_time": "2022-11-06T17:52:55.750Z"
   },
   {
    "duration": 4003,
    "start_time": "2022-11-06T17:54:28.194Z"
   },
   {
    "duration": 199,
    "start_time": "2022-11-06T17:54:32.200Z"
   },
   {
    "duration": 3979,
    "start_time": "2022-11-06T17:54:32.739Z"
   },
   {
    "duration": 56,
    "start_time": "2022-11-06T17:54:36.720Z"
   },
   {
    "duration": 501,
    "start_time": "2022-11-06T17:54:36.777Z"
   },
   {
    "duration": 429,
    "start_time": "2022-11-06T17:54:37.280Z"
   },
   {
    "duration": 11,
    "start_time": "2022-11-06T17:54:37.711Z"
   },
   {
    "duration": 28,
    "start_time": "2022-11-06T17:54:37.724Z"
   },
   {
    "duration": 5,
    "start_time": "2022-11-06T17:54:37.754Z"
   },
   {
    "duration": 20,
    "start_time": "2022-11-06T17:54:37.760Z"
   },
   {
    "duration": 11,
    "start_time": "2022-11-06T17:54:37.781Z"
   },
   {
    "duration": 30,
    "start_time": "2022-11-06T17:54:37.794Z"
   },
   {
    "duration": 15,
    "start_time": "2022-11-06T17:54:37.825Z"
   },
   {
    "duration": 22,
    "start_time": "2022-11-06T17:54:37.841Z"
   },
   {
    "duration": 10,
    "start_time": "2022-11-06T17:54:37.864Z"
   },
   {
    "duration": 27,
    "start_time": "2022-11-06T17:54:37.875Z"
   },
   {
    "duration": 11,
    "start_time": "2022-11-06T17:54:37.904Z"
   },
   {
    "duration": 7,
    "start_time": "2022-11-06T17:54:37.917Z"
   },
   {
    "duration": 17,
    "start_time": "2022-11-06T17:54:37.926Z"
   },
   {
    "duration": 9,
    "start_time": "2022-11-06T17:54:37.945Z"
   },
   {
    "duration": 428,
    "start_time": "2022-11-06T17:54:37.956Z"
   },
   {
    "duration": 426,
    "start_time": "2022-11-06T17:54:38.386Z"
   },
   {
    "duration": 397,
    "start_time": "2022-11-06T17:54:38.814Z"
   },
   {
    "duration": 231,
    "start_time": "2022-11-06T17:54:39.213Z"
   },
   {
    "duration": 222,
    "start_time": "2022-11-06T17:54:39.446Z"
   },
   {
    "duration": 230,
    "start_time": "2022-11-06T17:54:39.669Z"
   },
   {
    "duration": 471,
    "start_time": "2022-11-06T17:54:39.901Z"
   },
   {
    "duration": 14,
    "start_time": "2022-11-06T17:54:40.374Z"
   },
   {
    "duration": 44,
    "start_time": "2022-11-06T17:54:40.389Z"
   },
   {
    "duration": 7,
    "start_time": "2022-11-06T17:54:40.437Z"
   },
   {
    "duration": 6,
    "start_time": "2022-11-06T17:54:40.446Z"
   },
   {
    "duration": 4,
    "start_time": "2022-11-06T17:54:40.454Z"
   },
   {
    "duration": 6,
    "start_time": "2022-11-06T17:54:40.460Z"
   },
   {
    "duration": 8,
    "start_time": "2022-11-06T17:54:40.467Z"
   },
   {
    "duration": 47,
    "start_time": "2022-11-06T17:54:40.477Z"
   },
   {
    "duration": 5,
    "start_time": "2022-11-06T17:54:40.525Z"
   },
   {
    "duration": 31,
    "start_time": "2022-11-06T17:54:40.532Z"
   },
   {
    "duration": 5,
    "start_time": "2022-11-06T17:54:40.565Z"
   },
   {
    "duration": 16,
    "start_time": "2022-11-06T17:54:40.571Z"
   },
   {
    "duration": 3,
    "start_time": "2022-11-06T17:54:40.589Z"
   },
   {
    "duration": 3,
    "start_time": "2022-11-06T17:54:40.594Z"
   },
   {
    "duration": 5,
    "start_time": "2022-11-06T17:54:40.598Z"
   },
   {
    "duration": 4,
    "start_time": "2022-11-06T17:54:40.604Z"
   },
   {
    "duration": 138,
    "start_time": "2022-11-06T17:54:40.609Z"
   },
   {
    "duration": 4,
    "start_time": "2022-11-06T17:54:40.749Z"
   },
   {
    "duration": 41893,
    "start_time": "2022-11-06T17:54:40.754Z"
   },
   {
    "duration": 1,
    "start_time": "2022-11-06T17:55:22.649Z"
   },
   {
    "duration": 0,
    "start_time": "2022-11-06T17:55:22.651Z"
   },
   {
    "duration": 0,
    "start_time": "2022-11-06T17:55:22.652Z"
   },
   {
    "duration": 0,
    "start_time": "2022-11-06T17:55:22.654Z"
   },
   {
    "duration": 0,
    "start_time": "2022-11-06T17:55:22.655Z"
   },
   {
    "duration": 0,
    "start_time": "2022-11-06T17:55:22.656Z"
   },
   {
    "duration": 0,
    "start_time": "2022-11-06T17:55:22.658Z"
   },
   {
    "duration": 0,
    "start_time": "2022-11-06T17:55:22.659Z"
   },
   {
    "duration": 0,
    "start_time": "2022-11-06T17:55:22.661Z"
   },
   {
    "duration": 0,
    "start_time": "2022-11-06T17:55:22.662Z"
   },
   {
    "duration": 0,
    "start_time": "2022-11-06T17:55:22.664Z"
   },
   {
    "duration": 0,
    "start_time": "2022-11-06T17:55:22.665Z"
   },
   {
    "duration": 0,
    "start_time": "2022-11-06T17:55:22.666Z"
   },
   {
    "duration": 0,
    "start_time": "2022-11-06T17:55:22.668Z"
   },
   {
    "duration": 0,
    "start_time": "2022-11-06T17:55:22.669Z"
   },
   {
    "duration": 0,
    "start_time": "2022-11-06T17:55:22.670Z"
   },
   {
    "duration": 0,
    "start_time": "2022-11-06T17:55:22.672Z"
   },
   {
    "duration": 5,
    "start_time": "2022-11-06T17:55:26.666Z"
   },
   {
    "duration": 19,
    "start_time": "2022-11-06T17:55:27.431Z"
   },
   {
    "duration": 14,
    "start_time": "2022-11-06T17:55:28.242Z"
   },
   {
    "duration": 3,
    "start_time": "2022-11-06T17:55:28.985Z"
   },
   {
    "duration": 17,
    "start_time": "2022-11-06T17:55:29.630Z"
   },
   {
    "duration": 2,
    "start_time": "2022-11-06T17:55:30.233Z"
   },
   {
    "duration": 8,
    "start_time": "2022-11-06T17:55:53.666Z"
   },
   {
    "duration": 8,
    "start_time": "2022-11-06T17:56:06.681Z"
   },
   {
    "duration": 8,
    "start_time": "2022-11-06T17:56:45.453Z"
   },
   {
    "duration": 3,
    "start_time": "2022-11-06T17:56:46.465Z"
   },
   {
    "duration": 2,
    "start_time": "2022-11-06T17:56:48.416Z"
   },
   {
    "duration": 17,
    "start_time": "2022-11-06T17:56:49.044Z"
   },
   {
    "duration": 4,
    "start_time": "2022-11-06T17:56:49.705Z"
   },
   {
    "duration": 3,
    "start_time": "2022-11-06T17:56:50.257Z"
   },
   {
    "duration": 2,
    "start_time": "2022-11-06T17:56:50.914Z"
   },
   {
    "duration": 3,
    "start_time": "2022-11-06T17:56:51.639Z"
   },
   {
    "duration": 131,
    "start_time": "2022-11-06T17:56:53.337Z"
   },
   {
    "duration": 3,
    "start_time": "2022-11-06T17:57:35.778Z"
   },
   {
    "duration": 2,
    "start_time": "2022-11-06T17:57:36.558Z"
   },
   {
    "duration": 12,
    "start_time": "2022-11-06T17:57:36.841Z"
   },
   {
    "duration": 5,
    "start_time": "2022-11-06T17:57:37.048Z"
   },
   {
    "duration": 3,
    "start_time": "2022-11-06T17:57:37.313Z"
   },
   {
    "duration": 2,
    "start_time": "2022-11-06T17:57:37.568Z"
   },
   {
    "duration": 137,
    "start_time": "2022-11-06T17:57:41.554Z"
   },
   {
    "duration": 4,
    "start_time": "2022-11-06T17:57:41.936Z"
   },
   {
    "duration": 5,
    "start_time": "2022-11-06T17:57:44.858Z"
   },
   {
    "duration": 14,
    "start_time": "2022-11-06T17:57:49.553Z"
   },
   {
    "duration": 3,
    "start_time": "2022-11-06T17:57:50.392Z"
   },
   {
    "duration": 28,
    "start_time": "2022-11-06T17:57:51.260Z"
   },
   {
    "duration": 2,
    "start_time": "2022-11-06T17:57:53.935Z"
   },
   {
    "duration": 493,
    "start_time": "2022-11-06T17:57:54.336Z"
   },
   {
    "duration": 512,
    "start_time": "2022-11-06T17:59:25.986Z"
   },
   {
    "duration": 533,
    "start_time": "2022-11-06T18:00:16.315Z"
   },
   {
    "duration": 14,
    "start_time": "2022-11-06T18:01:33.753Z"
   },
   {
    "duration": 8,
    "start_time": "2022-11-06T18:01:36.884Z"
   },
   {
    "duration": 8,
    "start_time": "2022-11-06T18:01:40.281Z"
   },
   {
    "duration": 196,
    "start_time": "2022-11-06T18:01:40.959Z"
   },
   {
    "duration": 10,
    "start_time": "2022-11-06T18:01:44.402Z"
   },
   {
    "duration": 4065,
    "start_time": "2022-11-06T18:01:53.553Z"
   },
   {
    "duration": 5,
    "start_time": "2022-11-06T18:01:59.770Z"
   },
   {
    "duration": 22,
    "start_time": "2022-11-06T18:02:02.246Z"
   },
   {
    "duration": 313,
    "start_time": "2022-11-06T18:02:07.457Z"
   },
   {
    "duration": 90,
    "start_time": "2022-11-06T18:02:24.058Z"
   },
   {
    "duration": 124,
    "start_time": "2022-11-06T18:03:30.114Z"
   },
   {
    "duration": 5,
    "start_time": "2022-11-06T18:03:30.850Z"
   },
   {
    "duration": 61450,
    "start_time": "2022-11-06T18:03:31.474Z"
   },
   {
    "duration": 5,
    "start_time": "2022-11-06T18:04:32.926Z"
   },
   {
    "duration": 22,
    "start_time": "2022-11-06T18:04:32.932Z"
   },
   {
    "duration": 5,
    "start_time": "2022-11-06T18:04:32.956Z"
   },
   {
    "duration": 29,
    "start_time": "2022-11-06T18:04:32.962Z"
   },
   {
    "duration": 7,
    "start_time": "2022-11-06T18:04:32.992Z"
   },
   {
    "duration": 3021,
    "start_time": "2022-11-06T18:04:33.001Z"
   },
   {
    "duration": 0,
    "start_time": "2022-11-06T18:04:36.023Z"
   },
   {
    "duration": 0,
    "start_time": "2022-11-06T18:04:36.024Z"
   },
   {
    "duration": 155,
    "start_time": "2022-11-06T18:04:39.121Z"
   },
   {
    "duration": 5,
    "start_time": "2022-11-06T18:04:39.392Z"
   },
   {
    "duration": 62913,
    "start_time": "2022-11-06T18:04:39.650Z"
   },
   {
    "duration": 5,
    "start_time": "2022-11-06T18:05:42.564Z"
   },
   {
    "duration": 13,
    "start_time": "2022-11-06T18:05:42.570Z"
   },
   {
    "duration": 2,
    "start_time": "2022-11-06T18:05:42.584Z"
   },
   {
    "duration": 45,
    "start_time": "2022-11-06T18:05:42.588Z"
   },
   {
    "duration": 2,
    "start_time": "2022-11-06T18:05:42.635Z"
   },
   {
    "duration": 519,
    "start_time": "2022-11-06T18:05:43.154Z"
   },
   {
    "duration": 484,
    "start_time": "2022-11-06T18:05:43.841Z"
   },
   {
    "duration": 519,
    "start_time": "2022-11-06T18:05:45.408Z"
   },
   {
    "duration": 6,
    "start_time": "2022-11-06T18:07:06.839Z"
   },
   {
    "duration": 2,
    "start_time": "2022-11-06T18:07:08.275Z"
   },
   {
    "duration": 16,
    "start_time": "2022-11-06T18:07:08.966Z"
   },
   {
    "duration": 4,
    "start_time": "2022-11-06T18:07:09.569Z"
   },
   {
    "duration": 2,
    "start_time": "2022-11-06T18:07:10.175Z"
   },
   {
    "duration": 2,
    "start_time": "2022-11-06T18:07:10.883Z"
   },
   {
    "duration": 2,
    "start_time": "2022-11-06T18:07:20.444Z"
   },
   {
    "duration": 144,
    "start_time": "2022-11-06T18:07:21.913Z"
   },
   {
    "duration": 5,
    "start_time": "2022-11-06T18:07:23.795Z"
   },
   {
    "duration": 62083,
    "start_time": "2022-11-06T18:07:24.515Z"
   },
   {
    "duration": 27,
    "start_time": "2022-11-06T18:42:48.998Z"
   },
   {
    "duration": 24,
    "start_time": "2022-11-06T18:43:04.160Z"
   },
   {
    "duration": 22,
    "start_time": "2022-11-06T18:43:13.908Z"
   },
   {
    "duration": 17,
    "start_time": "2022-11-06T18:43:18.803Z"
   },
   {
    "duration": 23,
    "start_time": "2022-11-06T18:43:30.933Z"
   },
   {
    "duration": 21,
    "start_time": "2022-11-06T18:43:34.652Z"
   },
   {
    "duration": 25,
    "start_time": "2022-11-06T18:43:43.479Z"
   },
   {
    "duration": 142,
    "start_time": "2022-11-06T18:47:25.632Z"
   },
   {
    "duration": 5,
    "start_time": "2022-11-06T18:47:26.380Z"
   },
   {
    "duration": 61913,
    "start_time": "2022-11-06T18:47:27.012Z"
   },
   {
    "duration": 7,
    "start_time": "2022-11-06T18:48:28.926Z"
   },
   {
    "duration": 40,
    "start_time": "2022-11-06T18:48:28.935Z"
   },
   {
    "duration": 4,
    "start_time": "2022-11-06T18:48:28.978Z"
   },
   {
    "duration": 43,
    "start_time": "2022-11-06T18:48:28.984Z"
   },
   {
    "duration": 3,
    "start_time": "2022-11-06T18:48:29.029Z"
   },
   {
    "duration": 538,
    "start_time": "2022-11-06T18:48:29.033Z"
   },
   {
    "duration": 475,
    "start_time": "2022-11-06T18:48:29.572Z"
   },
   {
    "duration": 489,
    "start_time": "2022-11-06T18:48:30.049Z"
   },
   {
    "duration": 2,
    "start_time": "2022-11-06T18:48:46.510Z"
   },
   {
    "duration": 16,
    "start_time": "2022-11-06T18:49:39.181Z"
   },
   {
    "duration": 17,
    "start_time": "2022-11-06T18:49:48.780Z"
   },
   {
    "duration": 3,
    "start_time": "2022-11-06T18:50:19.446Z"
   },
   {
    "duration": 11,
    "start_time": "2022-11-06T18:51:03.382Z"
   },
   {
    "duration": 7,
    "start_time": "2022-11-06T18:51:05.452Z"
   },
   {
    "duration": 24,
    "start_time": "2022-11-06T18:51:06.104Z"
   },
   {
    "duration": 3,
    "start_time": "2022-11-06T18:51:07.261Z"
   },
   {
    "duration": 713,
    "start_time": "2022-11-06T18:51:24.944Z"
   },
   {
    "duration": 16,
    "start_time": "2022-11-06T18:51:35.118Z"
   },
   {
    "duration": 2336,
    "start_time": "2022-11-06T18:52:53.206Z"
   },
   {
    "duration": 2078,
    "start_time": "2022-11-06T18:53:07.733Z"
   },
   {
    "duration": 14,
    "start_time": "2022-11-06T18:53:33.453Z"
   },
   {
    "duration": 13,
    "start_time": "2022-11-06T18:53:44.254Z"
   },
   {
    "duration": 14,
    "start_time": "2022-11-06T18:53:45.517Z"
   },
   {
    "duration": 14,
    "start_time": "2022-11-06T18:53:46.337Z"
   },
   {
    "duration": 13,
    "start_time": "2022-11-06T18:53:56.901Z"
   },
   {
    "duration": 24,
    "start_time": "2022-11-06T18:53:59.439Z"
   },
   {
    "duration": 3,
    "start_time": "2022-11-06T18:53:59.652Z"
   },
   {
    "duration": 13,
    "start_time": "2022-11-06T18:53:59.930Z"
   },
   {
    "duration": 14,
    "start_time": "2022-11-06T18:54:11.301Z"
   },
   {
    "duration": 51,
    "start_time": "2022-11-06T18:54:14.644Z"
   },
   {
    "duration": 5670,
    "start_time": "2022-11-06T18:54:23.682Z"
   },
   {
    "duration": 54,
    "start_time": "2022-11-06T18:54:29.356Z"
   },
   {
    "duration": 463,
    "start_time": "2022-11-06T18:54:29.412Z"
   },
   {
    "duration": 460,
    "start_time": "2022-11-06T18:54:29.877Z"
   },
   {
    "duration": 7,
    "start_time": "2022-11-06T18:54:30.339Z"
   },
   {
    "duration": 59,
    "start_time": "2022-11-06T18:54:30.347Z"
   },
   {
    "duration": 19,
    "start_time": "2022-11-06T18:54:30.407Z"
   },
   {
    "duration": 62,
    "start_time": "2022-11-06T18:54:30.427Z"
   },
   {
    "duration": 34,
    "start_time": "2022-11-06T18:54:30.490Z"
   },
   {
    "duration": 47,
    "start_time": "2022-11-06T18:54:30.526Z"
   },
   {
    "duration": 42,
    "start_time": "2022-11-06T18:54:30.575Z"
   },
   {
    "duration": 34,
    "start_time": "2022-11-06T18:54:30.619Z"
   },
   {
    "duration": 39,
    "start_time": "2022-11-06T18:54:30.655Z"
   },
   {
    "duration": 50,
    "start_time": "2022-11-06T18:54:30.697Z"
   },
   {
    "duration": 47,
    "start_time": "2022-11-06T18:54:30.749Z"
   },
   {
    "duration": 25,
    "start_time": "2022-11-06T18:54:30.798Z"
   },
   {
    "duration": 26,
    "start_time": "2022-11-06T18:54:30.825Z"
   },
   {
    "duration": 46,
    "start_time": "2022-11-06T18:54:30.852Z"
   },
   {
    "duration": 476,
    "start_time": "2022-11-06T18:54:30.900Z"
   },
   {
    "duration": 436,
    "start_time": "2022-11-06T18:54:31.378Z"
   },
   {
    "duration": 322,
    "start_time": "2022-11-06T18:54:31.815Z"
   },
   {
    "duration": 240,
    "start_time": "2022-11-06T18:54:32.138Z"
   },
   {
    "duration": 237,
    "start_time": "2022-11-06T18:54:32.379Z"
   },
   {
    "duration": 225,
    "start_time": "2022-11-06T18:54:32.617Z"
   },
   {
    "duration": 446,
    "start_time": "2022-11-06T18:54:32.844Z"
   },
   {
    "duration": 12,
    "start_time": "2022-11-06T18:54:33.292Z"
   },
   {
    "duration": 40,
    "start_time": "2022-11-06T18:54:33.306Z"
   },
   {
    "duration": 6,
    "start_time": "2022-11-06T18:54:33.348Z"
   },
   {
    "duration": 31,
    "start_time": "2022-11-06T18:54:33.356Z"
   },
   {
    "duration": 21,
    "start_time": "2022-11-06T18:54:33.388Z"
   },
   {
    "duration": 24,
    "start_time": "2022-11-06T18:54:33.410Z"
   },
   {
    "duration": 26,
    "start_time": "2022-11-06T18:54:33.436Z"
   },
   {
    "duration": 28,
    "start_time": "2022-11-06T18:54:33.463Z"
   },
   {
    "duration": 27,
    "start_time": "2022-11-06T18:54:33.493Z"
   },
   {
    "duration": 20,
    "start_time": "2022-11-06T18:54:33.521Z"
   },
   {
    "duration": 26,
    "start_time": "2022-11-06T18:54:33.542Z"
   },
   {
    "duration": 28,
    "start_time": "2022-11-06T18:54:33.569Z"
   },
   {
    "duration": 13,
    "start_time": "2022-11-06T18:54:33.598Z"
   },
   {
    "duration": 39,
    "start_time": "2022-11-06T18:54:33.612Z"
   },
   {
    "duration": 27,
    "start_time": "2022-11-06T18:54:33.652Z"
   },
   {
    "duration": 31,
    "start_time": "2022-11-06T18:54:33.684Z"
   },
   {
    "duration": 152,
    "start_time": "2022-11-06T18:54:33.717Z"
   },
   {
    "duration": 4,
    "start_time": "2022-11-06T18:54:33.871Z"
   },
   {
    "duration": 63097,
    "start_time": "2022-11-06T18:54:33.877Z"
   },
   {
    "duration": 4,
    "start_time": "2022-11-06T18:55:36.976Z"
   },
   {
    "duration": 19,
    "start_time": "2022-11-06T18:55:36.981Z"
   },
   {
    "duration": 25,
    "start_time": "2022-11-06T18:55:37.002Z"
   },
   {
    "duration": 22,
    "start_time": "2022-11-06T18:55:37.028Z"
   },
   {
    "duration": 2,
    "start_time": "2022-11-06T18:55:37.052Z"
   },
   {
    "duration": 409,
    "start_time": "2022-11-06T18:55:37.055Z"
   },
   {
    "duration": 308,
    "start_time": "2022-11-06T18:55:37.465Z"
   },
   {
    "duration": 385,
    "start_time": "2022-11-06T18:55:37.774Z"
   },
   {
    "duration": 16,
    "start_time": "2022-11-06T18:55:38.160Z"
   },
   {
    "duration": 30,
    "start_time": "2022-11-06T18:55:38.178Z"
   },
   {
    "duration": 242,
    "start_time": "2022-11-06T18:55:38.210Z"
   },
   {
    "duration": 4,
    "start_time": "2022-11-06T18:55:38.454Z"
   },
   {
    "duration": 22,
    "start_time": "2022-11-06T18:55:38.460Z"
   },
   {
    "duration": 101,
    "start_time": "2022-11-06T18:55:38.485Z"
   },
   {
    "duration": 8,
    "start_time": "2022-11-06T18:55:38.589Z"
   },
   {
    "duration": 9,
    "start_time": "2022-11-06T18:55:38.598Z"
   },
   {
    "duration": 140,
    "start_time": "2022-11-06T18:55:38.634Z"
   },
   {
    "duration": 7,
    "start_time": "2022-11-06T18:55:49.559Z"
   },
   {
    "duration": 12,
    "start_time": "2022-11-06T18:55:59.301Z"
   },
   {
    "duration": 3,
    "start_time": "2022-11-06T18:56:03.375Z"
   },
   {
    "duration": 12,
    "start_time": "2022-11-06T18:56:03.635Z"
   },
   {
    "duration": 8,
    "start_time": "2022-11-06T18:56:19.838Z"
   },
   {
    "duration": 6,
    "start_time": "2022-11-06T18:56:20.559Z"
   },
   {
    "duration": 23,
    "start_time": "2022-11-06T18:56:21.213Z"
   },
   {
    "duration": 2,
    "start_time": "2022-11-06T18:56:22.196Z"
   },
   {
    "duration": 12,
    "start_time": "2022-11-06T18:56:22.941Z"
   },
   {
    "duration": 5682,
    "start_time": "2022-11-06T18:56:36.275Z"
   },
   {
    "duration": 53,
    "start_time": "2022-11-06T18:56:41.959Z"
   },
   {
    "duration": 470,
    "start_time": "2022-11-06T18:56:42.014Z"
   },
   {
    "duration": 447,
    "start_time": "2022-11-06T18:56:42.486Z"
   },
   {
    "duration": 8,
    "start_time": "2022-11-06T18:56:42.935Z"
   },
   {
    "duration": 25,
    "start_time": "2022-11-06T18:56:42.945Z"
   },
   {
    "duration": 5,
    "start_time": "2022-11-06T18:56:42.972Z"
   },
   {
    "duration": 18,
    "start_time": "2022-11-06T18:56:42.979Z"
   },
   {
    "duration": 31,
    "start_time": "2022-11-06T18:56:42.999Z"
   },
   {
    "duration": 18,
    "start_time": "2022-11-06T18:56:43.033Z"
   },
   {
    "duration": 16,
    "start_time": "2022-11-06T18:56:43.053Z"
   },
   {
    "duration": 26,
    "start_time": "2022-11-06T18:56:43.071Z"
   },
   {
    "duration": 10,
    "start_time": "2022-11-06T18:56:43.099Z"
   },
   {
    "duration": 19,
    "start_time": "2022-11-06T18:56:43.111Z"
   },
   {
    "duration": 13,
    "start_time": "2022-11-06T18:56:43.132Z"
   },
   {
    "duration": 6,
    "start_time": "2022-11-06T18:56:43.147Z"
   },
   {
    "duration": 5,
    "start_time": "2022-11-06T18:56:43.154Z"
   },
   {
    "duration": 4,
    "start_time": "2022-11-06T18:56:43.160Z"
   },
   {
    "duration": 411,
    "start_time": "2022-11-06T18:56:43.166Z"
   },
   {
    "duration": 472,
    "start_time": "2022-11-06T18:56:43.579Z"
   },
   {
    "duration": 322,
    "start_time": "2022-11-06T18:56:44.052Z"
   },
   {
    "duration": 228,
    "start_time": "2022-11-06T18:56:44.376Z"
   },
   {
    "duration": 228,
    "start_time": "2022-11-06T18:56:44.606Z"
   },
   {
    "duration": 231,
    "start_time": "2022-11-06T18:56:44.836Z"
   },
   {
    "duration": 478,
    "start_time": "2022-11-06T18:56:45.069Z"
   },
   {
    "duration": 13,
    "start_time": "2022-11-06T18:56:45.548Z"
   },
   {
    "duration": 29,
    "start_time": "2022-11-06T18:56:45.563Z"
   },
   {
    "duration": 7,
    "start_time": "2022-11-06T18:56:45.595Z"
   },
   {
    "duration": 6,
    "start_time": "2022-11-06T18:56:45.622Z"
   },
   {
    "duration": 10,
    "start_time": "2022-11-06T18:56:45.629Z"
   },
   {
    "duration": 8,
    "start_time": "2022-11-06T18:56:45.640Z"
   },
   {
    "duration": 15,
    "start_time": "2022-11-06T18:56:45.650Z"
   },
   {
    "duration": 10,
    "start_time": "2022-11-06T18:56:45.667Z"
   },
   {
    "duration": 13,
    "start_time": "2022-11-06T18:56:45.679Z"
   },
   {
    "duration": 9,
    "start_time": "2022-11-06T18:56:45.693Z"
   },
   {
    "duration": 18,
    "start_time": "2022-11-06T18:56:45.704Z"
   },
   {
    "duration": 25,
    "start_time": "2022-11-06T18:56:45.724Z"
   },
   {
    "duration": 12,
    "start_time": "2022-11-06T18:56:45.751Z"
   },
   {
    "duration": 4,
    "start_time": "2022-11-06T18:56:45.765Z"
   },
   {
    "duration": 4,
    "start_time": "2022-11-06T18:56:45.771Z"
   },
   {
    "duration": 4,
    "start_time": "2022-11-06T18:56:45.776Z"
   },
   {
    "duration": 141,
    "start_time": "2022-11-06T18:56:45.781Z"
   },
   {
    "duration": 4,
    "start_time": "2022-11-06T18:56:45.924Z"
   },
   {
    "duration": 61519,
    "start_time": "2022-11-06T18:56:45.929Z"
   },
   {
    "duration": 5,
    "start_time": "2022-11-06T18:57:47.449Z"
   },
   {
    "duration": 14,
    "start_time": "2022-11-06T18:57:47.456Z"
   },
   {
    "duration": 4,
    "start_time": "2022-11-06T18:57:47.472Z"
   },
   {
    "duration": 21,
    "start_time": "2022-11-06T18:57:47.477Z"
   },
   {
    "duration": 22,
    "start_time": "2022-11-06T18:57:47.500Z"
   },
   {
    "duration": 402,
    "start_time": "2022-11-06T18:57:47.524Z"
   },
   {
    "duration": 257,
    "start_time": "2022-11-06T18:57:47.927Z"
   },
   {
    "duration": 369,
    "start_time": "2022-11-06T18:57:48.186Z"
   },
   {
    "duration": 13,
    "start_time": "2022-11-06T18:57:48.557Z"
   },
   {
    "duration": 7,
    "start_time": "2022-11-06T18:57:48.572Z"
   },
   {
    "duration": 264,
    "start_time": "2022-11-06T18:57:48.582Z"
   },
   {
    "duration": 4,
    "start_time": "2022-11-06T18:57:48.848Z"
   },
   {
    "duration": 21,
    "start_time": "2022-11-06T18:57:48.854Z"
   },
   {
    "duration": 114,
    "start_time": "2022-11-06T18:57:48.877Z"
   },
   {
    "duration": 11,
    "start_time": "2022-11-06T18:59:05.393Z"
   },
   {
    "duration": 12,
    "start_time": "2022-11-06T18:59:08.763Z"
   },
   {
    "duration": 50,
    "start_time": "2022-11-06T18:59:12.177Z"
   },
   {
    "duration": 11,
    "start_time": "2022-11-06T18:59:16.293Z"
   },
   {
    "duration": 4,
    "start_time": "2022-11-06T18:59:29.537Z"
   },
   {
    "duration": 14,
    "start_time": "2022-11-06T18:59:30.018Z"
   },
   {
    "duration": 6,
    "start_time": "2022-11-06T18:59:33.234Z"
   },
   {
    "duration": 7,
    "start_time": "2022-11-06T18:59:33.531Z"
   },
   {
    "duration": 5,
    "start_time": "2022-11-06T18:59:34.607Z"
   },
   {
    "duration": 4,
    "start_time": "2022-11-06T18:59:35.185Z"
   },
   {
    "duration": 441,
    "start_time": "2022-11-06T18:59:35.459Z"
   },
   {
    "duration": 627,
    "start_time": "2022-11-06T18:59:36.248Z"
   },
   {
    "duration": 176,
    "start_time": "2022-11-06T18:59:38.105Z"
   },
   {
    "duration": 262,
    "start_time": "2022-11-06T18:59:39.250Z"
   },
   {
    "duration": 218,
    "start_time": "2022-11-06T18:59:40.041Z"
   },
   {
    "duration": 227,
    "start_time": "2022-11-06T18:59:40.400Z"
   },
   {
    "duration": 493,
    "start_time": "2022-11-06T18:59:41.097Z"
   },
   {
    "duration": 18,
    "start_time": "2022-11-06T18:59:41.837Z"
   },
   {
    "duration": 29,
    "start_time": "2022-11-06T18:59:44.429Z"
   },
   {
    "duration": 8,
    "start_time": "2022-11-06T18:59:45.219Z"
   },
   {
    "duration": 7,
    "start_time": "2022-11-06T18:59:45.983Z"
   },
   {
    "duration": 29,
    "start_time": "2022-11-06T19:01:17.993Z"
   },
   {
    "duration": 8,
    "start_time": "2022-11-06T19:01:18.281Z"
   },
   {
    "duration": 8,
    "start_time": "2022-11-06T19:01:18.932Z"
   },
   {
    "duration": 5,
    "start_time": "2022-11-06T19:01:19.880Z"
   },
   {
    "duration": 5,
    "start_time": "2022-11-06T19:01:20.233Z"
   },
   {
    "duration": 10,
    "start_time": "2022-11-06T19:01:20.559Z"
   },
   {
    "duration": 7,
    "start_time": "2022-11-06T19:01:20.979Z"
   },
   {
    "duration": 9,
    "start_time": "2022-11-06T19:01:22.593Z"
   },
   {
    "duration": 6,
    "start_time": "2022-11-06T19:01:23.000Z"
   },
   {
    "duration": 2,
    "start_time": "2022-11-06T19:01:24.192Z"
   },
   {
    "duration": 12,
    "start_time": "2022-11-06T19:01:24.976Z"
   },
   {
    "duration": 4,
    "start_time": "2022-11-06T19:01:25.617Z"
   },
   {
    "duration": 2,
    "start_time": "2022-11-06T19:01:26.315Z"
   },
   {
    "duration": 2,
    "start_time": "2022-11-06T19:01:27.256Z"
   },
   {
    "duration": 3,
    "start_time": "2022-11-06T19:01:27.593Z"
   },
   {
    "duration": 131,
    "start_time": "2022-11-06T19:01:28.800Z"
   },
   {
    "duration": 4,
    "start_time": "2022-11-06T19:01:29.649Z"
   },
   {
    "duration": 40546,
    "start_time": "2022-11-06T19:01:30.337Z"
   },
   {
    "duration": 0,
    "start_time": "2022-11-06T19:02:10.885Z"
   },
   {
    "duration": 0,
    "start_time": "2022-11-06T19:02:10.886Z"
   },
   {
    "duration": 0,
    "start_time": "2022-11-06T19:02:10.886Z"
   },
   {
    "duration": 0,
    "start_time": "2022-11-06T19:02:10.888Z"
   },
   {
    "duration": 0,
    "start_time": "2022-11-06T19:02:10.888Z"
   },
   {
    "duration": 0,
    "start_time": "2022-11-06T19:02:10.889Z"
   },
   {
    "duration": 5,
    "start_time": "2022-11-06T19:02:13.977Z"
   },
   {
    "duration": 12,
    "start_time": "2022-11-06T19:02:15.856Z"
   },
   {
    "duration": 2,
    "start_time": "2022-11-06T19:02:16.230Z"
   },
   {
    "duration": 15,
    "start_time": "2022-11-06T19:02:16.817Z"
   },
   {
    "duration": 2,
    "start_time": "2022-11-06T19:02:17.241Z"
   },
   {
    "duration": 501,
    "start_time": "2022-11-06T19:02:17.641Z"
   },
   {
    "duration": 482,
    "start_time": "2022-11-06T19:02:18.535Z"
   },
   {
    "duration": 547,
    "start_time": "2022-11-06T19:02:23.984Z"
   },
   {
    "duration": 16,
    "start_time": "2022-11-06T19:02:28.641Z"
   },
   {
    "duration": 10,
    "start_time": "2022-11-06T19:02:29.008Z"
   },
   {
    "duration": 203,
    "start_time": "2022-11-06T19:02:29.345Z"
   },
   {
    "duration": 4,
    "start_time": "2022-11-06T19:02:30.153Z"
   },
   {
    "duration": 18,
    "start_time": "2022-11-06T19:02:30.481Z"
   },
   {
    "duration": 85,
    "start_time": "2022-11-06T19:02:31.184Z"
   },
   {
    "duration": 6,
    "start_time": "2022-11-06T19:04:44.223Z"
   },
   {
    "duration": 20,
    "start_time": "2022-11-06T19:04:45.337Z"
   },
   {
    "duration": 8,
    "start_time": "2022-11-06T19:04:52.585Z"
   },
   {
    "duration": 6,
    "start_time": "2022-11-06T19:04:53.272Z"
   },
   {
    "duration": 23,
    "start_time": "2022-11-06T19:04:53.926Z"
   },
   {
    "duration": 3,
    "start_time": "2022-11-06T19:04:54.896Z"
   },
   {
    "duration": 12,
    "start_time": "2022-11-06T19:04:55.745Z"
   },
   {
    "duration": 12,
    "start_time": "2022-11-06T19:09:15.289Z"
   },
   {
    "duration": 11,
    "start_time": "2022-11-06T19:09:24.267Z"
   },
   {
    "duration": 31802,
    "start_time": "2022-11-06T19:10:16.851Z"
   },
   {
    "duration": 0,
    "start_time": "2022-11-06T19:11:49.546Z"
   },
   {
    "duration": 16,
    "start_time": "2022-11-06T19:11:50.921Z"
   },
   {
    "duration": 12,
    "start_time": "2022-11-06T19:12:00.490Z"
   },
   {
    "duration": 13,
    "start_time": "2022-11-06T19:12:03.970Z"
   },
   {
    "duration": 0,
    "start_time": "2022-11-06T19:13:13.545Z"
   },
   {
    "duration": 0,
    "start_time": "2022-11-06T19:13:13.546Z"
   },
   {
    "duration": 0,
    "start_time": "2022-11-06T19:13:13.548Z"
   },
   {
    "duration": 12,
    "start_time": "2022-11-06T19:13:41.968Z"
   },
   {
    "duration": 13,
    "start_time": "2022-11-06T19:13:49.466Z"
   },
   {
    "duration": 5724,
    "start_time": "2022-11-06T19:13:59.439Z"
   },
   {
    "duration": 53,
    "start_time": "2022-11-06T19:14:05.165Z"
   },
   {
    "duration": 451,
    "start_time": "2022-11-06T19:14:05.220Z"
   },
   {
    "duration": 441,
    "start_time": "2022-11-06T19:14:05.674Z"
   },
   {
    "duration": 10,
    "start_time": "2022-11-06T19:14:06.117Z"
   },
   {
    "duration": 32,
    "start_time": "2022-11-06T19:14:06.128Z"
   },
   {
    "duration": 5,
    "start_time": "2022-11-06T19:14:06.161Z"
   },
   {
    "duration": 35,
    "start_time": "2022-11-06T19:14:06.168Z"
   },
   {
    "duration": 24,
    "start_time": "2022-11-06T19:14:06.205Z"
   },
   {
    "duration": 7,
    "start_time": "2022-11-06T19:14:06.232Z"
   },
   {
    "duration": 20,
    "start_time": "2022-11-06T19:14:06.241Z"
   },
   {
    "duration": 30,
    "start_time": "2022-11-06T19:14:06.263Z"
   },
   {
    "duration": 30,
    "start_time": "2022-11-06T19:14:06.295Z"
   },
   {
    "duration": 33,
    "start_time": "2022-11-06T19:14:06.327Z"
   },
   {
    "duration": 15,
    "start_time": "2022-11-06T19:14:06.362Z"
   },
   {
    "duration": 19,
    "start_time": "2022-11-06T19:14:06.379Z"
   },
   {
    "duration": 31,
    "start_time": "2022-11-06T19:14:06.399Z"
   },
   {
    "duration": 14,
    "start_time": "2022-11-06T19:14:06.432Z"
   },
   {
    "duration": 426,
    "start_time": "2022-11-06T19:14:06.447Z"
   },
   {
    "duration": 430,
    "start_time": "2022-11-06T19:14:06.875Z"
   },
   {
    "duration": 347,
    "start_time": "2022-11-06T19:14:07.306Z"
   },
   {
    "duration": 229,
    "start_time": "2022-11-06T19:14:07.654Z"
   },
   {
    "duration": 224,
    "start_time": "2022-11-06T19:14:07.885Z"
   },
   {
    "duration": 228,
    "start_time": "2022-11-06T19:14:08.111Z"
   },
   {
    "duration": 442,
    "start_time": "2022-11-06T19:14:08.341Z"
   },
   {
    "duration": 15,
    "start_time": "2022-11-06T19:14:08.784Z"
   },
   {
    "duration": 45,
    "start_time": "2022-11-06T19:14:08.800Z"
   },
   {
    "duration": 6,
    "start_time": "2022-11-06T19:14:08.849Z"
   },
   {
    "duration": 10,
    "start_time": "2022-11-06T19:14:08.856Z"
   },
   {
    "duration": 4,
    "start_time": "2022-11-06T19:14:08.867Z"
   },
   {
    "duration": 6,
    "start_time": "2022-11-06T19:14:08.872Z"
   },
   {
    "duration": 7,
    "start_time": "2022-11-06T19:14:08.880Z"
   },
   {
    "duration": 7,
    "start_time": "2022-11-06T19:14:08.921Z"
   },
   {
    "duration": 10,
    "start_time": "2022-11-06T19:14:08.930Z"
   },
   {
    "duration": 7,
    "start_time": "2022-11-06T19:14:08.942Z"
   },
   {
    "duration": 8,
    "start_time": "2022-11-06T19:14:08.950Z"
   },
   {
    "duration": 14,
    "start_time": "2022-11-06T19:14:08.960Z"
   },
   {
    "duration": 3,
    "start_time": "2022-11-06T19:14:08.976Z"
   },
   {
    "duration": 8,
    "start_time": "2022-11-06T19:14:08.980Z"
   },
   {
    "duration": 6,
    "start_time": "2022-11-06T19:14:08.989Z"
   },
   {
    "duration": 3,
    "start_time": "2022-11-06T19:14:09.021Z"
   },
   {
    "duration": 189,
    "start_time": "2022-11-06T19:14:09.025Z"
   },
   {
    "duration": 7,
    "start_time": "2022-11-06T19:14:09.217Z"
   },
   {
    "duration": 61243,
    "start_time": "2022-11-06T19:14:09.225Z"
   },
   {
    "duration": 5,
    "start_time": "2022-11-06T19:15:10.469Z"
   },
   {
    "duration": 13,
    "start_time": "2022-11-06T19:15:10.475Z"
   },
   {
    "duration": 3,
    "start_time": "2022-11-06T19:15:10.489Z"
   },
   {
    "duration": 34,
    "start_time": "2022-11-06T19:15:10.493Z"
   },
   {
    "duration": 2,
    "start_time": "2022-11-06T19:15:10.528Z"
   },
   {
    "duration": 490,
    "start_time": "2022-11-06T19:15:10.532Z"
   },
   {
    "duration": 481,
    "start_time": "2022-11-06T19:15:11.023Z"
   },
   {
    "duration": 528,
    "start_time": "2022-11-06T19:15:11.505Z"
   },
   {
    "duration": 13,
    "start_time": "2022-11-06T19:15:12.035Z"
   },
   {
    "duration": 13,
    "start_time": "2022-11-06T19:15:12.050Z"
   },
   {
    "duration": 290,
    "start_time": "2022-11-06T19:15:12.064Z"
   },
   {
    "duration": 4,
    "start_time": "2022-11-06T19:15:12.356Z"
   },
   {
    "duration": 23,
    "start_time": "2022-11-06T19:15:12.362Z"
   },
   {
    "duration": 101,
    "start_time": "2022-11-06T19:15:12.387Z"
   },
   {
    "duration": 24,
    "start_time": "2022-11-06T19:18:49.589Z"
   },
   {
    "duration": 68,
    "start_time": "2022-11-06T19:19:27.559Z"
   },
   {
    "duration": 3,
    "start_time": "2022-11-06T19:19:27.817Z"
   },
   {
    "duration": 12,
    "start_time": "2022-11-06T19:19:28.561Z"
   },
   {
    "duration": 25,
    "start_time": "2022-11-06T19:19:43.967Z"
   },
   {
    "duration": 3,
    "start_time": "2022-11-06T19:19:45.521Z"
   },
   {
    "duration": 11,
    "start_time": "2022-11-06T19:19:45.770Z"
   },
   {
    "duration": 133,
    "start_time": "2022-11-06T19:19:56.644Z"
   },
   {
    "duration": 13,
    "start_time": "2022-11-06T19:20:00.395Z"
   },
   {
    "duration": 9,
    "start_time": "2022-11-06T19:20:09.562Z"
   },
   {
    "duration": 7,
    "start_time": "2022-11-06T19:20:15.971Z"
   },
   {
    "duration": 17,
    "start_time": "2022-11-06T19:20:22.171Z"
   },
   {
    "duration": 14,
    "start_time": "2022-11-06T19:20:32.418Z"
   },
   {
    "duration": 14,
    "start_time": "2022-11-06T19:20:41.515Z"
   },
   {
    "duration": 9,
    "start_time": "2022-11-06T19:20:51.178Z"
   },
   {
    "duration": 38,
    "start_time": "2022-11-06T19:20:55.405Z"
   },
   {
    "duration": 45,
    "start_time": "2022-11-06T19:21:01.059Z"
   },
   {
    "duration": 9,
    "start_time": "2022-11-06T19:21:03.765Z"
   },
   {
    "duration": 9,
    "start_time": "2022-11-06T19:21:07.435Z"
   },
   {
    "duration": 18,
    "start_time": "2022-11-06T19:21:11.354Z"
   },
   {
    "duration": 3,
    "start_time": "2022-11-06T19:21:17.394Z"
   },
   {
    "duration": 16,
    "start_time": "2022-11-06T19:21:17.635Z"
   },
   {
    "duration": 11,
    "start_time": "2022-11-06T19:21:22.954Z"
   },
   {
    "duration": 13,
    "start_time": "2022-11-06T19:21:27.394Z"
   },
   {
    "duration": 8,
    "start_time": "2022-11-06T19:21:38.114Z"
   },
   {
    "duration": 12,
    "start_time": "2022-11-06T19:21:43.771Z"
   },
   {
    "duration": 7,
    "start_time": "2022-11-06T19:21:48.970Z"
   },
   {
    "duration": 8,
    "start_time": "2022-11-06T19:21:55.683Z"
   },
   {
    "duration": 7,
    "start_time": "2022-11-06T19:22:02.417Z"
   },
   {
    "duration": 14,
    "start_time": "2022-11-06T19:22:18.093Z"
   },
   {
    "duration": 21,
    "start_time": "2022-11-06T19:22:21.811Z"
   },
   {
    "duration": 13,
    "start_time": "2022-11-06T19:22:29.080Z"
   },
   {
    "duration": 8,
    "start_time": "2022-11-06T19:22:34.506Z"
   },
   {
    "duration": 27,
    "start_time": "2022-11-06T19:25:04.499Z"
   },
   {
    "duration": 4,
    "start_time": "2022-11-06T19:25:04.769Z"
   },
   {
    "duration": 10,
    "start_time": "2022-11-06T19:25:05.046Z"
   },
   {
    "duration": 8,
    "start_time": "2022-11-06T19:25:22.259Z"
   },
   {
    "duration": 29,
    "start_time": "2022-11-06T19:38:22.239Z"
   },
   {
    "duration": 3,
    "start_time": "2022-11-06T19:38:24.643Z"
   },
   {
    "duration": 8,
    "start_time": "2022-11-06T19:38:24.955Z"
   },
   {
    "duration": 8,
    "start_time": "2022-11-06T19:38:31.957Z"
   },
   {
    "duration": 41,
    "start_time": "2022-11-06T19:38:40.962Z"
   },
   {
    "duration": 3,
    "start_time": "2022-11-06T19:38:41.197Z"
   },
   {
    "duration": 9,
    "start_time": "2022-11-06T19:38:41.837Z"
   },
   {
    "duration": 193,
    "start_time": "2022-11-06T19:50:26.645Z"
   },
   {
    "duration": 3,
    "start_time": "2022-11-06T19:50:27.324Z"
   },
   {
    "duration": 8,
    "start_time": "2022-11-06T19:50:27.685Z"
   },
   {
    "duration": 34,
    "start_time": "2022-11-06T19:50:41.658Z"
   },
   {
    "duration": 3,
    "start_time": "2022-11-06T19:50:41.933Z"
   },
   {
    "duration": 7,
    "start_time": "2022-11-06T19:50:42.500Z"
   },
   {
    "duration": 32,
    "start_time": "2022-11-06T19:50:59.585Z"
   },
   {
    "duration": 3,
    "start_time": "2022-11-06T19:51:01.165Z"
   },
   {
    "duration": 8,
    "start_time": "2022-11-06T19:51:01.398Z"
   },
   {
    "duration": 13,
    "start_time": "2022-11-06T19:51:14.492Z"
   },
   {
    "duration": 10,
    "start_time": "2022-11-06T19:51:19.125Z"
   },
   {
    "duration": 94,
    "start_time": "2022-11-06T19:51:58.829Z"
   },
   {
    "duration": 45,
    "start_time": "2022-11-06T19:52:01.718Z"
   },
   {
    "duration": 48,
    "start_time": "2022-11-06T19:52:16.532Z"
   },
   {
    "duration": 3,
    "start_time": "2022-11-06T19:52:33.960Z"
   },
   {
    "duration": 5,
    "start_time": "2022-11-06T19:52:45.224Z"
   },
   {
    "duration": 10,
    "start_time": "2022-11-06T19:53:04.960Z"
   },
   {
    "duration": 31,
    "start_time": "2022-11-06T19:53:14.458Z"
   },
   {
    "duration": 11,
    "start_time": "2022-11-06T19:53:16.964Z"
   },
   {
    "duration": 10,
    "start_time": "2022-11-06T19:53:19.528Z"
   },
   {
    "duration": 32,
    "start_time": "2022-11-06T19:53:23.688Z"
   },
   {
    "duration": 3,
    "start_time": "2022-11-06T19:53:24.549Z"
   },
   {
    "duration": 9,
    "start_time": "2022-11-06T19:53:25.165Z"
   },
   {
    "duration": 4,
    "start_time": "2022-11-06T19:53:26.869Z"
   },
   {
    "duration": 6,
    "start_time": "2022-11-06T19:53:27.448Z"
   },
   {
    "duration": 4055,
    "start_time": "2022-11-06T19:55:08.028Z"
   },
   {
    "duration": 53,
    "start_time": "2022-11-06T19:55:12.085Z"
   },
   {
    "duration": 443,
    "start_time": "2022-11-06T19:55:12.140Z"
   },
   {
    "duration": 431,
    "start_time": "2022-11-06T19:55:12.585Z"
   },
   {
    "duration": 8,
    "start_time": "2022-11-06T19:55:13.021Z"
   },
   {
    "duration": 22,
    "start_time": "2022-11-06T19:55:13.031Z"
   },
   {
    "duration": 8,
    "start_time": "2022-11-06T19:55:13.054Z"
   },
   {
    "duration": 46,
    "start_time": "2022-11-06T19:55:13.064Z"
   },
   {
    "duration": 15,
    "start_time": "2022-11-06T19:55:13.111Z"
   },
   {
    "duration": 24,
    "start_time": "2022-11-06T19:55:13.128Z"
   },
   {
    "duration": 13,
    "start_time": "2022-11-06T19:55:13.153Z"
   },
   {
    "duration": 35,
    "start_time": "2022-11-06T19:55:13.167Z"
   },
   {
    "duration": 5768,
    "start_time": "2022-11-06T19:55:16.812Z"
   },
   {
    "duration": 54,
    "start_time": "2022-11-06T19:55:22.582Z"
   },
   {
    "duration": 498,
    "start_time": "2022-11-06T19:55:22.638Z"
   },
   {
    "duration": 411,
    "start_time": "2022-11-06T19:55:23.137Z"
   },
   {
    "duration": 8,
    "start_time": "2022-11-06T19:55:23.550Z"
   },
   {
    "duration": 22,
    "start_time": "2022-11-06T19:55:23.560Z"
   },
   {
    "duration": 6,
    "start_time": "2022-11-06T19:55:23.584Z"
   },
   {
    "duration": 48,
    "start_time": "2022-11-06T19:55:23.592Z"
   },
   {
    "duration": 13,
    "start_time": "2022-11-06T19:55:23.642Z"
   },
   {
    "duration": 11,
    "start_time": "2022-11-06T19:55:23.657Z"
   },
   {
    "duration": 10,
    "start_time": "2022-11-06T19:55:23.669Z"
   },
   {
    "duration": 53,
    "start_time": "2022-11-06T19:55:23.681Z"
   },
   {
    "duration": 9,
    "start_time": "2022-11-06T19:55:23.735Z"
   },
   {
    "duration": 10,
    "start_time": "2022-11-06T19:55:23.747Z"
   },
   {
    "duration": 8,
    "start_time": "2022-11-06T19:55:23.759Z"
   },
   {
    "duration": 5,
    "start_time": "2022-11-06T19:55:23.768Z"
   },
   {
    "duration": 4,
    "start_time": "2022-11-06T19:55:23.775Z"
   },
   {
    "duration": 4,
    "start_time": "2022-11-06T19:55:23.781Z"
   },
   {
    "duration": 458,
    "start_time": "2022-11-06T19:55:23.786Z"
   },
   {
    "duration": 457,
    "start_time": "2022-11-06T19:55:24.245Z"
   },
   {
    "duration": 335,
    "start_time": "2022-11-06T19:55:24.704Z"
   },
   {
    "duration": 243,
    "start_time": "2022-11-06T19:55:25.041Z"
   },
   {
    "duration": 228,
    "start_time": "2022-11-06T19:55:25.286Z"
   },
   {
    "duration": 248,
    "start_time": "2022-11-06T19:55:25.515Z"
   },
   {
    "duration": 517,
    "start_time": "2022-11-06T19:55:25.765Z"
   },
   {
    "duration": 14,
    "start_time": "2022-11-06T19:55:26.285Z"
   },
   {
    "duration": 46,
    "start_time": "2022-11-06T19:55:26.301Z"
   },
   {
    "duration": 7,
    "start_time": "2022-11-06T19:55:26.348Z"
   },
   {
    "duration": 8,
    "start_time": "2022-11-06T19:55:26.357Z"
   },
   {
    "duration": 13,
    "start_time": "2022-11-06T19:55:26.367Z"
   },
   {
    "duration": 10,
    "start_time": "2022-11-06T19:55:26.382Z"
   },
   {
    "duration": 10,
    "start_time": "2022-11-06T19:55:26.393Z"
   },
   {
    "duration": 15,
    "start_time": "2022-11-06T19:55:26.405Z"
   },
   {
    "duration": 16,
    "start_time": "2022-11-06T19:55:26.422Z"
   },
   {
    "duration": 19,
    "start_time": "2022-11-06T19:55:26.439Z"
   },
   {
    "duration": 6,
    "start_time": "2022-11-06T19:55:26.459Z"
   },
   {
    "duration": 20,
    "start_time": "2022-11-06T19:55:26.466Z"
   },
   {
    "duration": 10,
    "start_time": "2022-11-06T19:55:26.487Z"
   },
   {
    "duration": 23,
    "start_time": "2022-11-06T19:55:26.499Z"
   },
   {
    "duration": 22,
    "start_time": "2022-11-06T19:55:26.524Z"
   },
   {
    "duration": 16,
    "start_time": "2022-11-06T19:55:26.549Z"
   },
   {
    "duration": 135,
    "start_time": "2022-11-06T19:55:26.566Z"
   },
   {
    "duration": 4,
    "start_time": "2022-11-06T19:55:26.703Z"
   },
   {
    "duration": 62629,
    "start_time": "2022-11-06T19:55:26.708Z"
   },
   {
    "duration": 4,
    "start_time": "2022-11-06T19:56:29.339Z"
   },
   {
    "duration": 25,
    "start_time": "2022-11-06T19:56:29.345Z"
   },
   {
    "duration": 11,
    "start_time": "2022-11-06T19:56:29.372Z"
   },
   {
    "duration": 42,
    "start_time": "2022-11-06T19:56:29.384Z"
   },
   {
    "duration": 10,
    "start_time": "2022-11-06T19:56:29.427Z"
   },
   {
    "duration": 525,
    "start_time": "2022-11-06T19:56:29.439Z"
   },
   {
    "duration": 514,
    "start_time": "2022-11-06T19:56:29.966Z"
   },
   {
    "duration": 558,
    "start_time": "2022-11-06T19:56:30.482Z"
   },
   {
    "duration": 14,
    "start_time": "2022-11-06T19:56:31.042Z"
   },
   {
    "duration": 20,
    "start_time": "2022-11-06T19:56:31.057Z"
   },
   {
    "duration": 448,
    "start_time": "2022-11-06T19:56:31.079Z"
   },
   {
    "duration": 4,
    "start_time": "2022-11-06T19:56:31.528Z"
   },
   {
    "duration": 26,
    "start_time": "2022-11-06T19:56:31.534Z"
   },
   {
    "duration": 93,
    "start_time": "2022-11-06T19:56:31.561Z"
   },
   {
    "duration": 40,
    "start_time": "2022-11-06T19:56:35.282Z"
   },
   {
    "duration": 8,
    "start_time": "2022-11-06T19:56:39.926Z"
   },
   {
    "duration": 6,
    "start_time": "2022-11-06T19:56:42.381Z"
   },
   {
    "duration": 9,
    "start_time": "2022-11-06T19:56:42.771Z"
   },
   {
    "duration": 5620,
    "start_time": "2022-11-06T19:56:50.666Z"
   },
   {
    "duration": 54,
    "start_time": "2022-11-06T19:56:56.288Z"
   },
   {
    "duration": 459,
    "start_time": "2022-11-06T19:56:56.344Z"
   },
   {
    "duration": 429,
    "start_time": "2022-11-06T19:56:56.805Z"
   },
   {
    "duration": 8,
    "start_time": "2022-11-06T19:56:57.235Z"
   },
   {
    "duration": 19,
    "start_time": "2022-11-06T19:56:57.244Z"
   },
   {
    "duration": 6,
    "start_time": "2022-11-06T19:56:57.265Z"
   },
   {
    "duration": 16,
    "start_time": "2022-11-06T19:56:57.272Z"
   },
   {
    "duration": 42,
    "start_time": "2022-11-06T19:56:57.289Z"
   },
   {
    "duration": 11,
    "start_time": "2022-11-06T19:56:57.333Z"
   },
   {
    "duration": 10,
    "start_time": "2022-11-06T19:56:57.346Z"
   },
   {
    "duration": 19,
    "start_time": "2022-11-06T19:56:57.357Z"
   },
   {
    "duration": 32,
    "start_time": "2022-11-06T19:56:57.377Z"
   },
   {
    "duration": 19,
    "start_time": "2022-11-06T19:56:57.410Z"
   },
   {
    "duration": 10,
    "start_time": "2022-11-06T19:56:57.431Z"
   },
   {
    "duration": 5,
    "start_time": "2022-11-06T19:56:57.443Z"
   },
   {
    "duration": 5,
    "start_time": "2022-11-06T19:56:57.450Z"
   },
   {
    "duration": 8,
    "start_time": "2022-11-06T19:56:57.457Z"
   },
   {
    "duration": 7,
    "start_time": "2022-11-06T19:56:57.467Z"
   },
   {
    "duration": 483,
    "start_time": "2022-11-06T19:56:57.475Z"
   },
   {
    "duration": 442,
    "start_time": "2022-11-06T19:56:57.959Z"
   },
   {
    "duration": 330,
    "start_time": "2022-11-06T19:56:58.402Z"
   },
   {
    "duration": 271,
    "start_time": "2022-11-06T19:56:58.734Z"
   },
   {
    "duration": 250,
    "start_time": "2022-11-06T19:56:59.007Z"
   },
   {
    "duration": 232,
    "start_time": "2022-11-06T19:56:59.259Z"
   },
   {
    "duration": 475,
    "start_time": "2022-11-06T19:56:59.493Z"
   },
   {
    "duration": 15,
    "start_time": "2022-11-06T19:56:59.969Z"
   },
   {
    "duration": 49,
    "start_time": "2022-11-06T19:56:59.988Z"
   },
   {
    "duration": 8,
    "start_time": "2022-11-06T19:57:00.038Z"
   },
   {
    "duration": 8,
    "start_time": "2022-11-06T19:57:00.048Z"
   },
   {
    "duration": 28,
    "start_time": "2022-11-06T19:57:00.057Z"
   },
   {
    "duration": 23,
    "start_time": "2022-11-06T19:57:00.086Z"
   },
   {
    "duration": 10,
    "start_time": "2022-11-06T19:57:00.111Z"
   },
   {
    "duration": 9,
    "start_time": "2022-11-06T19:57:00.123Z"
   },
   {
    "duration": 9,
    "start_time": "2022-11-06T19:57:00.134Z"
   },
   {
    "duration": 10,
    "start_time": "2022-11-06T19:57:00.145Z"
   },
   {
    "duration": 15,
    "start_time": "2022-11-06T19:57:00.157Z"
   },
   {
    "duration": 24,
    "start_time": "2022-11-06T19:57:00.174Z"
   },
   {
    "duration": 7,
    "start_time": "2022-11-06T19:57:00.200Z"
   },
   {
    "duration": 4,
    "start_time": "2022-11-06T19:57:00.209Z"
   },
   {
    "duration": 8,
    "start_time": "2022-11-06T19:57:00.215Z"
   },
   {
    "duration": 9,
    "start_time": "2022-11-06T19:57:00.225Z"
   },
   {
    "duration": 146,
    "start_time": "2022-11-06T19:57:00.235Z"
   },
   {
    "duration": 5,
    "start_time": "2022-11-06T19:57:00.382Z"
   },
   {
    "duration": 61716,
    "start_time": "2022-11-06T19:57:00.388Z"
   },
   {
    "duration": 5,
    "start_time": "2022-11-06T19:58:02.106Z"
   },
   {
    "duration": 19,
    "start_time": "2022-11-06T19:58:02.112Z"
   },
   {
    "duration": 3,
    "start_time": "2022-11-06T19:58:02.132Z"
   },
   {
    "duration": 19,
    "start_time": "2022-11-06T19:58:02.136Z"
   },
   {
    "duration": 2,
    "start_time": "2022-11-06T19:58:02.157Z"
   },
   {
    "duration": 580,
    "start_time": "2022-11-06T19:58:02.160Z"
   },
   {
    "duration": 500,
    "start_time": "2022-11-06T19:58:02.741Z"
   },
   {
    "duration": 510,
    "start_time": "2022-11-06T19:58:03.243Z"
   },
   {
    "duration": 15,
    "start_time": "2022-11-06T19:58:03.755Z"
   },
   {
    "duration": 10,
    "start_time": "2022-11-06T19:58:03.771Z"
   },
   {
    "duration": 255,
    "start_time": "2022-11-06T19:58:03.782Z"
   },
   {
    "duration": 4,
    "start_time": "2022-11-06T19:58:04.039Z"
   },
   {
    "duration": 22,
    "start_time": "2022-11-06T19:58:04.044Z"
   },
   {
    "duration": 96,
    "start_time": "2022-11-06T19:58:04.068Z"
   },
   {
    "duration": 50,
    "start_time": "2022-11-06T20:07:37.083Z"
   },
   {
    "duration": 14,
    "start_time": "2022-11-06T20:07:44.993Z"
   },
   {
    "duration": 8,
    "start_time": "2022-11-06T20:07:45.377Z"
   },
   {
    "duration": 254,
    "start_time": "2022-11-06T20:07:45.697Z"
   },
   {
    "duration": 4,
    "start_time": "2022-11-06T20:07:46.386Z"
   },
   {
    "duration": 18,
    "start_time": "2022-11-06T20:07:46.698Z"
   },
   {
    "duration": 102,
    "start_time": "2022-11-06T20:07:47.393Z"
   },
   {
    "duration": 6037,
    "start_time": "2022-11-06T20:11:42.928Z"
   },
   {
    "duration": 60,
    "start_time": "2022-11-06T20:11:48.968Z"
   },
   {
    "duration": 492,
    "start_time": "2022-11-06T20:11:49.030Z"
   },
   {
    "duration": 410,
    "start_time": "2022-11-06T20:11:49.523Z"
   },
   {
    "duration": 7,
    "start_time": "2022-11-06T20:11:49.935Z"
   },
   {
    "duration": 20,
    "start_time": "2022-11-06T20:11:49.943Z"
   },
   {
    "duration": 5,
    "start_time": "2022-11-06T20:11:49.964Z"
   },
   {
    "duration": 15,
    "start_time": "2022-11-06T20:11:49.971Z"
   },
   {
    "duration": 43,
    "start_time": "2022-11-06T20:11:49.988Z"
   },
   {
    "duration": 12,
    "start_time": "2022-11-06T20:11:50.032Z"
   },
   {
    "duration": 18,
    "start_time": "2022-11-06T20:11:50.046Z"
   },
   {
    "duration": 16,
    "start_time": "2022-11-06T20:11:50.066Z"
   },
   {
    "duration": 31,
    "start_time": "2022-11-06T20:11:50.083Z"
   },
   {
    "duration": 9,
    "start_time": "2022-11-06T20:11:50.116Z"
   },
   {
    "duration": 10,
    "start_time": "2022-11-06T20:11:50.126Z"
   },
   {
    "duration": 4,
    "start_time": "2022-11-06T20:11:50.138Z"
   },
   {
    "duration": 7,
    "start_time": "2022-11-06T20:11:50.143Z"
   },
   {
    "duration": 5,
    "start_time": "2022-11-06T20:11:50.152Z"
   },
   {
    "duration": 7,
    "start_time": "2022-11-06T20:11:50.158Z"
   },
   {
    "duration": 401,
    "start_time": "2022-11-06T20:11:50.166Z"
   },
   {
    "duration": 429,
    "start_time": "2022-11-06T20:11:50.569Z"
   },
   {
    "duration": 331,
    "start_time": "2022-11-06T20:11:50.999Z"
   },
   {
    "duration": 223,
    "start_time": "2022-11-06T20:11:51.331Z"
   },
   {
    "duration": 231,
    "start_time": "2022-11-06T20:11:51.555Z"
   },
   {
    "duration": 226,
    "start_time": "2022-11-06T20:11:51.787Z"
   },
   {
    "duration": 442,
    "start_time": "2022-11-06T20:11:52.015Z"
   },
   {
    "duration": 13,
    "start_time": "2022-11-06T20:11:52.459Z"
   },
   {
    "duration": 41,
    "start_time": "2022-11-06T20:11:52.473Z"
   },
   {
    "duration": 11,
    "start_time": "2022-11-06T20:11:52.516Z"
   },
   {
    "duration": 7,
    "start_time": "2022-11-06T20:11:52.529Z"
   },
   {
    "duration": 8,
    "start_time": "2022-11-06T20:11:52.538Z"
   },
   {
    "duration": 15,
    "start_time": "2022-11-06T20:11:52.547Z"
   },
   {
    "duration": 11,
    "start_time": "2022-11-06T20:11:52.563Z"
   },
   {
    "duration": 6,
    "start_time": "2022-11-06T20:11:52.576Z"
   },
   {
    "duration": 9,
    "start_time": "2022-11-06T20:11:52.584Z"
   },
   {
    "duration": 10,
    "start_time": "2022-11-06T20:11:52.594Z"
   },
   {
    "duration": 10,
    "start_time": "2022-11-06T20:11:52.605Z"
   },
   {
    "duration": 12,
    "start_time": "2022-11-06T20:11:52.622Z"
   },
   {
    "duration": 5,
    "start_time": "2022-11-06T20:11:52.636Z"
   },
   {
    "duration": 16,
    "start_time": "2022-11-06T20:11:52.642Z"
   },
   {
    "duration": 18,
    "start_time": "2022-11-06T20:11:52.661Z"
   },
   {
    "duration": 19,
    "start_time": "2022-11-06T20:11:52.681Z"
   },
   {
    "duration": 142,
    "start_time": "2022-11-06T20:11:52.702Z"
   },
   {
    "duration": 4,
    "start_time": "2022-11-06T20:11:52.846Z"
   },
   {
    "duration": 62305,
    "start_time": "2022-11-06T20:11:52.851Z"
   },
   {
    "duration": 5,
    "start_time": "2022-11-06T20:12:55.158Z"
   },
   {
    "duration": 13,
    "start_time": "2022-11-06T20:12:55.165Z"
   },
   {
    "duration": 2,
    "start_time": "2022-11-06T20:12:55.179Z"
   },
   {
    "duration": 16,
    "start_time": "2022-11-06T20:12:55.183Z"
   },
   {
    "duration": 2,
    "start_time": "2022-11-06T20:12:55.222Z"
   },
   {
    "duration": 547,
    "start_time": "2022-11-06T20:12:55.226Z"
   },
   {
    "duration": 522,
    "start_time": "2022-11-06T20:12:55.775Z"
   },
   {
    "duration": 534,
    "start_time": "2022-11-06T20:12:56.299Z"
   },
   {
    "duration": 13,
    "start_time": "2022-11-06T20:12:56.835Z"
   },
   {
    "duration": 7,
    "start_time": "2022-11-06T20:12:56.849Z"
   },
   {
    "duration": 416,
    "start_time": "2022-11-06T20:12:56.857Z"
   },
   {
    "duration": 5,
    "start_time": "2022-11-06T20:12:57.274Z"
   },
   {
    "duration": 52,
    "start_time": "2022-11-06T20:12:57.280Z"
   },
   {
    "duration": 89,
    "start_time": "2022-11-06T20:12:57.334Z"
   },
   {
    "duration": 131,
    "start_time": "2022-11-06T20:42:28.270Z"
   },
   {
    "duration": 132,
    "start_time": "2022-11-06T20:42:48.178Z"
   },
   {
    "duration": 5,
    "start_time": "2022-11-06T20:42:49.006Z"
   },
   {
    "duration": 61936,
    "start_time": "2022-11-06T20:42:49.643Z"
   },
   {
    "duration": 4,
    "start_time": "2022-11-06T20:43:51.581Z"
   },
   {
    "duration": 25,
    "start_time": "2022-11-06T20:43:51.586Z"
   },
   {
    "duration": 17,
    "start_time": "2022-11-06T20:43:51.612Z"
   },
   {
    "duration": 40,
    "start_time": "2022-11-06T20:43:51.630Z"
   },
   {
    "duration": 13,
    "start_time": "2022-11-06T20:43:51.671Z"
   },
   {
    "duration": 208,
    "start_time": "2022-11-06T20:43:51.686Z"
   },
   {
    "duration": 0,
    "start_time": "2022-11-06T20:43:51.895Z"
   },
   {
    "duration": 1,
    "start_time": "2022-11-06T20:43:51.896Z"
   },
   {
    "duration": 22,
    "start_time": "2022-11-06T20:45:50.285Z"
   },
   {
    "duration": 8,
    "start_time": "2022-11-06T20:45:51.131Z"
   },
   {
    "duration": 3,
    "start_time": "2022-11-06T20:45:51.852Z"
   },
   {
    "duration": 3,
    "start_time": "2022-11-06T20:45:52.584Z"
   },
   {
    "duration": 2,
    "start_time": "2022-11-06T20:45:52.884Z"
   },
   {
    "duration": 132,
    "start_time": "2022-11-06T20:45:54.236Z"
   },
   {
    "duration": 28,
    "start_time": "2022-11-06T20:46:09.014Z"
   },
   {
    "duration": 128,
    "start_time": "2022-11-06T20:48:54.892Z"
   },
   {
    "duration": 5,
    "start_time": "2022-11-06T20:48:55.677Z"
   },
   {
    "duration": 6581,
    "start_time": "2022-11-06T20:48:56.645Z"
   },
   {
    "duration": 0,
    "start_time": "2022-11-06T20:49:03.228Z"
   },
   {
    "duration": 0,
    "start_time": "2022-11-06T20:49:03.230Z"
   },
   {
    "duration": 5,
    "start_time": "2022-11-06T20:49:05.548Z"
   },
   {
    "duration": 21,
    "start_time": "2022-11-06T20:49:06.476Z"
   },
   {
    "duration": 2,
    "start_time": "2022-11-06T20:49:07.526Z"
   },
   {
    "duration": 12,
    "start_time": "2022-11-06T20:49:32.253Z"
   },
   {
    "duration": 4,
    "start_time": "2022-11-06T20:49:32.692Z"
   },
   {
    "duration": 2,
    "start_time": "2022-11-06T20:49:32.964Z"
   },
   {
    "duration": 3,
    "start_time": "2022-11-06T20:49:33.236Z"
   },
   {
    "duration": 2,
    "start_time": "2022-11-06T20:49:33.533Z"
   },
   {
    "duration": 123,
    "start_time": "2022-11-06T20:49:34.445Z"
   },
   {
    "duration": 5,
    "start_time": "2022-11-06T20:49:35.266Z"
   },
   {
    "duration": 20339,
    "start_time": "2022-11-06T20:49:35.966Z"
   },
   {
    "duration": 0,
    "start_time": "2022-11-06T20:49:56.307Z"
   },
   {
    "duration": 0,
    "start_time": "2022-11-06T20:49:56.308Z"
   },
   {
    "duration": 0,
    "start_time": "2022-11-06T20:49:56.309Z"
   },
   {
    "duration": 0,
    "start_time": "2022-11-06T20:49:56.310Z"
   },
   {
    "duration": 0,
    "start_time": "2022-11-06T20:49:56.311Z"
   },
   {
    "duration": 0,
    "start_time": "2022-11-06T20:49:56.322Z"
   },
   {
    "duration": 0,
    "start_time": "2022-11-06T20:49:56.323Z"
   },
   {
    "duration": 0,
    "start_time": "2022-11-06T20:49:56.324Z"
   },
   {
    "duration": 5,
    "start_time": "2022-11-06T20:49:58.815Z"
   },
   {
    "duration": 12,
    "start_time": "2022-11-06T20:49:59.569Z"
   },
   {
    "duration": 3,
    "start_time": "2022-11-06T20:50:00.996Z"
   },
   {
    "duration": 16,
    "start_time": "2022-11-06T20:50:01.715Z"
   },
   {
    "duration": 2,
    "start_time": "2022-11-06T20:50:03.574Z"
   },
   {
    "duration": 509,
    "start_time": "2022-11-06T20:50:04.628Z"
   },
   {
    "duration": 551,
    "start_time": "2022-11-06T20:50:22.806Z"
   },
   {
    "duration": 14,
    "start_time": "2022-11-06T20:51:13.453Z"
   },
   {
    "duration": 13,
    "start_time": "2022-11-06T20:51:14.260Z"
   },
   {
    "duration": 212,
    "start_time": "2022-11-06T20:51:14.940Z"
   },
   {
    "duration": 14,
    "start_time": "2022-11-06T20:51:23.633Z"
   },
   {
    "duration": 8,
    "start_time": "2022-11-06T20:51:28.533Z"
   },
   {
    "duration": 231,
    "start_time": "2022-11-06T20:51:29.325Z"
   },
   {
    "duration": 654,
    "start_time": "2022-11-06T20:51:34.717Z"
   },
   {
    "duration": 4,
    "start_time": "2022-11-06T20:51:40.583Z"
   },
   {
    "duration": 25,
    "start_time": "2022-11-06T20:54:37.517Z"
   },
   {
    "duration": 46,
    "start_time": "2022-11-06T20:54:41.543Z"
   },
   {
    "duration": 11,
    "start_time": "2022-11-06T20:56:45.039Z"
   },
   {
    "duration": 11,
    "start_time": "2022-11-06T20:56:55.827Z"
   },
   {
    "duration": 13,
    "start_time": "2022-11-06T20:57:02.941Z"
   },
   {
    "duration": 15,
    "start_time": "2022-11-06T20:57:11.013Z"
   },
   {
    "duration": 16,
    "start_time": "2022-11-06T20:57:14.230Z"
   },
   {
    "duration": 15,
    "start_time": "2022-11-06T20:57:16.966Z"
   },
   {
    "duration": 197,
    "start_time": "2022-11-06T20:57:17.166Z"
   },
   {
    "duration": 3,
    "start_time": "2022-11-06T20:57:25.981Z"
   },
   {
    "duration": 206,
    "start_time": "2022-11-06T20:57:26.847Z"
   },
   {
    "duration": 752,
    "start_time": "2022-11-06T20:57:28.613Z"
   },
   {
    "duration": 16,
    "start_time": "2022-11-06T20:59:13.110Z"
   },
   {
    "duration": 13,
    "start_time": "2022-11-06T20:59:20.062Z"
   },
   {
    "duration": 15,
    "start_time": "2022-11-06T20:59:23.653Z"
   },
   {
    "duration": 10,
    "start_time": "2022-11-06T20:59:32.632Z"
   },
   {
    "duration": 14,
    "start_time": "2022-11-06T20:59:49.574Z"
   },
   {
    "duration": 6,
    "start_time": "2022-11-06T20:59:55.106Z"
   },
   {
    "duration": 6,
    "start_time": "2022-11-06T20:59:58.646Z"
   },
   {
    "duration": 2,
    "start_time": "2022-11-06T21:00:15.087Z"
   },
   {
    "duration": 16,
    "start_time": "2022-11-06T21:00:21.790Z"
   },
   {
    "duration": 945,
    "start_time": "2022-11-06T21:00:30.511Z"
   },
   {
    "duration": 15,
    "start_time": "2022-11-06T21:00:40.551Z"
   },
   {
    "duration": 15,
    "start_time": "2022-11-06T21:00:44.598Z"
   },
   {
    "duration": 15,
    "start_time": "2022-11-06T21:00:49.917Z"
   },
   {
    "duration": 1199,
    "start_time": "2022-11-06T21:01:00.973Z"
   },
   {
    "duration": 16,
    "start_time": "2022-11-06T21:01:17.990Z"
   },
   {
    "duration": 4,
    "start_time": "2022-11-06T21:01:53.383Z"
   },
   {
    "duration": 15,
    "start_time": "2022-11-06T21:02:06.686Z"
   },
   {
    "duration": 129,
    "start_time": "2022-11-06T21:02:12.334Z"
   },
   {
    "duration": 5,
    "start_time": "2022-11-06T21:02:13.111Z"
   },
   {
    "duration": 3162,
    "start_time": "2022-11-06T21:02:13.712Z"
   },
   {
    "duration": 5,
    "start_time": "2022-11-06T21:02:20.630Z"
   },
   {
    "duration": 11,
    "start_time": "2022-11-06T21:02:21.438Z"
   },
   {
    "duration": 3,
    "start_time": "2022-11-06T21:02:22.463Z"
   },
   {
    "duration": 15,
    "start_time": "2022-11-06T21:02:22.936Z"
   },
   {
    "duration": 2,
    "start_time": "2022-11-06T21:02:23.361Z"
   },
   {
    "duration": 497,
    "start_time": "2022-11-06T21:02:23.815Z"
   },
   {
    "duration": 500,
    "start_time": "2022-11-06T21:02:35.741Z"
   },
   {
    "duration": 510,
    "start_time": "2022-11-06T21:02:37.305Z"
   },
   {
    "duration": 561,
    "start_time": "2022-11-06T21:02:38.510Z"
   },
   {
    "duration": 13,
    "start_time": "2022-11-06T21:03:01.838Z"
   },
   {
    "duration": 2,
    "start_time": "2022-11-06T21:03:02.298Z"
   },
   {
    "duration": 7,
    "start_time": "2022-11-06T21:03:06.878Z"
   },
   {
    "duration": 8,
    "start_time": "2022-11-06T21:03:09.287Z"
   },
   {
    "duration": 187,
    "start_time": "2022-11-06T21:03:10.758Z"
   },
   {
    "duration": 8,
    "start_time": "2022-11-06T21:03:20.534Z"
   },
   {
    "duration": 236,
    "start_time": "2022-11-06T21:03:20.902Z"
   },
   {
    "duration": 4,
    "start_time": "2022-11-06T21:03:29.881Z"
   },
   {
    "duration": 18,
    "start_time": "2022-11-06T21:03:37.839Z"
   },
   {
    "duration": 79,
    "start_time": "2022-11-06T21:03:40.341Z"
   },
   {
    "duration": 5692,
    "start_time": "2022-11-06T21:04:38.382Z"
   },
   {
    "duration": 70,
    "start_time": "2022-11-06T21:04:44.076Z"
   },
   {
    "duration": 555,
    "start_time": "2022-11-06T21:04:44.149Z"
   },
   {
    "duration": 467,
    "start_time": "2022-11-06T21:04:44.705Z"
   },
   {
    "duration": 8,
    "start_time": "2022-11-06T21:04:45.174Z"
   },
   {
    "duration": 17,
    "start_time": "2022-11-06T21:04:45.184Z"
   },
   {
    "duration": 22,
    "start_time": "2022-11-06T21:04:45.203Z"
   },
   {
    "duration": 16,
    "start_time": "2022-11-06T21:04:45.227Z"
   },
   {
    "duration": 19,
    "start_time": "2022-11-06T21:04:45.245Z"
   },
   {
    "duration": 17,
    "start_time": "2022-11-06T21:04:45.266Z"
   },
   {
    "duration": 27,
    "start_time": "2022-11-06T21:04:45.285Z"
   },
   {
    "duration": 16,
    "start_time": "2022-11-06T21:04:45.313Z"
   },
   {
    "duration": 33,
    "start_time": "2022-11-06T21:04:45.330Z"
   },
   {
    "duration": 6,
    "start_time": "2022-11-06T21:04:45.365Z"
   },
   {
    "duration": 16,
    "start_time": "2022-11-06T21:04:45.373Z"
   },
   {
    "duration": 4,
    "start_time": "2022-11-06T21:04:45.391Z"
   },
   {
    "duration": 6,
    "start_time": "2022-11-06T21:04:45.397Z"
   },
   {
    "duration": 19,
    "start_time": "2022-11-06T21:04:45.405Z"
   },
   {
    "duration": 4,
    "start_time": "2022-11-06T21:04:45.425Z"
   },
   {
    "duration": 444,
    "start_time": "2022-11-06T21:04:45.431Z"
   },
   {
    "duration": 467,
    "start_time": "2022-11-06T21:04:45.878Z"
   },
   {
    "duration": 315,
    "start_time": "2022-11-06T21:04:46.346Z"
   },
   {
    "duration": 234,
    "start_time": "2022-11-06T21:04:46.663Z"
   },
   {
    "duration": 253,
    "start_time": "2022-11-06T21:04:46.899Z"
   },
   {
    "duration": 258,
    "start_time": "2022-11-06T21:04:47.154Z"
   },
   {
    "duration": 486,
    "start_time": "2022-11-06T21:04:47.414Z"
   },
   {
    "duration": 21,
    "start_time": "2022-11-06T21:04:47.901Z"
   },
   {
    "duration": 32,
    "start_time": "2022-11-06T21:04:47.925Z"
   },
   {
    "duration": 8,
    "start_time": "2022-11-06T21:04:47.958Z"
   },
   {
    "duration": 8,
    "start_time": "2022-11-06T21:04:47.967Z"
   },
   {
    "duration": 10,
    "start_time": "2022-11-06T21:04:47.977Z"
   },
   {
    "duration": 6,
    "start_time": "2022-11-06T21:04:47.989Z"
   },
   {
    "duration": 28,
    "start_time": "2022-11-06T21:04:47.997Z"
   },
   {
    "duration": 11,
    "start_time": "2022-11-06T21:04:48.026Z"
   },
   {
    "duration": 12,
    "start_time": "2022-11-06T21:04:48.039Z"
   },
   {
    "duration": 6,
    "start_time": "2022-11-06T21:04:48.053Z"
   },
   {
    "duration": 4,
    "start_time": "2022-11-06T21:04:48.061Z"
   },
   {
    "duration": 15,
    "start_time": "2022-11-06T21:04:48.067Z"
   },
   {
    "duration": 5,
    "start_time": "2022-11-06T21:04:48.085Z"
   },
   {
    "duration": 7,
    "start_time": "2022-11-06T21:04:48.092Z"
   },
   {
    "duration": 5,
    "start_time": "2022-11-06T21:04:48.121Z"
   },
   {
    "duration": 12,
    "start_time": "2022-11-06T21:04:48.128Z"
   },
   {
    "duration": 151,
    "start_time": "2022-11-06T21:04:48.141Z"
   },
   {
    "duration": 4,
    "start_time": "2022-11-06T21:04:48.294Z"
   },
   {
    "duration": 64440,
    "start_time": "2022-11-06T21:04:48.299Z"
   },
   {
    "duration": 4,
    "start_time": "2022-11-06T21:05:52.741Z"
   },
   {
    "duration": 16,
    "start_time": "2022-11-06T21:05:52.747Z"
   },
   {
    "duration": 2,
    "start_time": "2022-11-06T21:05:52.764Z"
   },
   {
    "duration": 14,
    "start_time": "2022-11-06T21:05:52.768Z"
   },
   {
    "duration": 2,
    "start_time": "2022-11-06T21:05:52.784Z"
   },
   {
    "duration": 583,
    "start_time": "2022-11-06T21:05:52.787Z"
   },
   {
    "duration": 547,
    "start_time": "2022-11-06T21:05:53.372Z"
   },
   {
    "duration": 538,
    "start_time": "2022-11-06T21:05:53.922Z"
   },
   {
    "duration": 13,
    "start_time": "2022-11-06T21:05:54.462Z"
   },
   {
    "duration": 7,
    "start_time": "2022-11-06T21:05:54.476Z"
   },
   {
    "duration": 254,
    "start_time": "2022-11-06T21:05:54.484Z"
   },
   {
    "duration": 5,
    "start_time": "2022-11-06T21:05:54.740Z"
   },
   {
    "duration": 20,
    "start_time": "2022-11-06T21:05:54.746Z"
   },
   {
    "duration": 94,
    "start_time": "2022-11-06T21:05:54.768Z"
   },
   {
    "duration": 10841,
    "start_time": "2022-11-07T07:19:06.349Z"
   },
   {
    "duration": 194,
    "start_time": "2022-11-07T07:19:17.193Z"
   },
   {
    "duration": 498,
    "start_time": "2022-11-07T07:19:17.389Z"
   },
   {
    "duration": 452,
    "start_time": "2022-11-07T07:19:17.888Z"
   },
   {
    "duration": 8,
    "start_time": "2022-11-07T07:19:18.342Z"
   },
   {
    "duration": 25,
    "start_time": "2022-11-07T07:19:18.351Z"
   },
   {
    "duration": 5,
    "start_time": "2022-11-07T07:19:18.377Z"
   },
   {
    "duration": 9,
    "start_time": "2022-11-07T07:19:18.384Z"
   },
   {
    "duration": 33,
    "start_time": "2022-11-07T07:19:18.394Z"
   },
   {
    "duration": 12,
    "start_time": "2022-11-07T07:19:18.429Z"
   },
   {
    "duration": 11,
    "start_time": "2022-11-07T07:19:18.442Z"
   },
   {
    "duration": 9,
    "start_time": "2022-11-07T07:19:18.455Z"
   },
   {
    "duration": 32,
    "start_time": "2022-11-07T07:19:18.466Z"
   },
   {
    "duration": 3,
    "start_time": "2022-11-07T07:19:18.521Z"
   },
   {
    "duration": 12,
    "start_time": "2022-11-07T07:19:18.525Z"
   },
   {
    "duration": 4,
    "start_time": "2022-11-07T07:19:18.538Z"
   },
   {
    "duration": 9,
    "start_time": "2022-11-07T07:19:18.544Z"
   },
   {
    "duration": 5,
    "start_time": "2022-11-07T07:19:18.554Z"
   },
   {
    "duration": 4,
    "start_time": "2022-11-07T07:19:18.560Z"
   },
   {
    "duration": 493,
    "start_time": "2022-11-07T07:19:18.565Z"
   },
   {
    "duration": 479,
    "start_time": "2022-11-07T07:19:19.060Z"
   },
   {
    "duration": 333,
    "start_time": "2022-11-07T07:19:19.541Z"
   },
   {
    "duration": 236,
    "start_time": "2022-11-07T07:19:19.875Z"
   },
   {
    "duration": 224,
    "start_time": "2022-11-07T07:19:20.113Z"
   },
   {
    "duration": 237,
    "start_time": "2022-11-07T07:19:20.339Z"
   },
   {
    "duration": 477,
    "start_time": "2022-11-07T07:19:20.577Z"
   },
   {
    "duration": 16,
    "start_time": "2022-11-07T07:19:21.056Z"
   },
   {
    "duration": 49,
    "start_time": "2022-11-07T07:19:21.074Z"
   },
   {
    "duration": 8,
    "start_time": "2022-11-07T07:19:21.125Z"
   },
   {
    "duration": 11,
    "start_time": "2022-11-07T07:19:21.134Z"
   },
   {
    "duration": 6,
    "start_time": "2022-11-07T07:19:21.146Z"
   },
   {
    "duration": 7,
    "start_time": "2022-11-07T07:19:21.153Z"
   },
   {
    "duration": 13,
    "start_time": "2022-11-07T07:19:21.162Z"
   },
   {
    "duration": 14,
    "start_time": "2022-11-07T07:19:21.177Z"
   },
   {
    "duration": 31,
    "start_time": "2022-11-07T07:19:21.192Z"
   },
   {
    "duration": 13,
    "start_time": "2022-11-07T07:19:21.225Z"
   },
   {
    "duration": 5,
    "start_time": "2022-11-07T07:19:21.239Z"
   },
   {
    "duration": 17,
    "start_time": "2022-11-07T07:19:21.246Z"
   },
   {
    "duration": 6,
    "start_time": "2022-11-07T07:19:21.264Z"
   },
   {
    "duration": 5,
    "start_time": "2022-11-07T07:19:21.272Z"
   },
   {
    "duration": 4,
    "start_time": "2022-11-07T07:19:21.280Z"
   },
   {
    "duration": 10,
    "start_time": "2022-11-07T07:19:21.285Z"
   },
   {
    "duration": 139,
    "start_time": "2022-11-07T07:19:21.296Z"
   },
   {
    "duration": 4,
    "start_time": "2022-11-07T07:19:21.436Z"
   },
   {
    "duration": 62245,
    "start_time": "2022-11-07T07:19:21.442Z"
   },
   {
    "duration": 5,
    "start_time": "2022-11-07T07:20:23.688Z"
   },
   {
    "duration": 18,
    "start_time": "2022-11-07T07:20:23.723Z"
   },
   {
    "duration": 3,
    "start_time": "2022-11-07T07:20:23.743Z"
   },
   {
    "duration": 24,
    "start_time": "2022-11-07T07:20:23.748Z"
   },
   {
    "duration": 3,
    "start_time": "2022-11-07T07:20:23.774Z"
   },
   {
    "duration": 559,
    "start_time": "2022-11-07T07:20:23.779Z"
   },
   {
    "duration": 494,
    "start_time": "2022-11-07T07:20:24.340Z"
   },
   {
    "duration": 549,
    "start_time": "2022-11-07T07:20:24.836Z"
   },
   {
    "duration": 15,
    "start_time": "2022-11-07T07:20:25.387Z"
   },
   {
    "duration": 21,
    "start_time": "2022-11-07T07:20:25.404Z"
   },
   {
    "duration": 438,
    "start_time": "2022-11-07T07:20:25.427Z"
   },
   {
    "duration": 4,
    "start_time": "2022-11-07T07:20:25.867Z"
   },
   {
    "duration": 19,
    "start_time": "2022-11-07T07:20:25.873Z"
   },
   {
    "duration": 103,
    "start_time": "2022-11-07T07:20:25.894Z"
   },
   {
    "duration": 10,
    "start_time": "2022-11-07T07:20:36.920Z"
   },
   {
    "duration": 7,
    "start_time": "2022-11-07T07:35:28.558Z"
   },
   {
    "duration": 11590,
    "start_time": "2022-11-08T08:38:04.076Z"
   },
   {
    "duration": 89,
    "start_time": "2022-11-08T08:38:15.669Z"
   },
   {
    "duration": 507,
    "start_time": "2022-11-08T08:38:15.760Z"
   },
   {
    "duration": 502,
    "start_time": "2022-11-08T08:38:16.268Z"
   },
   {
    "duration": 7,
    "start_time": "2022-11-08T08:38:16.772Z"
   },
   {
    "duration": 61,
    "start_time": "2022-11-08T08:38:16.781Z"
   },
   {
    "duration": 6,
    "start_time": "2022-11-08T08:38:16.843Z"
   },
   {
    "duration": 17,
    "start_time": "2022-11-08T08:38:16.851Z"
   },
   {
    "duration": 36,
    "start_time": "2022-11-08T08:38:16.870Z"
   },
   {
    "duration": 19,
    "start_time": "2022-11-08T08:38:16.908Z"
   },
   {
    "duration": 14,
    "start_time": "2022-11-08T08:38:16.928Z"
   },
   {
    "duration": 12,
    "start_time": "2022-11-08T08:38:16.944Z"
   },
   {
    "duration": 54,
    "start_time": "2022-11-08T08:38:16.959Z"
   },
   {
    "duration": 13,
    "start_time": "2022-11-08T08:38:17.017Z"
   },
   {
    "duration": 24,
    "start_time": "2022-11-08T08:38:17.032Z"
   },
   {
    "duration": 9,
    "start_time": "2022-11-08T08:38:17.058Z"
   },
   {
    "duration": 10,
    "start_time": "2022-11-08T08:38:17.069Z"
   },
   {
    "duration": 7,
    "start_time": "2022-11-08T08:38:17.081Z"
   },
   {
    "duration": 5,
    "start_time": "2022-11-08T08:38:17.097Z"
   },
   {
    "duration": 476,
    "start_time": "2022-11-08T08:38:17.103Z"
   },
   {
    "duration": 570,
    "start_time": "2022-11-08T08:38:17.581Z"
   },
   {
    "duration": 6316,
    "start_time": "2022-11-08T08:38:18.153Z"
   },
   {
    "duration": 5453,
    "start_time": "2022-11-08T08:38:24.471Z"
   },
   {
    "duration": 5667,
    "start_time": "2022-11-08T08:38:29.926Z"
   },
   {
    "duration": 5232,
    "start_time": "2022-11-08T08:38:35.598Z"
   },
   {
    "duration": 513,
    "start_time": "2022-11-08T08:38:40.832Z"
   },
   {
    "duration": 16,
    "start_time": "2022-11-08T08:38:41.347Z"
   },
   {
    "duration": 46,
    "start_time": "2022-11-08T08:38:41.366Z"
   },
   {
    "duration": 9,
    "start_time": "2022-11-08T08:38:41.414Z"
   },
   {
    "duration": 11,
    "start_time": "2022-11-08T08:38:41.425Z"
   },
   {
    "duration": 7,
    "start_time": "2022-11-08T08:38:41.438Z"
   },
   {
    "duration": 10,
    "start_time": "2022-11-08T08:38:41.447Z"
   },
   {
    "duration": 14,
    "start_time": "2022-11-08T08:38:41.459Z"
   },
   {
    "duration": 654,
    "start_time": "2022-11-08T08:38:41.475Z"
   },
   {
    "duration": 10,
    "start_time": "2022-11-08T08:38:42.131Z"
   },
   {
    "duration": 19,
    "start_time": "2022-11-08T08:38:42.144Z"
   },
   {
    "duration": 6,
    "start_time": "2022-11-08T08:38:42.165Z"
   },
   {
    "duration": 176,
    "start_time": "2022-11-08T08:38:42.173Z"
   },
   {
    "duration": 3,
    "start_time": "2022-11-08T08:38:42.351Z"
   },
   {
    "duration": 10,
    "start_time": "2022-11-08T08:38:42.356Z"
   },
   {
    "duration": 8,
    "start_time": "2022-11-08T08:38:42.372Z"
   },
   {
    "duration": 213,
    "start_time": "2022-11-08T08:38:42.382Z"
   },
   {
    "duration": 68832,
    "start_time": "2022-11-08T08:38:42.598Z"
   },
   {
    "duration": 6,
    "start_time": "2022-11-08T08:39:51.432Z"
   },
   {
    "duration": 19,
    "start_time": "2022-11-08T08:39:51.439Z"
   },
   {
    "duration": 3,
    "start_time": "2022-11-08T08:39:51.460Z"
   },
   {
    "duration": 34,
    "start_time": "2022-11-08T08:39:51.465Z"
   },
   {
    "duration": 12,
    "start_time": "2022-11-08T08:39:51.501Z"
   },
   {
    "duration": 20,
    "start_time": "2022-11-08T08:39:51.515Z"
   },
   {
    "duration": 402,
    "start_time": "2022-11-08T08:39:51.537Z"
   },
   {
    "duration": 483,
    "start_time": "2022-11-08T08:39:51.941Z"
   },
   {
    "duration": 479,
    "start_time": "2022-11-08T08:39:52.426Z"
   },
   {
    "duration": 18,
    "start_time": "2022-11-08T08:39:52.906Z"
   },
   {
    "duration": 16,
    "start_time": "2022-11-08T08:39:52.926Z"
   },
   {
    "duration": 19,
    "start_time": "2022-11-08T08:39:52.944Z"
   },
   {
    "duration": 86,
    "start_time": "2022-11-08T08:39:52.965Z"
   },
   {
    "duration": 15,
    "start_time": "2022-11-08T08:48:18.608Z"
   },
   {
    "duration": 102,
    "start_time": "2022-11-08T08:54:26.652Z"
   },
   {
    "duration": 7,
    "start_time": "2022-11-08T08:54:31.080Z"
   },
   {
    "duration": 47,
    "start_time": "2022-11-08T11:38:49.872Z"
   },
   {
    "duration": 6,
    "start_time": "2022-11-08T11:38:59.723Z"
   },
   {
    "duration": 651,
    "start_time": "2022-11-08T11:39:59.669Z"
   },
   {
    "duration": 6,
    "start_time": "2022-11-08T11:40:12.335Z"
   },
   {
    "duration": 10270,
    "start_time": "2022-11-08T11:40:28.217Z"
   },
   {
    "duration": 83,
    "start_time": "2022-11-08T11:40:38.488Z"
   },
   {
    "duration": 482,
    "start_time": "2022-11-08T11:40:38.572Z"
   },
   {
    "duration": 433,
    "start_time": "2022-11-08T11:40:39.055Z"
   },
   {
    "duration": 15,
    "start_time": "2022-11-08T11:40:39.489Z"
   },
   {
    "duration": 38,
    "start_time": "2022-11-08T11:40:39.505Z"
   },
   {
    "duration": 6,
    "start_time": "2022-11-08T11:40:39.545Z"
   },
   {
    "duration": 15,
    "start_time": "2022-11-08T11:40:39.552Z"
   },
   {
    "duration": 42,
    "start_time": "2022-11-08T11:40:39.568Z"
   },
   {
    "duration": 12,
    "start_time": "2022-11-08T11:40:39.613Z"
   },
   {
    "duration": 11,
    "start_time": "2022-11-08T11:40:39.626Z"
   },
   {
    "duration": 6,
    "start_time": "2022-11-08T11:40:39.639Z"
   },
   {
    "duration": 55,
    "start_time": "2022-11-08T11:40:39.647Z"
   },
   {
    "duration": 10,
    "start_time": "2022-11-08T11:40:39.704Z"
   },
   {
    "duration": 13,
    "start_time": "2022-11-08T11:40:39.715Z"
   },
   {
    "duration": 9,
    "start_time": "2022-11-08T11:40:39.729Z"
   },
   {
    "duration": 6,
    "start_time": "2022-11-08T11:40:39.739Z"
   },
   {
    "duration": 12,
    "start_time": "2022-11-08T11:40:39.747Z"
   },
   {
    "duration": 6,
    "start_time": "2022-11-08T11:40:39.761Z"
   },
   {
    "duration": 478,
    "start_time": "2022-11-08T11:40:39.769Z"
   },
   {
    "duration": 542,
    "start_time": "2022-11-08T11:40:40.249Z"
   },
   {
    "duration": 5493,
    "start_time": "2022-11-08T11:40:40.793Z"
   },
   {
    "duration": 5181,
    "start_time": "2022-11-08T11:40:46.288Z"
   },
   {
    "duration": 4961,
    "start_time": "2022-11-08T11:40:51.471Z"
   },
   {
    "duration": 4745,
    "start_time": "2022-11-08T11:40:56.434Z"
   },
   {
    "duration": 463,
    "start_time": "2022-11-08T11:41:01.180Z"
   },
   {
    "duration": 13,
    "start_time": "2022-11-08T11:41:01.645Z"
   },
   {
    "duration": 44,
    "start_time": "2022-11-08T11:41:01.662Z"
   },
   {
    "duration": 7,
    "start_time": "2022-11-08T11:41:01.707Z"
   },
   {
    "duration": 13,
    "start_time": "2022-11-08T11:41:01.715Z"
   },
   {
    "duration": 4,
    "start_time": "2022-11-08T11:41:01.730Z"
   },
   {
    "duration": 9,
    "start_time": "2022-11-08T11:41:01.736Z"
   },
   {
    "duration": 10,
    "start_time": "2022-11-08T11:41:01.746Z"
   },
   {
    "duration": 625,
    "start_time": "2022-11-08T11:41:01.757Z"
   },
   {
    "duration": 15,
    "start_time": "2022-11-08T11:41:02.384Z"
   },
   {
    "duration": 9,
    "start_time": "2022-11-08T11:41:02.401Z"
   },
   {
    "duration": 8,
    "start_time": "2022-11-08T11:41:02.411Z"
   },
   {
    "duration": 191,
    "start_time": "2022-11-08T11:41:02.420Z"
   },
   {
    "duration": 2,
    "start_time": "2022-11-08T11:41:02.613Z"
   },
   {
    "duration": 6,
    "start_time": "2022-11-08T11:41:02.617Z"
   },
   {
    "duration": 9,
    "start_time": "2022-11-08T11:41:02.625Z"
   },
   {
    "duration": 188,
    "start_time": "2022-11-08T11:41:02.635Z"
   },
   {
    "duration": 65292,
    "start_time": "2022-11-08T11:41:02.825Z"
   },
   {
    "duration": 5,
    "start_time": "2022-11-08T11:42:08.118Z"
   },
   {
    "duration": 27,
    "start_time": "2022-11-08T11:42:08.125Z"
   },
   {
    "duration": 2,
    "start_time": "2022-11-08T11:42:08.154Z"
   },
   {
    "duration": 16,
    "start_time": "2022-11-08T11:42:08.158Z"
   },
   {
    "duration": 10,
    "start_time": "2022-11-08T11:42:08.175Z"
   },
   {
    "duration": 2,
    "start_time": "2022-11-08T11:42:08.187Z"
   },
   {
    "duration": 318,
    "start_time": "2022-11-08T11:42:08.199Z"
   },
   {
    "duration": 427,
    "start_time": "2022-11-08T11:42:08.518Z"
   },
   {
    "duration": 503,
    "start_time": "2022-11-08T11:42:08.946Z"
   },
   {
    "duration": 75,
    "start_time": "2022-11-08T11:42:09.451Z"
   },
   {
    "duration": 0,
    "start_time": "2022-11-08T11:42:09.527Z"
   },
   {
    "duration": 0,
    "start_time": "2022-11-08T11:42:09.529Z"
   },
   {
    "duration": 19,
    "start_time": "2022-11-08T11:56:35.852Z"
   },
   {
    "duration": 8,
    "start_time": "2022-11-08T11:56:36.071Z"
   },
   {
    "duration": 251,
    "start_time": "2022-11-08T11:56:37.471Z"
   },
   {
    "duration": 7,
    "start_time": "2022-11-08T11:56:58.199Z"
   },
   {
    "duration": 13,
    "start_time": "2022-11-08T11:58:16.157Z"
   },
   {
    "duration": 12,
    "start_time": "2022-11-08T11:59:25.317Z"
   },
   {
    "duration": 10,
    "start_time": "2022-11-08T12:01:14.601Z"
   },
   {
    "duration": 13,
    "start_time": "2022-11-08T12:05:57.728Z"
   },
   {
    "duration": 19,
    "start_time": "2022-11-08T12:06:02.296Z"
   },
   {
    "duration": 142,
    "start_time": "2022-11-08T12:06:55.666Z"
   },
   {
    "duration": 68,
    "start_time": "2022-11-08T12:07:03.303Z"
   },
   {
    "duration": 7,
    "start_time": "2022-11-08T12:07:07.184Z"
   },
   {
    "duration": 8,
    "start_time": "2022-11-08T12:07:40.848Z"
   },
   {
    "duration": 12,
    "start_time": "2022-11-08T12:08:10.360Z"
   },
   {
    "duration": 3696,
    "start_time": "2022-11-08T12:08:26.547Z"
   },
   {
    "duration": 21,
    "start_time": "2022-11-08T12:09:10.319Z"
   },
   {
    "duration": 7,
    "start_time": "2022-11-08T12:09:10.543Z"
   },
   {
    "duration": 9,
    "start_time": "2022-11-08T12:09:10.801Z"
   },
   {
    "duration": 303,
    "start_time": "2022-11-08T12:09:11.032Z"
   },
   {
    "duration": 4,
    "start_time": "2022-11-08T12:10:08.345Z"
   },
   {
    "duration": 12,
    "start_time": "2022-11-08T12:10:32.729Z"
   },
   {
    "duration": 8,
    "start_time": "2022-11-08T12:11:07.032Z"
   },
   {
    "duration": 70,
    "start_time": "2022-11-08T12:13:43.497Z"
   },
   {
    "duration": 66,
    "start_time": "2022-11-08T12:13:53.105Z"
   },
   {
    "duration": 86,
    "start_time": "2022-11-08T12:14:03.568Z"
   },
   {
    "duration": 70,
    "start_time": "2022-11-08T12:14:16.464Z"
   },
   {
    "duration": 75,
    "start_time": "2022-11-08T12:14:26.224Z"
   },
   {
    "duration": 67,
    "start_time": "2022-11-08T12:14:50.929Z"
   },
   {
    "duration": 3,
    "start_time": "2022-11-08T12:15:11.906Z"
   },
   {
    "duration": 10,
    "start_time": "2022-11-08T12:15:15.336Z"
   },
   {
    "duration": 11,
    "start_time": "2022-11-08T12:15:38.199Z"
   },
   {
    "duration": 18,
    "start_time": "2022-11-08T12:18:41.225Z"
   },
   {
    "duration": 20,
    "start_time": "2022-11-08T12:19:27.354Z"
   },
   {
    "duration": 21,
    "start_time": "2022-11-08T12:19:54.672Z"
   },
   {
    "duration": 12,
    "start_time": "2022-11-08T12:20:04.108Z"
   },
   {
    "duration": 10,
    "start_time": "2022-11-08T12:20:07.574Z"
   },
   {
    "duration": 19,
    "start_time": "2022-11-08T12:20:21.337Z"
   },
   {
    "duration": 20,
    "start_time": "2022-11-08T12:20:24.435Z"
   },
   {
    "duration": 21,
    "start_time": "2022-11-08T12:20:28.121Z"
   },
   {
    "duration": 14,
    "start_time": "2022-11-08T12:20:29.360Z"
   },
   {
    "duration": 24,
    "start_time": "2022-11-08T12:20:33.338Z"
   },
   {
    "duration": 14,
    "start_time": "2022-11-08T12:20:35.449Z"
   },
   {
    "duration": 6219,
    "start_time": "2022-11-08T12:20:43.103Z"
   },
   {
    "duration": 47,
    "start_time": "2022-11-08T12:20:49.325Z"
   },
   {
    "duration": 497,
    "start_time": "2022-11-08T12:20:49.374Z"
   },
   {
    "duration": 437,
    "start_time": "2022-11-08T12:20:49.873Z"
   },
   {
    "duration": 7,
    "start_time": "2022-11-08T12:20:50.312Z"
   },
   {
    "duration": 56,
    "start_time": "2022-11-08T12:20:50.321Z"
   },
   {
    "duration": 6,
    "start_time": "2022-11-08T12:20:50.379Z"
   },
   {
    "duration": 20,
    "start_time": "2022-11-08T12:20:50.386Z"
   },
   {
    "duration": 45,
    "start_time": "2022-11-08T12:20:50.408Z"
   },
   {
    "duration": 13,
    "start_time": "2022-11-08T12:20:50.455Z"
   },
   {
    "duration": 30,
    "start_time": "2022-11-08T12:20:50.469Z"
   },
   {
    "duration": 30,
    "start_time": "2022-11-08T12:20:50.501Z"
   },
   {
    "duration": 32,
    "start_time": "2022-11-08T12:20:50.533Z"
   },
   {
    "duration": 34,
    "start_time": "2022-11-08T12:20:50.567Z"
   },
   {
    "duration": 33,
    "start_time": "2022-11-08T12:20:50.603Z"
   },
   {
    "duration": 30,
    "start_time": "2022-11-08T12:20:50.638Z"
   },
   {
    "duration": 46,
    "start_time": "2022-11-08T12:20:50.669Z"
   },
   {
    "duration": 37,
    "start_time": "2022-11-08T12:20:50.716Z"
   },
   {
    "duration": 10,
    "start_time": "2022-11-08T12:20:50.755Z"
   },
   {
    "duration": 473,
    "start_time": "2022-11-08T12:20:50.767Z"
   },
   {
    "duration": 435,
    "start_time": "2022-11-08T12:20:51.241Z"
   },
   {
    "duration": 5369,
    "start_time": "2022-11-08T12:20:51.678Z"
   },
   {
    "duration": 4882,
    "start_time": "2022-11-08T12:20:57.049Z"
   },
   {
    "duration": 5141,
    "start_time": "2022-11-08T12:21:01.933Z"
   },
   {
    "duration": 4955,
    "start_time": "2022-11-08T12:21:07.076Z"
   },
   {
    "duration": 595,
    "start_time": "2022-11-08T12:21:12.034Z"
   },
   {
    "duration": 15,
    "start_time": "2022-11-08T12:21:12.631Z"
   },
   {
    "duration": 59,
    "start_time": "2022-11-08T12:21:12.651Z"
   },
   {
    "duration": 12,
    "start_time": "2022-11-08T12:21:12.711Z"
   },
   {
    "duration": 29,
    "start_time": "2022-11-08T12:21:12.725Z"
   },
   {
    "duration": 43,
    "start_time": "2022-11-08T12:21:12.756Z"
   },
   {
    "duration": 35,
    "start_time": "2022-11-08T12:21:12.801Z"
   },
   {
    "duration": 37,
    "start_time": "2022-11-08T12:21:12.838Z"
   },
   {
    "duration": 584,
    "start_time": "2022-11-08T12:21:12.877Z"
   },
   {
    "duration": 8,
    "start_time": "2022-11-08T12:21:13.462Z"
   },
   {
    "duration": 9,
    "start_time": "2022-11-08T12:21:13.472Z"
   },
   {
    "duration": 3,
    "start_time": "2022-11-08T12:21:13.499Z"
   },
   {
    "duration": 87,
    "start_time": "2022-11-08T12:21:13.504Z"
   },
   {
    "duration": 2,
    "start_time": "2022-11-08T12:21:13.593Z"
   },
   {
    "duration": 29,
    "start_time": "2022-11-08T12:21:13.596Z"
   },
   {
    "duration": 151,
    "start_time": "2022-11-08T12:21:13.626Z"
   },
   {
    "duration": 0,
    "start_time": "2022-11-08T12:21:13.779Z"
   },
   {
    "duration": 0,
    "start_time": "2022-11-08T12:21:13.780Z"
   },
   {
    "duration": 0,
    "start_time": "2022-11-08T12:21:13.782Z"
   },
   {
    "duration": 0,
    "start_time": "2022-11-08T12:21:13.783Z"
   },
   {
    "duration": 0,
    "start_time": "2022-11-08T12:21:13.784Z"
   },
   {
    "duration": 0,
    "start_time": "2022-11-08T12:21:13.799Z"
   },
   {
    "duration": 0,
    "start_time": "2022-11-08T12:21:13.800Z"
   },
   {
    "duration": 0,
    "start_time": "2022-11-08T12:21:13.801Z"
   },
   {
    "duration": 0,
    "start_time": "2022-11-08T12:21:13.802Z"
   },
   {
    "duration": 0,
    "start_time": "2022-11-08T12:21:13.804Z"
   },
   {
    "duration": 0,
    "start_time": "2022-11-08T12:21:13.804Z"
   },
   {
    "duration": 0,
    "start_time": "2022-11-08T12:21:13.806Z"
   },
   {
    "duration": 0,
    "start_time": "2022-11-08T12:21:13.807Z"
   },
   {
    "duration": 0,
    "start_time": "2022-11-08T12:21:13.809Z"
   },
   {
    "duration": 0,
    "start_time": "2022-11-08T12:21:13.810Z"
   },
   {
    "duration": 0,
    "start_time": "2022-11-08T12:21:13.812Z"
   },
   {
    "duration": 11,
    "start_time": "2022-11-08T12:29:39.481Z"
   },
   {
    "duration": 13,
    "start_time": "2022-11-08T12:29:57.340Z"
   },
   {
    "duration": 19,
    "start_time": "2022-11-08T12:29:58.288Z"
   },
   {
    "duration": 23,
    "start_time": "2022-11-08T12:30:05.975Z"
   },
   {
    "duration": 21,
    "start_time": "2022-11-08T12:31:28.226Z"
   },
   {
    "duration": 17,
    "start_time": "2022-11-08T12:31:34.830Z"
   },
   {
    "duration": 18,
    "start_time": "2022-11-08T12:31:36.970Z"
   },
   {
    "duration": 21,
    "start_time": "2022-11-08T12:31:43.106Z"
   },
   {
    "duration": 21,
    "start_time": "2022-11-08T12:31:44.460Z"
   },
   {
    "duration": 20,
    "start_time": "2022-11-08T12:31:47.802Z"
   },
   {
    "duration": 19,
    "start_time": "2022-11-08T12:31:51.911Z"
   },
   {
    "duration": 16,
    "start_time": "2022-11-08T12:31:52.975Z"
   },
   {
    "duration": 13,
    "start_time": "2022-11-08T12:32:15.434Z"
   },
   {
    "duration": 8,
    "start_time": "2022-11-08T12:32:19.363Z"
   },
   {
    "duration": 154,
    "start_time": "2022-11-08T12:32:21.883Z"
   },
   {
    "duration": 15,
    "start_time": "2022-11-08T12:33:26.769Z"
   },
   {
    "duration": 64704,
    "start_time": "2022-11-08T12:33:26.785Z"
   },
   {
    "duration": 5,
    "start_time": "2022-11-08T12:34:31.490Z"
   },
   {
    "duration": 17,
    "start_time": "2022-11-08T12:34:31.499Z"
   },
   {
    "duration": 0,
    "start_time": "2022-11-08T12:34:31.517Z"
   },
   {
    "duration": 0,
    "start_time": "2022-11-08T12:34:31.518Z"
   },
   {
    "duration": 0,
    "start_time": "2022-11-08T12:34:31.519Z"
   },
   {
    "duration": 0,
    "start_time": "2022-11-08T12:34:31.520Z"
   },
   {
    "duration": 0,
    "start_time": "2022-11-08T12:34:31.521Z"
   },
   {
    "duration": 17,
    "start_time": "2022-11-08T12:35:48.540Z"
   },
   {
    "duration": 16,
    "start_time": "2022-11-08T12:35:51.788Z"
   },
   {
    "duration": 14,
    "start_time": "2022-11-08T12:35:52.658Z"
   },
   {
    "duration": 22,
    "start_time": "2022-11-08T12:35:58.371Z"
   },
   {
    "duration": 14,
    "start_time": "2022-11-08T12:36:01.355Z"
   },
   {
    "duration": 6006,
    "start_time": "2022-11-08T12:36:09.718Z"
   },
   {
    "duration": 48,
    "start_time": "2022-11-08T12:36:15.726Z"
   },
   {
    "duration": 524,
    "start_time": "2022-11-08T12:36:15.776Z"
   },
   {
    "duration": 438,
    "start_time": "2022-11-08T12:36:16.303Z"
   },
   {
    "duration": 11,
    "start_time": "2022-11-08T12:36:16.742Z"
   },
   {
    "duration": 55,
    "start_time": "2022-11-08T12:36:16.755Z"
   },
   {
    "duration": 7,
    "start_time": "2022-11-08T12:36:16.811Z"
   },
   {
    "duration": 12,
    "start_time": "2022-11-08T12:36:16.819Z"
   },
   {
    "duration": 29,
    "start_time": "2022-11-08T12:36:16.832Z"
   },
   {
    "duration": 42,
    "start_time": "2022-11-08T12:36:16.865Z"
   },
   {
    "duration": 8,
    "start_time": "2022-11-08T12:36:16.909Z"
   },
   {
    "duration": 9,
    "start_time": "2022-11-08T12:36:16.919Z"
   },
   {
    "duration": 37,
    "start_time": "2022-11-08T12:36:16.929Z"
   },
   {
    "duration": 9,
    "start_time": "2022-11-08T12:36:16.968Z"
   },
   {
    "duration": 30,
    "start_time": "2022-11-08T12:36:16.979Z"
   },
   {
    "duration": 7,
    "start_time": "2022-11-08T12:36:17.011Z"
   },
   {
    "duration": 7,
    "start_time": "2022-11-08T12:36:17.020Z"
   },
   {
    "duration": 7,
    "start_time": "2022-11-08T12:36:17.029Z"
   },
   {
    "duration": 7,
    "start_time": "2022-11-08T12:36:17.038Z"
   },
   {
    "duration": 488,
    "start_time": "2022-11-08T12:36:17.046Z"
   },
   {
    "duration": 466,
    "start_time": "2022-11-08T12:36:17.535Z"
   },
   {
    "duration": 5349,
    "start_time": "2022-11-08T12:36:18.003Z"
   },
   {
    "duration": 5053,
    "start_time": "2022-11-08T12:36:23.353Z"
   },
   {
    "duration": 4923,
    "start_time": "2022-11-08T12:36:28.408Z"
   },
   {
    "duration": 4976,
    "start_time": "2022-11-08T12:36:33.332Z"
   },
   {
    "duration": 454,
    "start_time": "2022-11-08T12:36:38.309Z"
   },
   {
    "duration": 13,
    "start_time": "2022-11-08T12:36:38.765Z"
   },
   {
    "duration": 37,
    "start_time": "2022-11-08T12:36:38.781Z"
   },
   {
    "duration": 7,
    "start_time": "2022-11-08T12:36:38.820Z"
   },
   {
    "duration": 9,
    "start_time": "2022-11-08T12:36:38.829Z"
   },
   {
    "duration": 9,
    "start_time": "2022-11-08T12:36:38.839Z"
   },
   {
    "duration": 9,
    "start_time": "2022-11-08T12:36:38.849Z"
   },
   {
    "duration": 8,
    "start_time": "2022-11-08T12:36:38.859Z"
   },
   {
    "duration": 608,
    "start_time": "2022-11-08T12:36:38.868Z"
   },
   {
    "duration": 8,
    "start_time": "2022-11-08T12:36:39.478Z"
   },
   {
    "duration": 16,
    "start_time": "2022-11-08T12:36:39.488Z"
   },
   {
    "duration": 7,
    "start_time": "2022-11-08T12:36:39.506Z"
   },
   {
    "duration": 86,
    "start_time": "2022-11-08T12:36:39.514Z"
   },
   {
    "duration": 2,
    "start_time": "2022-11-08T12:36:39.602Z"
   },
   {
    "duration": 23,
    "start_time": "2022-11-08T12:36:39.606Z"
   },
   {
    "duration": 144,
    "start_time": "2022-11-08T12:36:39.631Z"
   },
   {
    "duration": 0,
    "start_time": "2022-11-08T12:36:39.777Z"
   },
   {
    "duration": 0,
    "start_time": "2022-11-08T12:36:39.778Z"
   },
   {
    "duration": 0,
    "start_time": "2022-11-08T12:36:39.779Z"
   },
   {
    "duration": 0,
    "start_time": "2022-11-08T12:36:39.780Z"
   },
   {
    "duration": 0,
    "start_time": "2022-11-08T12:36:39.781Z"
   },
   {
    "duration": 0,
    "start_time": "2022-11-08T12:36:39.782Z"
   },
   {
    "duration": 0,
    "start_time": "2022-11-08T12:36:39.784Z"
   },
   {
    "duration": 0,
    "start_time": "2022-11-08T12:36:39.784Z"
   },
   {
    "duration": 0,
    "start_time": "2022-11-08T12:36:39.785Z"
   },
   {
    "duration": 0,
    "start_time": "2022-11-08T12:36:39.799Z"
   },
   {
    "duration": 0,
    "start_time": "2022-11-08T12:36:39.800Z"
   },
   {
    "duration": 0,
    "start_time": "2022-11-08T12:36:39.801Z"
   },
   {
    "duration": 0,
    "start_time": "2022-11-08T12:36:39.802Z"
   },
   {
    "duration": 0,
    "start_time": "2022-11-08T12:36:39.804Z"
   },
   {
    "duration": 0,
    "start_time": "2022-11-08T12:36:39.805Z"
   },
   {
    "duration": 0,
    "start_time": "2022-11-08T12:36:39.806Z"
   },
   {
    "duration": 7,
    "start_time": "2022-11-08T12:37:40.722Z"
   },
   {
    "duration": 146,
    "start_time": "2022-11-08T12:37:57.213Z"
   },
   {
    "duration": 32770,
    "start_time": "2022-11-08T12:37:58.274Z"
   },
   {
    "duration": 0,
    "start_time": "2022-11-08T12:38:31.046Z"
   },
   {
    "duration": 5,
    "start_time": "2022-11-08T12:38:34.145Z"
   },
   {
    "duration": 12,
    "start_time": "2022-11-08T12:38:35.083Z"
   },
   {
    "duration": 2,
    "start_time": "2022-11-08T12:38:35.793Z"
   },
   {
    "duration": 14,
    "start_time": "2022-11-08T12:38:36.249Z"
   },
   {
    "duration": 7,
    "start_time": "2022-11-08T12:38:53.346Z"
   },
   {
    "duration": 11,
    "start_time": "2022-11-08T12:39:14.563Z"
   },
   {
    "duration": 10,
    "start_time": "2022-11-08T12:39:34.987Z"
   },
   {
    "duration": 9,
    "start_time": "2022-11-08T12:39:49.974Z"
   },
   {
    "duration": 10,
    "start_time": "2022-11-08T12:39:50.762Z"
   },
   {
    "duration": 10,
    "start_time": "2022-11-08T12:39:53.453Z"
   },
   {
    "duration": 3,
    "start_time": "2022-11-08T12:39:58.307Z"
   },
   {
    "duration": 12,
    "start_time": "2022-11-08T12:40:00.859Z"
   },
   {
    "duration": 2,
    "start_time": "2022-11-08T12:40:01.570Z"
   },
   {
    "duration": 357,
    "start_time": "2022-11-08T12:40:02.482Z"
   },
   {
    "duration": 671,
    "start_time": "2022-11-08T12:40:05.595Z"
   },
   {
    "duration": 421,
    "start_time": "2022-11-08T12:40:13.233Z"
   },
   {
    "duration": 17,
    "start_time": "2022-11-08T12:40:19.002Z"
   },
   {
    "duration": 7,
    "start_time": "2022-11-08T12:40:19.842Z"
   },
   {
    "duration": 8,
    "start_time": "2022-11-08T12:40:20.649Z"
   },
   {
    "duration": 243,
    "start_time": "2022-11-08T12:40:22.771Z"
   },
   {
    "duration": 14,
    "start_time": "2022-11-08T12:40:24.456Z"
   },
   {
    "duration": 22,
    "start_time": "2022-11-08T12:41:06.475Z"
   },
   {
    "duration": 19,
    "start_time": "2022-11-08T12:41:29.302Z"
   },
   {
    "duration": 6,
    "start_time": "2022-11-08T12:41:33.482Z"
   },
   {
    "duration": 10,
    "start_time": "2022-11-08T12:41:34.114Z"
   },
   {
    "duration": 247,
    "start_time": "2022-11-08T12:41:34.385Z"
   },
   {
    "duration": 17,
    "start_time": "2022-11-08T12:42:21.906Z"
   },
   {
    "duration": 19,
    "start_time": "2022-11-08T12:43:33.555Z"
   },
   {
    "duration": 6,
    "start_time": "2022-11-08T12:43:33.850Z"
   },
   {
    "duration": 8,
    "start_time": "2022-11-08T12:43:34.410Z"
   },
   {
    "duration": 245,
    "start_time": "2022-11-08T12:43:35.170Z"
   },
   {
    "duration": 12,
    "start_time": "2022-11-08T12:43:40.098Z"
   },
   {
    "duration": 28,
    "start_time": "2022-11-08T12:43:52.139Z"
   },
   {
    "duration": 6,
    "start_time": "2022-11-08T12:43:52.410Z"
   },
   {
    "duration": 8,
    "start_time": "2022-11-08T12:43:52.688Z"
   },
   {
    "duration": 245,
    "start_time": "2022-11-08T12:43:52.962Z"
   },
   {
    "duration": 11,
    "start_time": "2022-11-08T12:43:55.064Z"
   },
   {
    "duration": 64885,
    "start_time": "2022-11-08T12:46:06.826Z"
   },
   {
    "duration": 5616,
    "start_time": "2022-11-08T12:50:26.981Z"
   },
   {
    "duration": 48,
    "start_time": "2022-11-08T12:50:32.599Z"
   },
   {
    "duration": 500,
    "start_time": "2022-11-08T12:50:32.648Z"
   },
   {
    "duration": 453,
    "start_time": "2022-11-08T12:50:33.151Z"
   },
   {
    "duration": 8,
    "start_time": "2022-11-08T12:50:33.605Z"
   },
   {
    "duration": 40,
    "start_time": "2022-11-08T12:50:33.615Z"
   },
   {
    "duration": 6,
    "start_time": "2022-11-08T12:50:33.657Z"
   },
   {
    "duration": 35,
    "start_time": "2022-11-08T12:50:33.665Z"
   },
   {
    "duration": 26,
    "start_time": "2022-11-08T12:50:33.702Z"
   },
   {
    "duration": 12,
    "start_time": "2022-11-08T12:50:33.731Z"
   },
   {
    "duration": 14,
    "start_time": "2022-11-08T12:50:33.745Z"
   },
   {
    "duration": 11,
    "start_time": "2022-11-08T12:50:33.760Z"
   },
   {
    "duration": 46,
    "start_time": "2022-11-08T12:50:33.772Z"
   },
   {
    "duration": 13,
    "start_time": "2022-11-08T12:50:33.820Z"
   },
   {
    "duration": 14,
    "start_time": "2022-11-08T12:50:33.835Z"
   },
   {
    "duration": 10,
    "start_time": "2022-11-08T12:50:33.850Z"
   },
   {
    "duration": 11,
    "start_time": "2022-11-08T12:50:33.861Z"
   },
   {
    "duration": 12,
    "start_time": "2022-11-08T12:50:33.873Z"
   },
   {
    "duration": 7,
    "start_time": "2022-11-08T12:50:33.886Z"
   },
   {
    "duration": 473,
    "start_time": "2022-11-08T12:50:33.895Z"
   },
   {
    "duration": 516,
    "start_time": "2022-11-08T12:50:34.370Z"
   },
   {
    "duration": 5395,
    "start_time": "2022-11-08T12:50:34.888Z"
   },
   {
    "duration": 5201,
    "start_time": "2022-11-08T12:50:40.285Z"
   },
   {
    "duration": 5377,
    "start_time": "2022-11-08T12:50:45.488Z"
   },
   {
    "duration": 4893,
    "start_time": "2022-11-08T12:50:50.866Z"
   },
   {
    "duration": 503,
    "start_time": "2022-11-08T12:50:55.761Z"
   },
   {
    "duration": 13,
    "start_time": "2022-11-08T12:50:56.265Z"
   },
   {
    "duration": 36,
    "start_time": "2022-11-08T12:50:56.282Z"
   },
   {
    "duration": 7,
    "start_time": "2022-11-08T12:50:56.320Z"
   },
   {
    "duration": 6,
    "start_time": "2022-11-08T12:50:56.329Z"
   },
   {
    "duration": 5,
    "start_time": "2022-11-08T12:50:56.337Z"
   },
   {
    "duration": 8,
    "start_time": "2022-11-08T12:50:56.344Z"
   },
   {
    "duration": 6,
    "start_time": "2022-11-08T12:50:56.353Z"
   },
   {
    "duration": 603,
    "start_time": "2022-11-08T12:50:56.361Z"
   },
   {
    "duration": 7,
    "start_time": "2022-11-08T12:50:56.966Z"
   },
   {
    "duration": 10,
    "start_time": "2022-11-08T12:50:56.975Z"
   },
   {
    "duration": 12,
    "start_time": "2022-11-08T12:50:56.986Z"
   },
   {
    "duration": 76,
    "start_time": "2022-11-08T12:50:57.000Z"
   },
   {
    "duration": 3,
    "start_time": "2022-11-08T12:50:57.078Z"
   },
   {
    "duration": 22,
    "start_time": "2022-11-08T12:50:57.083Z"
   },
   {
    "duration": 9,
    "start_time": "2022-11-08T12:50:57.107Z"
   },
   {
    "duration": 155,
    "start_time": "2022-11-08T12:50:57.118Z"
   },
   {
    "duration": 63886,
    "start_time": "2022-11-08T12:50:57.275Z"
   },
   {
    "duration": 5,
    "start_time": "2022-11-08T12:52:01.162Z"
   },
   {
    "duration": 21,
    "start_time": "2022-11-08T12:52:01.169Z"
   },
   {
    "duration": 18,
    "start_time": "2022-11-08T12:52:01.191Z"
   },
   {
    "duration": 12,
    "start_time": "2022-11-08T12:52:01.210Z"
   },
   {
    "duration": 9,
    "start_time": "2022-11-08T12:52:01.224Z"
   },
   {
    "duration": 16,
    "start_time": "2022-11-08T12:52:01.235Z"
   },
   {
    "duration": 10,
    "start_time": "2022-11-08T12:52:01.253Z"
   },
   {
    "duration": 350,
    "start_time": "2022-11-08T12:52:01.264Z"
   },
   {
    "duration": 441,
    "start_time": "2022-11-08T12:52:01.615Z"
   },
   {
    "duration": 465,
    "start_time": "2022-11-08T12:52:02.057Z"
   },
   {
    "duration": 18,
    "start_time": "2022-11-08T12:52:02.524Z"
   },
   {
    "duration": 6,
    "start_time": "2022-11-08T12:52:02.544Z"
   },
   {
    "duration": 9,
    "start_time": "2022-11-08T12:52:02.552Z"
   },
   {
    "duration": 260,
    "start_time": "2022-11-08T12:52:02.562Z"
   },
   {
    "duration": 10,
    "start_time": "2022-11-08T12:52:02.823Z"
   },
   {
    "duration": 21,
    "start_time": "2022-11-08T12:54:23.982Z"
   },
   {
    "duration": 18,
    "start_time": "2022-11-08T12:54:26.859Z"
   },
   {
    "duration": 19,
    "start_time": "2022-11-08T12:54:38.916Z"
   },
   {
    "duration": 6,
    "start_time": "2022-11-08T12:54:40.307Z"
   },
   {
    "duration": 8,
    "start_time": "2022-11-08T12:54:40.561Z"
   },
   {
    "duration": 235,
    "start_time": "2022-11-08T12:54:42.524Z"
   },
   {
    "duration": 13,
    "start_time": "2022-11-08T12:54:43.738Z"
   },
   {
    "duration": 18,
    "start_time": "2022-11-08T12:54:55.935Z"
   },
   {
    "duration": 140,
    "start_time": "2022-11-08T12:56:22.333Z"
   },
   {
    "duration": 11,
    "start_time": "2022-11-08T12:56:40.148Z"
   },
   {
    "duration": 14,
    "start_time": "2022-11-08T12:57:08.461Z"
   },
   {
    "duration": 18,
    "start_time": "2022-11-08T12:57:47.109Z"
   },
   {
    "duration": 16,
    "start_time": "2022-11-08T12:58:22.164Z"
   },
   {
    "duration": 11,
    "start_time": "2022-11-08T12:59:06.668Z"
   },
   {
    "duration": 11,
    "start_time": "2022-11-08T12:59:12.460Z"
   },
   {
    "duration": 12,
    "start_time": "2022-11-08T12:59:18.166Z"
   },
   {
    "duration": 14,
    "start_time": "2022-11-08T12:59:44.027Z"
   },
   {
    "duration": 5440,
    "start_time": "2022-11-08T13:01:12.949Z"
   },
   {
    "duration": 46,
    "start_time": "2022-11-08T13:01:18.391Z"
   },
   {
    "duration": 495,
    "start_time": "2022-11-08T13:01:18.439Z"
   },
   {
    "duration": 394,
    "start_time": "2022-11-08T13:01:18.936Z"
   },
   {
    "duration": 8,
    "start_time": "2022-11-08T13:01:19.332Z"
   },
   {
    "duration": 46,
    "start_time": "2022-11-08T13:01:19.342Z"
   },
   {
    "duration": 15,
    "start_time": "2022-11-08T13:01:19.389Z"
   },
   {
    "duration": 12,
    "start_time": "2022-11-08T13:01:19.405Z"
   },
   {
    "duration": 25,
    "start_time": "2022-11-08T13:01:19.418Z"
   },
   {
    "duration": 13,
    "start_time": "2022-11-08T13:01:19.445Z"
   },
   {
    "duration": 10,
    "start_time": "2022-11-08T13:01:19.460Z"
   },
   {
    "duration": 33,
    "start_time": "2022-11-08T13:01:19.472Z"
   },
   {
    "duration": 37,
    "start_time": "2022-11-08T13:01:19.508Z"
   },
   {
    "duration": 15,
    "start_time": "2022-11-08T13:01:19.546Z"
   },
   {
    "duration": 14,
    "start_time": "2022-11-08T13:01:19.563Z"
   },
   {
    "duration": 5,
    "start_time": "2022-11-08T13:01:19.578Z"
   },
   {
    "duration": 20,
    "start_time": "2022-11-08T13:01:19.585Z"
   },
   {
    "duration": 6,
    "start_time": "2022-11-08T13:01:19.607Z"
   },
   {
    "duration": 5,
    "start_time": "2022-11-08T13:01:19.614Z"
   },
   {
    "duration": 451,
    "start_time": "2022-11-08T13:01:19.620Z"
   },
   {
    "duration": 507,
    "start_time": "2022-11-08T13:01:20.073Z"
   },
   {
    "duration": 5663,
    "start_time": "2022-11-08T13:01:20.582Z"
   },
   {
    "duration": 5079,
    "start_time": "2022-11-08T13:01:26.246Z"
   },
   {
    "duration": 4956,
    "start_time": "2022-11-08T13:01:31.327Z"
   },
   {
    "duration": 4644,
    "start_time": "2022-11-08T13:01:36.285Z"
   },
   {
    "duration": 439,
    "start_time": "2022-11-08T13:01:40.931Z"
   },
   {
    "duration": 12,
    "start_time": "2022-11-08T13:01:41.372Z"
   },
   {
    "duration": 24,
    "start_time": "2022-11-08T13:01:41.399Z"
   },
   {
    "duration": 7,
    "start_time": "2022-11-08T13:01:41.425Z"
   },
   {
    "duration": 15,
    "start_time": "2022-11-08T13:01:41.434Z"
   },
   {
    "duration": 8,
    "start_time": "2022-11-08T13:01:41.451Z"
   },
   {
    "duration": 7,
    "start_time": "2022-11-08T13:01:41.460Z"
   },
   {
    "duration": 10,
    "start_time": "2022-11-08T13:01:41.468Z"
   },
   {
    "duration": 590,
    "start_time": "2022-11-08T13:01:41.479Z"
   },
   {
    "duration": 8,
    "start_time": "2022-11-08T13:01:42.071Z"
   },
   {
    "duration": 19,
    "start_time": "2022-11-08T13:01:42.080Z"
   },
   {
    "duration": 2,
    "start_time": "2022-11-08T13:01:42.100Z"
   },
   {
    "duration": 86,
    "start_time": "2022-11-08T13:01:42.104Z"
   },
   {
    "duration": 2,
    "start_time": "2022-11-08T13:01:42.192Z"
   },
   {
    "duration": 25,
    "start_time": "2022-11-08T13:01:42.196Z"
   },
   {
    "duration": 8,
    "start_time": "2022-11-08T13:01:42.223Z"
   },
   {
    "duration": 156,
    "start_time": "2022-11-08T13:01:42.232Z"
   },
   {
    "duration": 61051,
    "start_time": "2022-11-08T13:01:42.390Z"
   },
   {
    "duration": 5,
    "start_time": "2022-11-08T13:02:43.443Z"
   },
   {
    "duration": 33,
    "start_time": "2022-11-08T13:02:43.450Z"
   },
   {
    "duration": 11,
    "start_time": "2022-11-08T13:02:43.484Z"
   },
   {
    "duration": 41,
    "start_time": "2022-11-08T13:02:43.497Z"
   },
   {
    "duration": 17,
    "start_time": "2022-11-08T13:02:43.540Z"
   },
   {
    "duration": 23,
    "start_time": "2022-11-08T13:02:43.559Z"
   },
   {
    "duration": 8,
    "start_time": "2022-11-08T13:02:43.584Z"
   },
   {
    "duration": 369,
    "start_time": "2022-11-08T13:02:43.594Z"
   },
   {
    "duration": 466,
    "start_time": "2022-11-08T13:02:43.965Z"
   },
   {
    "duration": 507,
    "start_time": "2022-11-08T13:02:44.433Z"
   },
   {
    "duration": 19,
    "start_time": "2022-11-08T13:02:44.941Z"
   },
   {
    "duration": 10,
    "start_time": "2022-11-08T13:02:44.961Z"
   },
   {
    "duration": 8,
    "start_time": "2022-11-08T13:02:44.972Z"
   },
   {
    "duration": 256,
    "start_time": "2022-11-08T13:02:44.982Z"
   },
   {
    "duration": 12,
    "start_time": "2022-11-08T13:02:45.240Z"
   },
   {
    "duration": 17,
    "start_time": "2022-11-08T13:03:22.621Z"
   },
   {
    "duration": 123,
    "start_time": "2022-11-08T13:04:14.645Z"
   },
   {
    "duration": 10,
    "start_time": "2022-11-08T13:04:22.541Z"
   },
   {
    "duration": 10,
    "start_time": "2022-11-08T13:04:36.575Z"
   },
   {
    "duration": 5,
    "start_time": "2022-11-08T13:04:41.717Z"
   },
   {
    "duration": 6,
    "start_time": "2022-11-08T13:04:53.043Z"
   },
   {
    "duration": 8,
    "start_time": "2022-11-08T13:05:02.846Z"
   },
   {
    "duration": 13,
    "start_time": "2022-11-08T13:05:36.959Z"
   },
   {
    "duration": 24,
    "start_time": "2022-11-08T13:06:17.382Z"
   },
   {
    "duration": 6,
    "start_time": "2022-11-08T13:06:20.182Z"
   },
   {
    "duration": 270,
    "start_time": "2022-11-08T13:06:42.567Z"
   },
   {
    "duration": 97,
    "start_time": "2022-11-08T13:06:49.702Z"
   },
   {
    "duration": 1341,
    "start_time": "2022-11-08T13:07:23.038Z"
   },
   {
    "duration": 1516,
    "start_time": "2022-11-08T13:07:33.974Z"
   },
   {
    "duration": 85,
    "start_time": "2022-11-08T13:07:42.463Z"
   },
   {
    "duration": 1105,
    "start_time": "2022-11-08T13:07:47.390Z"
   },
   {
    "duration": 1218,
    "start_time": "2022-11-08T13:07:56.703Z"
   },
   {
    "duration": 1203,
    "start_time": "2022-11-08T13:08:16.225Z"
   },
   {
    "duration": 96,
    "start_time": "2022-11-08T13:08:33.526Z"
   },
   {
    "duration": 1197,
    "start_time": "2022-11-08T13:08:43.356Z"
   },
   {
    "duration": 11685,
    "start_time": "2022-11-08T13:09:01.888Z"
   },
   {
    "duration": 1100,
    "start_time": "2022-11-08T13:09:23.024Z"
   },
   {
    "duration": 9,
    "start_time": "2022-11-08T13:09:36.830Z"
   },
   {
    "duration": 7,
    "start_time": "2022-11-08T13:09:44.414Z"
   },
   {
    "duration": 1188,
    "start_time": "2022-11-08T13:10:22.687Z"
   },
   {
    "duration": 10,
    "start_time": "2022-11-08T13:10:42.254Z"
   },
   {
    "duration": 15,
    "start_time": "2022-11-08T13:11:01.822Z"
   },
   {
    "duration": 11,
    "start_time": "2022-11-08T13:11:05.982Z"
   },
   {
    "duration": 9,
    "start_time": "2022-11-08T13:11:06.549Z"
   },
   {
    "duration": 11733,
    "start_time": "2022-11-08T13:11:07.614Z"
   },
   {
    "duration": 578,
    "start_time": "2022-11-08T13:11:19.349Z"
   },
   {
    "duration": 204,
    "start_time": "2022-11-08T13:11:19.928Z"
   },
   {
    "duration": 12692,
    "start_time": "2022-11-08T13:11:35.567Z"
   },
   {
    "duration": 258,
    "start_time": "2022-11-08T13:11:51.745Z"
   },
   {
    "duration": 11435,
    "start_time": "2022-11-08T13:11:52.814Z"
   },
   {
    "duration": 879,
    "start_time": "2022-11-08T13:12:04.251Z"
   },
   {
    "duration": 225,
    "start_time": "2022-11-08T13:12:05.132Z"
   },
   {
    "duration": 14,
    "start_time": "2022-11-08T13:12:05.360Z"
   },
   {
    "duration": 35,
    "start_time": "2022-11-08T13:12:05.375Z"
   },
   {
    "duration": 77,
    "start_time": "2022-11-08T13:15:13.382Z"
   },
   {
    "duration": 21,
    "start_time": "2022-11-08T13:15:35.088Z"
   },
   {
    "duration": 23,
    "start_time": "2022-11-08T13:16:01.825Z"
   },
   {
    "duration": 11113,
    "start_time": "2022-11-08T16:15:57.189Z"
   },
   {
    "duration": 205,
    "start_time": "2022-11-08T16:16:08.304Z"
   },
   {
    "duration": 507,
    "start_time": "2022-11-08T16:16:08.511Z"
   },
   {
    "duration": 450,
    "start_time": "2022-11-08T16:16:09.020Z"
   },
   {
    "duration": 7,
    "start_time": "2022-11-08T16:16:09.473Z"
   },
   {
    "duration": 54,
    "start_time": "2022-11-08T16:16:09.482Z"
   },
   {
    "duration": 7,
    "start_time": "2022-11-08T16:16:09.537Z"
   },
   {
    "duration": 35,
    "start_time": "2022-11-08T16:16:09.545Z"
   },
   {
    "duration": 23,
    "start_time": "2022-11-08T16:16:09.581Z"
   },
   {
    "duration": 12,
    "start_time": "2022-11-08T16:16:09.606Z"
   },
   {
    "duration": 13,
    "start_time": "2022-11-08T16:16:09.620Z"
   },
   {
    "duration": 10,
    "start_time": "2022-11-08T16:16:09.634Z"
   },
   {
    "duration": 33,
    "start_time": "2022-11-08T16:16:09.646Z"
   },
   {
    "duration": 20,
    "start_time": "2022-11-08T16:16:09.682Z"
   },
   {
    "duration": 13,
    "start_time": "2022-11-08T16:16:09.703Z"
   },
   {
    "duration": 17,
    "start_time": "2022-11-08T16:16:09.717Z"
   },
   {
    "duration": 23,
    "start_time": "2022-11-08T16:16:09.736Z"
   },
   {
    "duration": 16,
    "start_time": "2022-11-08T16:16:09.762Z"
   },
   {
    "duration": 16,
    "start_time": "2022-11-08T16:16:09.780Z"
   },
   {
    "duration": 453,
    "start_time": "2022-11-08T16:16:09.798Z"
   },
   {
    "duration": 483,
    "start_time": "2022-11-08T16:16:10.253Z"
   },
   {
    "duration": 5618,
    "start_time": "2022-11-08T16:16:10.738Z"
   },
   {
    "duration": 5424,
    "start_time": "2022-11-08T16:16:16.358Z"
   },
   {
    "duration": 5162,
    "start_time": "2022-11-08T16:16:21.783Z"
   },
   {
    "duration": 5028,
    "start_time": "2022-11-08T16:16:26.947Z"
   },
   {
    "duration": 478,
    "start_time": "2022-11-08T16:16:31.977Z"
   },
   {
    "duration": 13,
    "start_time": "2022-11-08T16:16:32.457Z"
   },
   {
    "duration": 43,
    "start_time": "2022-11-08T16:16:32.472Z"
   },
   {
    "duration": 29,
    "start_time": "2022-11-08T16:16:32.516Z"
   },
   {
    "duration": 26,
    "start_time": "2022-11-08T16:16:32.547Z"
   },
   {
    "duration": 24,
    "start_time": "2022-11-08T16:16:32.574Z"
   },
   {
    "duration": 79,
    "start_time": "2022-11-08T16:16:32.600Z"
   },
   {
    "duration": 35,
    "start_time": "2022-11-08T16:16:32.680Z"
   },
   {
    "duration": 597,
    "start_time": "2022-11-08T16:16:32.717Z"
   },
   {
    "duration": 7,
    "start_time": "2022-11-08T16:16:33.316Z"
   },
   {
    "duration": 17,
    "start_time": "2022-11-08T16:16:33.332Z"
   },
   {
    "duration": 16,
    "start_time": "2022-11-08T16:16:33.351Z"
   },
   {
    "duration": 84,
    "start_time": "2022-11-08T16:16:33.368Z"
   },
   {
    "duration": 2,
    "start_time": "2022-11-08T16:16:33.454Z"
   },
   {
    "duration": 29,
    "start_time": "2022-11-08T16:16:33.458Z"
   },
   {
    "duration": 7,
    "start_time": "2022-11-08T16:16:33.491Z"
   },
   {
    "duration": 162,
    "start_time": "2022-11-08T16:16:33.500Z"
   },
   {
    "duration": 66739,
    "start_time": "2022-11-08T16:16:33.664Z"
   },
   {
    "duration": 6,
    "start_time": "2022-11-08T16:17:40.404Z"
   },
   {
    "duration": 30,
    "start_time": "2022-11-08T16:17:40.411Z"
   },
   {
    "duration": 24,
    "start_time": "2022-11-08T16:17:40.443Z"
   },
   {
    "duration": 26,
    "start_time": "2022-11-08T16:17:40.469Z"
   },
   {
    "duration": 12,
    "start_time": "2022-11-08T16:17:40.497Z"
   },
   {
    "duration": 48,
    "start_time": "2022-11-08T16:17:40.510Z"
   },
   {
    "duration": 18,
    "start_time": "2022-11-08T16:17:40.561Z"
   },
   {
    "duration": 436,
    "start_time": "2022-11-08T16:17:40.581Z"
   },
   {
    "duration": 531,
    "start_time": "2022-11-08T16:17:41.018Z"
   },
   {
    "duration": 489,
    "start_time": "2022-11-08T16:17:41.551Z"
   },
   {
    "duration": 32,
    "start_time": "2022-11-08T16:17:42.042Z"
   },
   {
    "duration": 9,
    "start_time": "2022-11-08T16:17:42.076Z"
   },
   {
    "duration": 26,
    "start_time": "2022-11-08T16:17:42.086Z"
   },
   {
    "duration": 279,
    "start_time": "2022-11-08T16:17:42.114Z"
   },
   {
    "duration": 13830,
    "start_time": "2022-11-08T16:17:42.395Z"
   },
   {
    "duration": 644,
    "start_time": "2022-11-08T16:17:56.232Z"
   },
   {
    "duration": 200,
    "start_time": "2022-11-08T16:17:56.878Z"
   },
   {
    "duration": 13,
    "start_time": "2022-11-08T16:17:57.079Z"
   },
   {
    "duration": 45,
    "start_time": "2022-11-08T16:17:57.093Z"
   },
   {
    "duration": 8,
    "start_time": "2022-11-08T16:27:03.209Z"
   },
   {
    "duration": 60,
    "start_time": "2022-11-08T16:28:55.961Z"
   },
   {
    "duration": 51,
    "start_time": "2022-11-08T17:50:00.381Z"
   },
   {
    "duration": 11470,
    "start_time": "2022-11-08T17:50:08.633Z"
   },
   {
    "duration": 132,
    "start_time": "2022-11-08T17:50:20.108Z"
   },
   {
    "duration": 508,
    "start_time": "2022-11-08T17:50:20.241Z"
   },
   {
    "duration": 413,
    "start_time": "2022-11-08T17:50:20.766Z"
   },
   {
    "duration": 13,
    "start_time": "2022-11-08T17:50:21.183Z"
   },
   {
    "duration": 51,
    "start_time": "2022-11-08T17:50:21.197Z"
   },
   {
    "duration": 6,
    "start_time": "2022-11-08T17:50:21.249Z"
   },
   {
    "duration": 52,
    "start_time": "2022-11-08T17:50:21.257Z"
   },
   {
    "duration": 23,
    "start_time": "2022-11-08T17:50:21.311Z"
   },
   {
    "duration": 11,
    "start_time": "2022-11-08T17:50:21.336Z"
   },
   {
    "duration": 18,
    "start_time": "2022-11-08T17:50:21.348Z"
   },
   {
    "duration": 44,
    "start_time": "2022-11-08T17:50:21.368Z"
   },
   {
    "duration": 31,
    "start_time": "2022-11-08T17:50:21.414Z"
   },
   {
    "duration": 7,
    "start_time": "2022-11-08T17:50:21.446Z"
   },
   {
    "duration": 63,
    "start_time": "2022-11-08T17:50:21.454Z"
   },
   {
    "duration": 25,
    "start_time": "2022-11-08T17:50:21.519Z"
   },
   {
    "duration": 6,
    "start_time": "2022-11-08T17:50:21.545Z"
   },
   {
    "duration": 52,
    "start_time": "2022-11-08T17:50:21.553Z"
   },
   {
    "duration": 11,
    "start_time": "2022-11-08T17:50:21.607Z"
   },
   {
    "duration": 430,
    "start_time": "2022-11-08T17:50:21.619Z"
   },
   {
    "duration": 595,
    "start_time": "2022-11-08T17:50:22.050Z"
   },
   {
    "duration": 5570,
    "start_time": "2022-11-08T17:50:22.646Z"
   },
   {
    "duration": 4993,
    "start_time": "2022-11-08T17:50:28.217Z"
   },
   {
    "duration": 5007,
    "start_time": "2022-11-08T17:50:33.211Z"
   },
   {
    "duration": 4897,
    "start_time": "2022-11-08T17:50:38.220Z"
   },
   {
    "duration": 478,
    "start_time": "2022-11-08T17:50:43.118Z"
   },
   {
    "duration": 16,
    "start_time": "2022-11-08T17:50:43.601Z"
   },
   {
    "duration": 165,
    "start_time": "2022-11-08T17:50:43.621Z"
   },
   {
    "duration": 0,
    "start_time": "2022-11-08T17:50:43.787Z"
   },
   {
    "duration": 0,
    "start_time": "2022-11-08T17:50:43.788Z"
   },
   {
    "duration": 0,
    "start_time": "2022-11-08T17:50:43.789Z"
   },
   {
    "duration": 0,
    "start_time": "2022-11-08T17:50:43.790Z"
   },
   {
    "duration": 0,
    "start_time": "2022-11-08T17:50:43.790Z"
   },
   {
    "duration": 0,
    "start_time": "2022-11-08T17:50:43.791Z"
   },
   {
    "duration": 0,
    "start_time": "2022-11-08T17:50:43.791Z"
   },
   {
    "duration": 0,
    "start_time": "2022-11-08T17:50:43.792Z"
   },
   {
    "duration": 0,
    "start_time": "2022-11-08T17:50:43.794Z"
   },
   {
    "duration": 0,
    "start_time": "2022-11-08T17:50:43.794Z"
   },
   {
    "duration": 0,
    "start_time": "2022-11-08T17:50:43.795Z"
   },
   {
    "duration": 0,
    "start_time": "2022-11-08T17:50:43.796Z"
   },
   {
    "duration": 0,
    "start_time": "2022-11-08T17:50:43.796Z"
   },
   {
    "duration": 0,
    "start_time": "2022-11-08T17:50:43.799Z"
   },
   {
    "duration": 0,
    "start_time": "2022-11-08T17:50:43.800Z"
   },
   {
    "duration": 0,
    "start_time": "2022-11-08T17:50:43.801Z"
   },
   {
    "duration": 0,
    "start_time": "2022-11-08T17:50:43.802Z"
   },
   {
    "duration": 0,
    "start_time": "2022-11-08T17:50:43.804Z"
   },
   {
    "duration": 0,
    "start_time": "2022-11-08T17:50:43.807Z"
   },
   {
    "duration": 0,
    "start_time": "2022-11-08T17:50:43.810Z"
   },
   {
    "duration": 0,
    "start_time": "2022-11-08T17:50:43.811Z"
   },
   {
    "duration": 0,
    "start_time": "2022-11-08T17:50:43.812Z"
   },
   {
    "duration": 0,
    "start_time": "2022-11-08T17:50:43.813Z"
   },
   {
    "duration": 0,
    "start_time": "2022-11-08T17:50:43.814Z"
   },
   {
    "duration": 0,
    "start_time": "2022-11-08T17:50:43.815Z"
   },
   {
    "duration": 0,
    "start_time": "2022-11-08T17:50:43.816Z"
   },
   {
    "duration": 0,
    "start_time": "2022-11-08T17:50:43.817Z"
   },
   {
    "duration": 0,
    "start_time": "2022-11-08T17:50:43.818Z"
   },
   {
    "duration": 0,
    "start_time": "2022-11-08T17:50:43.819Z"
   },
   {
    "duration": 0,
    "start_time": "2022-11-08T17:50:43.820Z"
   },
   {
    "duration": 0,
    "start_time": "2022-11-08T17:50:43.855Z"
   },
   {
    "duration": 0,
    "start_time": "2022-11-08T17:50:43.856Z"
   },
   {
    "duration": 0,
    "start_time": "2022-11-08T17:50:43.862Z"
   },
   {
    "duration": 0,
    "start_time": "2022-11-08T17:50:43.863Z"
   },
   {
    "duration": 0,
    "start_time": "2022-11-08T17:50:43.865Z"
   },
   {
    "duration": 205,
    "start_time": "2022-11-08T17:52:13.934Z"
   },
   {
    "duration": 11,
    "start_time": "2022-11-08T18:12:32.095Z"
   },
   {
    "duration": 12,
    "start_time": "2022-11-08T18:13:40.176Z"
   },
   {
    "duration": 11,
    "start_time": "2022-11-08T18:13:40.878Z"
   },
   {
    "duration": 5614,
    "start_time": "2022-11-08T18:13:46.741Z"
   },
   {
    "duration": 63,
    "start_time": "2022-11-08T18:13:52.357Z"
   },
   {
    "duration": 507,
    "start_time": "2022-11-08T18:13:52.422Z"
   },
   {
    "duration": 480,
    "start_time": "2022-11-08T18:13:52.931Z"
   },
   {
    "duration": 8,
    "start_time": "2022-11-08T18:13:53.413Z"
   },
   {
    "duration": 55,
    "start_time": "2022-11-08T18:13:53.422Z"
   },
   {
    "duration": 11,
    "start_time": "2022-11-08T18:13:53.478Z"
   },
   {
    "duration": 16,
    "start_time": "2022-11-08T18:13:53.490Z"
   },
   {
    "duration": 20,
    "start_time": "2022-11-08T18:13:53.507Z"
   },
   {
    "duration": 13,
    "start_time": "2022-11-08T18:13:53.529Z"
   },
   {
    "duration": 29,
    "start_time": "2022-11-08T18:13:53.543Z"
   },
   {
    "duration": 22,
    "start_time": "2022-11-08T18:13:53.578Z"
   },
   {
    "duration": 30,
    "start_time": "2022-11-08T18:13:53.601Z"
   },
   {
    "duration": 10,
    "start_time": "2022-11-08T18:13:53.633Z"
   },
   {
    "duration": 16,
    "start_time": "2022-11-08T18:13:53.645Z"
   },
   {
    "duration": 37,
    "start_time": "2022-11-08T18:13:53.663Z"
   },
   {
    "duration": 14,
    "start_time": "2022-11-08T18:13:53.702Z"
   },
   {
    "duration": 162,
    "start_time": "2022-11-08T18:13:53.717Z"
   },
   {
    "duration": 6,
    "start_time": "2022-11-08T18:13:53.881Z"
   },
   {
    "duration": 20,
    "start_time": "2022-11-08T18:13:53.888Z"
   },
   {
    "duration": 406,
    "start_time": "2022-11-08T18:13:53.910Z"
   },
   {
    "duration": 447,
    "start_time": "2022-11-08T18:13:54.317Z"
   },
   {
    "duration": 5235,
    "start_time": "2022-11-08T18:13:54.766Z"
   },
   {
    "duration": 4916,
    "start_time": "2022-11-08T18:14:00.002Z"
   },
   {
    "duration": 4900,
    "start_time": "2022-11-08T18:14:04.920Z"
   },
   {
    "duration": 4810,
    "start_time": "2022-11-08T18:14:09.821Z"
   },
   {
    "duration": 503,
    "start_time": "2022-11-08T18:14:14.633Z"
   },
   {
    "duration": 24,
    "start_time": "2022-11-08T18:14:15.139Z"
   },
   {
    "duration": 48,
    "start_time": "2022-11-08T18:14:15.165Z"
   },
   {
    "duration": 7,
    "start_time": "2022-11-08T18:14:15.214Z"
   },
   {
    "duration": 9,
    "start_time": "2022-11-08T18:14:15.222Z"
   },
   {
    "duration": 11,
    "start_time": "2022-11-08T18:14:15.232Z"
   },
   {
    "duration": 7,
    "start_time": "2022-11-08T18:14:15.244Z"
   },
   {
    "duration": 49,
    "start_time": "2022-11-08T18:14:15.252Z"
   },
   {
    "duration": 633,
    "start_time": "2022-11-08T18:14:15.303Z"
   },
   {
    "duration": 11,
    "start_time": "2022-11-08T18:14:15.938Z"
   },
   {
    "duration": 43,
    "start_time": "2022-11-08T18:14:15.950Z"
   },
   {
    "duration": 6,
    "start_time": "2022-11-08T18:14:15.994Z"
   },
   {
    "duration": 84,
    "start_time": "2022-11-08T18:14:16.001Z"
   },
   {
    "duration": 2,
    "start_time": "2022-11-08T18:14:16.087Z"
   },
   {
    "duration": 23,
    "start_time": "2022-11-08T18:14:16.090Z"
   },
   {
    "duration": 6,
    "start_time": "2022-11-08T18:14:16.114Z"
   },
   {
    "duration": 157,
    "start_time": "2022-11-08T18:14:16.122Z"
   },
   {
    "duration": 63650,
    "start_time": "2022-11-08T18:14:16.281Z"
   },
   {
    "duration": 5,
    "start_time": "2022-11-08T18:15:19.932Z"
   },
   {
    "duration": 50,
    "start_time": "2022-11-08T18:15:19.939Z"
   },
   {
    "duration": 4,
    "start_time": "2022-11-08T18:15:19.991Z"
   },
   {
    "duration": 13,
    "start_time": "2022-11-08T18:15:19.997Z"
   },
   {
    "duration": 5,
    "start_time": "2022-11-08T18:15:20.012Z"
   },
   {
    "duration": 15,
    "start_time": "2022-11-08T18:15:20.019Z"
   },
   {
    "duration": 6,
    "start_time": "2022-11-08T18:15:20.035Z"
   },
   {
    "duration": 340,
    "start_time": "2022-11-08T18:15:20.043Z"
   },
   {
    "duration": 439,
    "start_time": "2022-11-08T18:15:20.386Z"
   },
   {
    "duration": 481,
    "start_time": "2022-11-08T18:15:20.827Z"
   },
   {
    "duration": 23,
    "start_time": "2022-11-08T18:15:21.310Z"
   },
   {
    "duration": 34,
    "start_time": "2022-11-08T18:15:21.334Z"
   },
   {
    "duration": 19,
    "start_time": "2022-11-08T18:15:21.373Z"
   },
   {
    "duration": 215,
    "start_time": "2022-11-08T18:15:21.394Z"
   },
   {
    "duration": 11759,
    "start_time": "2022-11-08T18:15:21.611Z"
   },
   {
    "duration": 511,
    "start_time": "2022-11-08T18:15:33.373Z"
   },
   {
    "duration": 210,
    "start_time": "2022-11-08T18:15:33.886Z"
   },
   {
    "duration": 10,
    "start_time": "2022-11-08T18:15:34.098Z"
   },
   {
    "duration": 15,
    "start_time": "2022-11-08T18:15:34.109Z"
   },
   {
    "duration": 8,
    "start_time": "2022-11-08T18:15:34.126Z"
   },
   {
    "duration": 30,
    "start_time": "2022-11-08T18:15:34.135Z"
   },
   {
    "duration": 334,
    "start_time": "2022-11-08T18:16:05.367Z"
   },
   {
    "duration": 439,
    "start_time": "2022-11-08T18:16:55.856Z"
   },
   {
    "duration": 478,
    "start_time": "2022-11-08T18:16:58.315Z"
   },
   {
    "duration": 307,
    "start_time": "2022-11-08T18:17:29.695Z"
   },
   {
    "duration": 306,
    "start_time": "2022-11-08T18:17:39.989Z"
   },
   {
    "duration": 420,
    "start_time": "2022-11-08T18:17:46.303Z"
   },
   {
    "duration": 482,
    "start_time": "2022-11-08T18:18:00.149Z"
   },
   {
    "duration": 8,
    "start_time": "2022-11-08T18:18:17.347Z"
   },
   {
    "duration": 18,
    "start_time": "2022-11-08T18:18:19.874Z"
   },
   {
    "duration": 200,
    "start_time": "2022-11-08T18:23:06.409Z"
   },
   {
    "duration": 18,
    "start_time": "2022-11-08T18:23:20.780Z"
   },
   {
    "duration": 16,
    "start_time": "2022-11-08T18:23:28.823Z"
   },
   {
    "duration": 243,
    "start_time": "2022-11-08T18:24:40.168Z"
   },
   {
    "duration": 475,
    "start_time": "2022-11-08T18:30:06.553Z"
   },
   {
    "duration": 5337,
    "start_time": "2022-11-08T18:30:07.030Z"
   },
   {
    "duration": 4927,
    "start_time": "2022-11-08T18:30:12.369Z"
   },
   {
    "duration": 5150,
    "start_time": "2022-11-08T18:30:17.298Z"
   },
   {
    "duration": 5434,
    "start_time": "2022-11-08T18:30:22.455Z"
   },
   {
    "duration": 450,
    "start_time": "2022-11-08T18:30:27.890Z"
   },
   {
    "duration": 26,
    "start_time": "2022-11-08T18:30:28.342Z"
   },
   {
    "duration": 42,
    "start_time": "2022-11-08T18:30:28.369Z"
   },
   {
    "duration": 6,
    "start_time": "2022-11-08T18:30:28.413Z"
   },
   {
    "duration": 15,
    "start_time": "2022-11-08T18:30:28.421Z"
   },
   {
    "duration": 4,
    "start_time": "2022-11-08T18:30:28.439Z"
   },
   {
    "duration": 5,
    "start_time": "2022-11-08T18:30:28.445Z"
   },
   {
    "duration": 13,
    "start_time": "2022-11-08T18:30:28.452Z"
   },
   {
    "duration": 576,
    "start_time": "2022-11-08T18:30:28.467Z"
   },
   {
    "duration": 5691,
    "start_time": "2022-11-08T18:32:29.113Z"
   },
   {
    "duration": 44,
    "start_time": "2022-11-08T18:32:34.805Z"
   },
   {
    "duration": 474,
    "start_time": "2022-11-08T18:32:34.850Z"
   },
   {
    "duration": 480,
    "start_time": "2022-11-08T18:32:35.326Z"
   },
   {
    "duration": 7,
    "start_time": "2022-11-08T18:32:35.808Z"
   },
   {
    "duration": 54,
    "start_time": "2022-11-08T18:32:35.817Z"
   },
   {
    "duration": 10,
    "start_time": "2022-11-08T18:32:35.874Z"
   },
   {
    "duration": 21,
    "start_time": "2022-11-08T18:32:35.886Z"
   },
   {
    "duration": 20,
    "start_time": "2022-11-08T18:32:35.909Z"
   },
   {
    "duration": 11,
    "start_time": "2022-11-08T18:32:35.931Z"
   },
   {
    "duration": 17,
    "start_time": "2022-11-08T18:32:35.943Z"
   },
   {
    "duration": 32,
    "start_time": "2022-11-08T18:32:35.962Z"
   },
   {
    "duration": 29,
    "start_time": "2022-11-08T18:32:35.996Z"
   },
   {
    "duration": 7,
    "start_time": "2022-11-08T18:32:36.027Z"
   },
   {
    "duration": 12,
    "start_time": "2022-11-08T18:32:36.035Z"
   },
   {
    "duration": 5,
    "start_time": "2022-11-08T18:32:36.049Z"
   },
   {
    "duration": 39,
    "start_time": "2022-11-08T18:32:36.055Z"
   },
   {
    "duration": 116,
    "start_time": "2022-11-08T18:32:36.096Z"
   },
   {
    "duration": 4,
    "start_time": "2022-11-08T18:32:36.214Z"
   },
   {
    "duration": 11,
    "start_time": "2022-11-08T18:32:36.219Z"
   },
   {
    "duration": 452,
    "start_time": "2022-11-08T18:32:36.232Z"
   },
   {
    "duration": 445,
    "start_time": "2022-11-08T18:32:36.686Z"
   },
   {
    "duration": 5340,
    "start_time": "2022-11-08T18:32:37.133Z"
   },
   {
    "duration": 4941,
    "start_time": "2022-11-08T18:32:42.479Z"
   },
   {
    "duration": 4915,
    "start_time": "2022-11-08T18:32:47.422Z"
   },
   {
    "duration": 5014,
    "start_time": "2022-11-08T18:32:52.339Z"
   },
   {
    "duration": 479,
    "start_time": "2022-11-08T18:32:57.355Z"
   },
   {
    "duration": 22,
    "start_time": "2022-11-08T18:32:57.838Z"
   },
   {
    "duration": 30,
    "start_time": "2022-11-08T18:32:57.862Z"
   },
   {
    "duration": 6,
    "start_time": "2022-11-08T18:32:57.894Z"
   },
   {
    "duration": 6,
    "start_time": "2022-11-08T18:32:57.901Z"
   },
   {
    "duration": 4,
    "start_time": "2022-11-08T18:32:57.909Z"
   },
   {
    "duration": 6,
    "start_time": "2022-11-08T18:32:57.914Z"
   },
   {
    "duration": 6,
    "start_time": "2022-11-08T18:32:57.921Z"
   },
   {
    "duration": 591,
    "start_time": "2022-11-08T18:32:57.929Z"
   },
   {
    "duration": 7,
    "start_time": "2022-11-08T18:32:58.522Z"
   },
   {
    "duration": 8,
    "start_time": "2022-11-08T18:32:58.530Z"
   },
   {
    "duration": 17,
    "start_time": "2022-11-08T18:32:58.540Z"
   },
   {
    "duration": 126,
    "start_time": "2022-11-08T18:32:58.559Z"
   },
   {
    "duration": 3,
    "start_time": "2022-11-08T18:32:58.686Z"
   },
   {
    "duration": 22,
    "start_time": "2022-11-08T18:32:58.690Z"
   },
   {
    "duration": 6,
    "start_time": "2022-11-08T18:32:58.713Z"
   },
   {
    "duration": 153,
    "start_time": "2022-11-08T18:32:58.721Z"
   },
   {
    "duration": 63330,
    "start_time": "2022-11-08T18:32:58.876Z"
   },
   {
    "duration": 5,
    "start_time": "2022-11-08T18:34:02.208Z"
   },
   {
    "duration": 19,
    "start_time": "2022-11-08T18:34:02.215Z"
   },
   {
    "duration": 15,
    "start_time": "2022-11-08T18:34:02.236Z"
   },
   {
    "duration": 38,
    "start_time": "2022-11-08T18:34:02.252Z"
   },
   {
    "duration": 3,
    "start_time": "2022-11-08T18:34:02.293Z"
   },
   {
    "duration": 14,
    "start_time": "2022-11-08T18:34:02.298Z"
   },
   {
    "duration": 2,
    "start_time": "2022-11-08T18:34:02.313Z"
   },
   {
    "duration": 364,
    "start_time": "2022-11-08T18:34:02.316Z"
   },
   {
    "duration": 452,
    "start_time": "2022-11-08T18:34:02.682Z"
   },
   {
    "duration": 470,
    "start_time": "2022-11-08T18:34:03.136Z"
   },
   {
    "duration": 19,
    "start_time": "2022-11-08T18:34:03.608Z"
   },
   {
    "duration": 7,
    "start_time": "2022-11-08T18:34:03.628Z"
   },
   {
    "duration": 28,
    "start_time": "2022-11-08T18:34:03.637Z"
   },
   {
    "duration": 238,
    "start_time": "2022-11-08T18:34:03.666Z"
   },
   {
    "duration": 11728,
    "start_time": "2022-11-08T18:34:03.906Z"
   },
   {
    "duration": 531,
    "start_time": "2022-11-08T18:34:15.635Z"
   },
   {
    "duration": 212,
    "start_time": "2022-11-08T18:34:16.168Z"
   },
   {
    "duration": 13,
    "start_time": "2022-11-08T18:34:16.385Z"
   },
   {
    "duration": 15,
    "start_time": "2022-11-08T18:34:16.400Z"
   },
   {
    "duration": 7,
    "start_time": "2022-11-08T18:34:16.417Z"
   },
   {
    "duration": 37,
    "start_time": "2022-11-08T18:34:16.425Z"
   },
   {
    "duration": 11896,
    "start_time": "2022-11-08T18:57:23.813Z"
   },
   {
    "duration": 519,
    "start_time": "2022-11-08T18:57:57.073Z"
   },
   {
    "duration": 495,
    "start_time": "2022-11-08T18:58:14.672Z"
   },
   {
    "duration": 586,
    "start_time": "2022-11-08T18:58:20.205Z"
   },
   {
    "duration": 194,
    "start_time": "2022-11-08T18:58:24.395Z"
   },
   {
    "duration": 12024,
    "start_time": "2022-11-08T18:58:52.172Z"
   },
   {
    "duration": 195,
    "start_time": "2022-11-08T19:00:18.780Z"
   },
   {
    "duration": 3,
    "start_time": "2022-11-08T19:01:27.723Z"
   },
   {
    "duration": 266,
    "start_time": "2022-11-08T19:01:59.807Z"
   },
   {
    "duration": 153,
    "start_time": "2022-11-08T19:02:05.251Z"
   },
   {
    "duration": 13,
    "start_time": "2022-11-08T19:02:10.155Z"
   },
   {
    "duration": 143,
    "start_time": "2022-11-08T19:02:10.375Z"
   },
   {
    "duration": 117,
    "start_time": "2022-11-08T19:02:16.412Z"
   },
   {
    "duration": 90,
    "start_time": "2022-11-08T19:02:46.420Z"
   },
   {
    "duration": 351,
    "start_time": "2022-11-08T19:02:51.484Z"
   },
   {
    "duration": 117,
    "start_time": "2022-11-08T19:02:58.732Z"
   },
   {
    "duration": 8,
    "start_time": "2022-11-08T19:03:04.652Z"
   },
   {
    "duration": 118,
    "start_time": "2022-11-08T19:03:05.299Z"
   },
   {
    "duration": 112,
    "start_time": "2022-11-08T19:03:33.269Z"
   },
   {
    "duration": 98,
    "start_time": "2022-11-08T19:03:42.875Z"
   },
   {
    "duration": 100,
    "start_time": "2022-11-08T19:03:55.396Z"
   },
   {
    "duration": 13,
    "start_time": "2022-11-08T19:04:03.731Z"
   },
   {
    "duration": 11,
    "start_time": "2022-11-08T19:04:23.092Z"
   },
   {
    "duration": 14,
    "start_time": "2022-11-08T19:04:26.133Z"
   },
   {
    "duration": 15,
    "start_time": "2022-11-08T19:04:31.079Z"
   },
   {
    "duration": 4043,
    "start_time": "2022-11-08T19:04:41.494Z"
   },
   {
    "duration": 5631,
    "start_time": "2022-11-08T19:04:47.497Z"
   },
   {
    "duration": 53,
    "start_time": "2022-11-08T19:04:53.130Z"
   },
   {
    "duration": 454,
    "start_time": "2022-11-08T19:04:53.186Z"
   },
   {
    "duration": 455,
    "start_time": "2022-11-08T19:04:53.642Z"
   },
   {
    "duration": 8,
    "start_time": "2022-11-08T19:04:54.099Z"
   },
   {
    "duration": 46,
    "start_time": "2022-11-08T19:04:54.109Z"
   },
   {
    "duration": 8,
    "start_time": "2022-11-08T19:04:54.157Z"
   },
   {
    "duration": 32,
    "start_time": "2022-11-08T19:04:54.166Z"
   },
   {
    "duration": 19,
    "start_time": "2022-11-08T19:04:54.200Z"
   },
   {
    "duration": 11,
    "start_time": "2022-11-08T19:04:54.221Z"
   },
   {
    "duration": 16,
    "start_time": "2022-11-08T19:04:54.233Z"
   },
   {
    "duration": 40,
    "start_time": "2022-11-08T19:04:54.250Z"
   },
   {
    "duration": 32,
    "start_time": "2022-11-08T19:04:54.291Z"
   },
   {
    "duration": 9,
    "start_time": "2022-11-08T19:04:54.324Z"
   },
   {
    "duration": 20,
    "start_time": "2022-11-08T19:04:54.334Z"
   },
   {
    "duration": 26,
    "start_time": "2022-11-08T19:04:54.360Z"
   },
   {
    "duration": 9,
    "start_time": "2022-11-08T19:04:54.387Z"
   },
   {
    "duration": 121,
    "start_time": "2022-11-08T19:04:54.397Z"
   },
   {
    "duration": 4,
    "start_time": "2022-11-08T19:04:54.522Z"
   },
   {
    "duration": 11,
    "start_time": "2022-11-08T19:04:54.528Z"
   },
   {
    "duration": 424,
    "start_time": "2022-11-08T19:04:54.540Z"
   },
   {
    "duration": 467,
    "start_time": "2022-11-08T19:04:54.969Z"
   },
   {
    "duration": 5462,
    "start_time": "2022-11-08T19:04:55.437Z"
   },
   {
    "duration": 5029,
    "start_time": "2022-11-08T19:05:00.901Z"
   },
   {
    "duration": 4891,
    "start_time": "2022-11-08T19:05:05.931Z"
   },
   {
    "duration": 4824,
    "start_time": "2022-11-08T19:05:10.824Z"
   },
   {
    "duration": 483,
    "start_time": "2022-11-08T19:05:15.655Z"
   },
   {
    "duration": 19,
    "start_time": "2022-11-08T19:05:16.143Z"
   },
   {
    "duration": 62,
    "start_time": "2022-11-08T19:05:16.163Z"
   },
   {
    "duration": 6,
    "start_time": "2022-11-08T19:05:16.227Z"
   },
   {
    "duration": 13,
    "start_time": "2022-11-08T19:05:16.235Z"
   },
   {
    "duration": 34,
    "start_time": "2022-11-08T19:05:16.249Z"
   },
   {
    "duration": 14,
    "start_time": "2022-11-08T19:05:16.286Z"
   },
   {
    "duration": 9,
    "start_time": "2022-11-08T19:05:16.301Z"
   },
   {
    "duration": 625,
    "start_time": "2022-11-08T19:05:16.311Z"
   },
   {
    "duration": 7,
    "start_time": "2022-11-08T19:05:16.937Z"
   },
   {
    "duration": 52,
    "start_time": "2022-11-08T19:05:16.946Z"
   },
   {
    "duration": 3,
    "start_time": "2022-11-08T19:05:17.000Z"
   },
   {
    "duration": 118,
    "start_time": "2022-11-08T19:05:17.005Z"
   },
   {
    "duration": 2,
    "start_time": "2022-11-08T19:05:17.125Z"
   },
   {
    "duration": 22,
    "start_time": "2022-11-08T19:05:17.128Z"
   },
   {
    "duration": 16,
    "start_time": "2022-11-08T19:05:17.151Z"
   },
   {
    "duration": 190,
    "start_time": "2022-11-08T19:05:17.168Z"
   },
   {
    "duration": 64288,
    "start_time": "2022-11-08T19:05:17.359Z"
   },
   {
    "duration": 15,
    "start_time": "2022-11-08T19:06:21.649Z"
   },
   {
    "duration": 36,
    "start_time": "2022-11-08T19:06:21.666Z"
   },
   {
    "duration": 3,
    "start_time": "2022-11-08T19:06:21.703Z"
   },
   {
    "duration": 11,
    "start_time": "2022-11-08T19:06:21.708Z"
   },
   {
    "duration": 4,
    "start_time": "2022-11-08T19:06:21.720Z"
   },
   {
    "duration": 11,
    "start_time": "2022-11-08T19:06:21.725Z"
   },
   {
    "duration": 2,
    "start_time": "2022-11-08T19:06:21.737Z"
   },
   {
    "duration": 363,
    "start_time": "2022-11-08T19:06:21.740Z"
   },
   {
    "duration": 468,
    "start_time": "2022-11-08T19:06:22.105Z"
   },
   {
    "duration": 510,
    "start_time": "2022-11-08T19:06:22.578Z"
   },
   {
    "duration": 31,
    "start_time": "2022-11-08T19:06:23.090Z"
   },
   {
    "duration": 7,
    "start_time": "2022-11-08T19:06:23.123Z"
   },
   {
    "duration": 18,
    "start_time": "2022-11-08T19:06:23.131Z"
   },
   {
    "duration": 241,
    "start_time": "2022-11-08T19:06:23.150Z"
   },
   {
    "duration": 11328,
    "start_time": "2022-11-08T19:06:23.393Z"
   },
   {
    "duration": 472,
    "start_time": "2022-11-08T19:06:34.724Z"
   },
   {
    "duration": 259,
    "start_time": "2022-11-08T19:06:35.198Z"
   },
   {
    "duration": 14,
    "start_time": "2022-11-08T19:06:35.459Z"
   },
   {
    "duration": 36,
    "start_time": "2022-11-08T19:06:35.474Z"
   },
   {
    "duration": 9,
    "start_time": "2022-11-08T19:06:35.512Z"
   },
   {
    "duration": 122,
    "start_time": "2022-11-08T19:06:35.522Z"
   },
   {
    "duration": 104,
    "start_time": "2022-11-08T19:06:35.646Z"
   },
   {
    "duration": 111,
    "start_time": "2022-11-08T19:06:35.752Z"
   },
   {
    "duration": 19,
    "start_time": "2022-11-08T19:06:35.865Z"
   }
  ],
  "colab": {
   "collapsed_sections": [
    "WScOpemDA2LE",
    "tQ5QIMJBdTkI",
    "IxHYSflG0gdY"
   ],
   "provenance": []
  },
  "kernelspec": {
   "display_name": "Python 3 (ipykernel)",
   "language": "python",
   "name": "python3"
  },
  "language_info": {
   "codemirror_mode": {
    "name": "ipython",
    "version": 3
   },
   "file_extension": ".py",
   "mimetype": "text/x-python",
   "name": "python",
   "nbconvert_exporter": "python",
   "pygments_lexer": "ipython3",
   "version": "3.9.5"
  },
  "toc": {
   "base_numbering": 1,
   "nav_menu": {},
   "number_sections": true,
   "sideBar": true,
   "skip_h1_title": true,
   "title_cell": "Table of Contents",
   "title_sidebar": "Contents",
   "toc_cell": false,
   "toc_position": {},
   "toc_section_display": true,
   "toc_window_display": true
  }
 },
 "nbformat": 4,
 "nbformat_minor": 1
}
